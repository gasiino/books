{
 "metadata": {
  "name": "",
  "signature": "sha256:51c58f272c138cc17f5a197e0115bb7d295fbed9240ae99a14e566b2e58ebd43"
 },
 "nbformat": 3,
 "nbformat_minor": 0,
 "worksheets": [
  {
   "cells": [
    {
     "cell_type": "heading",
     "level": 1,
     "metadata": {},
     "source": [
      "Two-way ANOVA"
     ]
    },
    {
     "cell_type": "markdown",
     "metadata": {},
     "source": [
      "ANOVA with interaction: \n",
      "\n",
      "*Measurement of fetal head circumference, by four observers in three fetuses, from a study investigating the\n",
      "reproducibility of ultrasonic fetal head circumference data.*\n",
      "\n",
      "Author:  Thomas Haslwanter, Date:    June-2014"
     ]
    },
    {
     "cell_type": "code",
     "collapsed": false,
     "input": [
      "%pylab inline\n",
      "import pandas as pd\n",
      "import urllib\n",
      "from statsmodels.formula.api import ols\n",
      "from statsmodels.stats.anova import anova_lm"
     ],
     "language": "python",
     "metadata": {},
     "outputs": [
      {
       "output_type": "stream",
       "stream": "stdout",
       "text": [
        "Populating the interactive namespace from numpy and matplotlib\n"
       ]
      }
     ],
     "prompt_number": 1
    },
    {
     "cell_type": "heading",
     "level": 2,
     "metadata": {},
     "source": [
      "Get and format the data"
     ]
    },
    {
     "cell_type": "code",
     "collapsed": false,
     "input": [
      "inFile = 'altman_12_6.txt'\n",
      "url_base = 'https://raw.github.com/thomas-haslwanter/statsintro/master/Data/data_altman/'\n",
      "url = url_base + inFile\n",
      "data = genfromtxt(urllib.request.urlopen(url), delimiter=',')\n",
      "\n",
      "# Bring them in dataframe-format\n",
      "df = pd.DataFrame(data, columns=['hs', 'fetus', 'observer'])"
     ],
     "language": "python",
     "metadata": {},
     "outputs": [],
     "prompt_number": 2
    },
    {
     "cell_type": "heading",
     "level": 2,
     "metadata": {},
     "source": [
      "ANOVA with interaction"
     ]
    },
    {
     "cell_type": "code",
     "collapsed": false,
     "input": [
      "formula = 'hs ~ C(fetus) + C(observer) + C(fetus):C(observer)'\n",
      "lm = ols(formula, df).fit()\n",
      "print(anova_lm(lm))"
     ],
     "language": "python",
     "metadata": {},
     "outputs": [
      {
       "output_type": "stream",
       "stream": "stdout",
       "text": [
        "                      df      sum_sq     mean_sq            F        PR(>F)\n",
        "C(fetus)               2  324.008889  162.004444  2113.101449  1.051039e-27\n",
        "C(observer)            3    1.198611    0.399537     5.211353  6.497055e-03\n",
        "C(fetus):C(observer)   6    0.562222    0.093704     1.222222  3.295509e-01\n",
        "Residual              24    1.840000    0.076667          NaN           NaN\n",
        "\n",
        "[4 rows x 5 columns]\n"
       ]
      }
     ],
     "prompt_number": 3
    }
   ],
   "metadata": {}
  }
 ]
}