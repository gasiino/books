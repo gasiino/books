{
 "metadata": {
  "name": "",
  "signature": "sha256:bb14de0bb479bdbbcc58e23b9a3e8e3b63ba0abcfb2760ceec08b5c170e82485"
 },
 "nbformat": 3,
 "nbformat_minor": 0,
 "worksheets": [
  {
   "cells": [
    {
     "cell_type": "heading",
     "level": 1,
     "metadata": {},
     "source": [
      "Introductions into using \"statsmodels\" and \"Pandas\"\n"
     ]
    },
    {
     "cell_type": "markdown",
     "metadata": {},
     "source": [
      "*pandas* has quickly become almost a standard for working with structured data in Python. It often makes code much clearer to\n",
      "read, and it also offers powerful tools for simple import and export of data.\n",
      "\n",
      "*statsmodels* is an advanced package for statistical modeling with Python. Here we will only touch the surface of its extensive functionality. A more extensive introduction is available under\n",
      "http://nbviewer.ipython.org/gist/vincentarelbundock/3485014\n",
      "\n",
      "Author : Thomas Haslwanter, June 2013"
     ]
    },
    {
     "cell_type": "code",
     "collapsed": false,
     "input": [
      "import numpy as np\n",
      "import pandas as pd\n",
      "from scipy import stats\n",
      "import statsmodels.formula.api as sm\n",
      "import sys\n",
      "if sys.version_info[0] == 3:\n",
      "    from urllib.request import urlopen\n",
      "else:\n",
      "    from urllib import urlopen"
     ],
     "language": "python",
     "metadata": {},
     "outputs": [],
     "prompt_number": 21
    },
    {
     "cell_type": "heading",
     "level": 2,
     "metadata": {},
     "source": [
      "Example: Linear regression fit"
     ]
    },
    {
     "cell_type": "code",
     "collapsed": false,
     "input": [
      "# To get reproducable values, I provide a seed value\n",
      "np.random.seed(987654321)   \n",
      "\n",
      "# Generate a noisy line\n",
      "x = np.arange(100)\n",
      "y = 0.5*x - 20 + np.random.randn(len(x))\n",
      "df = pd.DataFrame({'x':x, 'y':y})\n",
      "\n",
      "# Fit a linear model ...\n",
      "# Note the formula language used to denote the relationship between \"x\" and \"y\"\n",
      "model = sm.ols('y~x', data=df).fit()\n",
      "\n",
      "# ... and print an extensive summary of the fit results and model properties\n",
      "print((model.summary()))"
     ],
     "language": "python",
     "metadata": {},
     "outputs": [
      {
       "output_type": "stream",
       "stream": "stdout",
       "text": [
        "                            OLS Regression Results                            \n",
        "==============================================================================\n",
        "Dep. Variable:                      y   R-squared:                       0.995\n",
        "Model:                            OLS   Adj. R-squared:                  0.995\n",
        "Method:                 Least Squares   F-statistic:                 1.819e+04\n",
        "Date:                Sun, 01 Jun 2014   Prob (F-statistic):          4.31e-113\n",
        "Time:                        09:18:56   Log-Likelihood:                -147.60\n",
        "No. Observations:                 100   AIC:                             299.2\n",
        "Df Residuals:                      98   BIC:                             304.4\n",
        "Df Model:                           1                                         \n",
        "==============================================================================\n",
        "                 coef    std err          t      P>|t|      [95.0% Conf. Int.]\n",
        "------------------------------------------------------------------------------\n",
        "Intercept    -19.9742      0.212    -94.083      0.000       -20.396   -19.553\n",
        "x              0.4996      0.004    134.857      0.000         0.492     0.507\n",
        "==============================================================================\n",
        "Omnibus:                        1.158   Durbin-Watson:                   2.037\n",
        "Prob(Omnibus):                  0.560   Jarque-Bera (JB):                1.038\n",
        "Skew:                          -0.030   Prob(JB):                        0.595\n",
        "Kurtosis:                       2.504   Cond. No.                         114.\n",
        "==============================================================================\n"
       ]
      }
     ],
     "prompt_number": 22
    },
    {
     "cell_type": "heading",
     "level": 2,
     "metadata": {},
     "source": [
      "Example from Altman \"Practical statistics for medical research"
     ]
    },
    {
     "cell_type": "markdown",
     "metadata": {},
     "source": [
      "Here I just show how to bring data into the *pandas* format, and how to use its object oriented notation:"
     ]
    },
    {
     "cell_type": "code",
     "collapsed": false,
     "input": [
      "# Get the data\n",
      "inFile = 'altman_94.txt'\n",
      "url_base = 'https://raw.githubusercontent.com/thomas-haslwanter/statsintro/master/Data/data_altman/'\n",
      "url = url_base + inFile\n",
      "data = genfromtxt(urlopen(url), delimiter=',')"
     ],
     "language": "python",
     "metadata": {},
     "outputs": [],
     "prompt_number": 23
    },
    {
     "cell_type": "code",
     "collapsed": false,
     "input": [
      "# Bring them into pandas format\n",
      "lean = pd.Series(data[data[:,1]==1,0])\n",
      "obese = pd.Series(data[data[:,1]==0,0])\n",
      "\n",
      "df = pd.DataFrame({'lean':lean, 'obese':obese})\n",
      "\n"
     ],
     "language": "python",
     "metadata": {},
     "outputs": [],
     "prompt_number": 24
    },
    {
     "cell_type": "code",
     "collapsed": false,
     "input": [
      "# Calculate the mean, and show a boxplot\n",
      "print(df.mean())\n",
      "\n",
      "# Note that by using data-frames, the display can get automatically labelled correctly\n",
      "# - also for the next plot\n",
      "df.boxplot()\n",
      "\n",
      "stats.ttest_ind(lean, obese)"
     ],
     "language": "python",
     "metadata": {},
     "outputs": [
      {
       "output_type": "stream",
       "stream": "stdout",
       "text": [
        "lean      8.066154\n",
        "obese    10.297778\n",
        "dtype: float64\n"
       ]
      },
      {
       "metadata": {},
       "output_type": "pyout",
       "prompt_number": 25,
       "text": [
        "(array(-3.9455649161549866), 0.00079899821117005343)"
       ]
      },
      {
       "metadata": {},
       "output_type": "display_data",
       "png": "[encoded data removed]",
       "text": [
        "<matplotlib.figure.Figure at 0x9a41b70>"
       ]
      }
     ],
     "prompt_number": 25
    }
   ],
   "metadata": {}
  }
 ]
}