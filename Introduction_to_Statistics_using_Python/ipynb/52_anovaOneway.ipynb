{
 "metadata": {
  "name": "",
  "signature": "sha256:bd089d90f8822692fca3bd3f2eea22e94c9aebd23d1d868dc6149b71242dcc0a"
 },
 "nbformat": 3,
 "nbformat_minor": 0,
 "worksheets": [
  {
   "cells": [
    {
     "cell_type": "heading",
     "level": 1,
     "metadata": {},
     "source": [
      "One-way ANOVA"
     ]
    },
    {
     "cell_type": "markdown",
     "metadata": {},
     "source": [
      "For the one-way ANOVA, you can use either the function in \"scipy.stats\". Alternatively, you can use the \"statsmodel\" tools: they provide more, and nicer formatted, information.\n",
      "\n",
      "Author:  Thomas Haslwanter, Date:    June-2014"
     ]
    },
    {
     "cell_type": "code",
     "collapsed": false,
     "input": [
      "%pylab inline\n",
      "import scipy.stats as stats\n",
      "import pandas as pd\n",
      "import urllib\n",
      "from statsmodels.formula.api import ols\n",
      "from statsmodels.stats.anova import anova_lm\n",
      "import seaborn as sns"
     ],
     "language": "python",
     "metadata": {},
     "outputs": [
      {
       "output_type": "stream",
       "stream": "stdout",
       "text": [
        "Populating the interactive namespace from numpy and matplotlib\n"
       ]
      }
     ],
     "prompt_number": 2
    },
    {
     "cell_type": "heading",
     "level": 1,
     "metadata": {},
     "source": [
      "The importance of the variance"
     ]
    },
    {
     "cell_type": "code",
     "collapsed": false,
     "input": [
      "centers = [5, 5.3, 4.7]\n",
      "std1 = 0.1\n",
      "colors = 'brg'\n",
      "\n",
      "data1 = []\n",
      "for ii in range(3):\n",
      "    data1.append(stats.norm(centers[ii], std1).rvs(100))\n",
      "    plot(arange(len(data1[ii]))+ii*len(data1[0]), data1[ii], '.', color=colors[ii])"
     ],
     "language": "python",
     "metadata": {},
     "outputs": [
      {
       "metadata": {},
       "output_type": "display_data",
       "png": "[encoded data removed]",
       "text": [
        "<matplotlib.figure.Figure at 0x7fc8e10>"
       ]
      }
     ],
     "prompt_number": 16
    },
    {
     "cell_type": "code",
     "collapsed": false,
     "input": [
      "std2 = 2\n",
      "data2 = []\n",
      "for ii in range(3):\n",
      "    data2.append(stats.norm(centers[ii], std2).rvs(100))\n",
      "    plot(arange(len(data1[ii]))+ii*len(data2[0]), data2[ii], '.', color=colors[ii])"
     ],
     "language": "python",
     "metadata": {},
     "outputs": [
      {
       "metadata": {},
       "output_type": "display_data",
       "png": "[encoded data removed]",
       "text": [
        "<matplotlib.figure.Figure at 0x82d62b0>"
       ]
      }
     ],
     "prompt_number": 18
    },
    {
     "cell_type": "markdown",
     "metadata": {},
     "source": [
      "**Note:** In both cases the means have the same difference, but the variance is much larger in data2!"
     ]
    },
    {
     "cell_type": "heading",
     "level": 3,
     "metadata": {},
     "source": [
      "Get and sort sample data"
     ]
    },
    {
     "cell_type": "markdown",
     "metadata": {},
     "source": [
      "*Twenty-two patients undergoing cardiac bypass surgery were randomized to one of three ventilation groups:*\n",
      "    \n",
      "  - *Group I: Patients received 50% nitrous oxide and 50% oxygen mixture continuously for 24 h.*\n",
      "  - *Group II: Patients received a 50% nitrous oxide and 50% oxygen mixture only dirng the operation.*\n",
      "  - *Group III: Patients received no nitrous oxide but received 35-50% oxygen for 24 h.*\n",
      "    \n",
      "*The data show red cell folate levels for the three groups after 24h' ventilation.*"
     ]
    },
    {
     "cell_type": "code",
     "collapsed": false,
     "input": [
      "# Get the data\n",
      "inFile = 'altman_910.txt'\n",
      "url_base = 'https://raw.githubusercontent.com/thomas-haslwanter/statsintro/master/Data/data_altman/'\n",
      "\n",
      "url = url_base + inFile\n",
      "data = genfromtxt(urllib.request.urlopen(url), delimiter=',')\n",
      "\n",
      "# Sort them into groups, according to column 1\n",
      "group1 = data[data[:,1]==1,0]\n",
      "group2 = data[data[:,1]==2,0]\n",
      "group3 = data[data[:,1]==3,0]"
     ],
     "language": "python",
     "metadata": {},
     "outputs": [],
     "prompt_number": 3
    },
    {
     "cell_type": "heading",
     "level": 3,
     "metadata": {},
     "source": [
      "Levene-test"
     ]
    },
    {
     "cell_type": "markdown",
     "metadata": {},
     "source": [
      "A Levene-test and/or a normality test should be made before applying a oneway ANOVA."
     ]
    },
    {
     "cell_type": "code",
     "collapsed": false,
     "input": [
      "# check if the variances are equal with the \"Levene\"-test\n",
      "(W,p) = stats.levene(group1, group2, group3)\n",
      "if p<0.05:\n",
      "    print('Warning: the p-value of the Levene test is <0.05: p={0}'.format(p))"
     ],
     "language": "python",
     "metadata": {},
     "outputs": [
      {
       "output_type": "stream",
       "stream": "stdout",
       "text": [
        "Warning: the p-value of the Levene test is <0.05: p=0.045846812634186246\n"
       ]
      }
     ],
     "prompt_number": 7
    },
    {
     "cell_type": "heading",
     "level": 3,
     "metadata": {},
     "source": [
      "One-way ANOVA"
     ]
    },
    {
     "cell_type": "code",
     "collapsed": false,
     "input": [
      "F_statistic, pVal = stats.f_oneway(group1, group2, group3)\n",
      "\n",
      "print('The results from the one-way ANOVA, with the data from Altman 910: F={0:.1f}, p={1:.5f}'.format(F_statistic, pVal))\n",
      "if pVal < 0.05:\n",
      "    print('One of the groups is significantly different.')"
     ],
     "language": "python",
     "metadata": {},
     "outputs": [
      {
       "output_type": "stream",
       "stream": "stdout",
       "text": [
        "The results from the one-way ANOVA, with the data from Altman 910: F=3.7, p=0.04359\n",
        "One of the groups is significantly different.\n"
       ]
      }
     ],
     "prompt_number": 5
    },
    {
     "cell_type": "heading",
     "level": 2,
     "metadata": {},
     "source": [
      "Elegant alternative implementation, with pandas & statsmodels"
     ]
    },
    {
     "cell_type": "code",
     "collapsed": false,
     "input": [
      "df = pd.DataFrame(data, columns=['value', 'treatment'])    \n",
      "\n",
      "# the \"C\" indicates categorical data\n",
      "model = ols('value ~ C(treatment)', df).fit()\n",
      "\n",
      "print(anova_lm(model))"
     ],
     "language": "python",
     "metadata": {},
     "outputs": [
      {
       "output_type": "stream",
       "stream": "stdout",
       "text": [
        "              df        sum_sq      mean_sq         F    PR(>F)\n",
        "C(treatment)   2  15515.766414  7757.883207  3.711336  0.043589\n",
        "Residual      19  39716.097222  2090.320906       NaN       NaN\n",
        "\n",
        "[2 rows x 5 columns]\n"
       ]
      }
     ],
     "prompt_number": 6
    }
   ],
   "metadata": {}
  }
 ]
}