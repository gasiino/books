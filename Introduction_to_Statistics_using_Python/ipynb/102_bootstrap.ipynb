{
 "metadata": {
  "name": "",
  "signature": "sha256:2944100fc34051727b5ed4081ab5c935661bf04f54b41a4c1c951529e3ea1b06"
 },
 "nbformat": 3,
 "nbformat_minor": 0,
 "worksheets": [
  {
   "cells": [
    {
     "cell_type": "heading",
     "level": 1,
     "metadata": {},
     "source": [
      "Bootstrapping"
     ]
    },
    {
     "cell_type": "markdown",
     "metadata": {},
     "source": [
      "Example of bootstrapping the confidence interval for the mean of a sample distribution\n",
      "Since no bootstrapping is implemented in Python, this function requires\n",
      "\"bootstrap.py\", which is included.\n",
      "\n",
      "Note: The original scikits-bootstrapping module, which works only under\n",
      "Python 2, is available from http://github.org/cgevans/scikits-bootstrap\n",
      "   \n",
      "Author:  Thomas Haslwanter, Date:    May-2014"
     ]
    },
    {
     "cell_type": "code",
     "collapsed": false,
     "input": [
      "%pylab inline\n",
      "import scipy as sp\n",
      "import matplotlib.pyplot as plt\n",
      "from scipy import stats\n",
      "import bootstrap"
     ],
     "language": "python",
     "metadata": {},
     "outputs": [
      {
       "output_type": "stream",
       "stream": "stdout",
       "text": [
        "Populating the interactive namespace from numpy and matplotlib\n"
       ]
      }
     ],
     "prompt_number": 1
    },
    {
     "cell_type": "code",
     "collapsed": false,
     "input": [
      "# Generate a non-normally distributed datasample\n",
      "data = stats.poisson.rvs(2, size=1000)\n",
      "\n",
      "# Show the data\n",
      "plt.plot(data, '.')\n",
      "plt.title('Non-normally distributed dataset: Press any key to continue')\n"
     ],
     "language": "python",
     "metadata": {},
     "outputs": [
      {
       "metadata": {},
       "output_type": "pyout",
       "prompt_number": 2,
       "text": [
        "<matplotlib.text.Text at 0x7d16048>"
       ]
      },
      {
       "metadata": {},
       "output_type": "display_data",
       "png": "[encoded data removed]",
       "text": [
        "<matplotlib.figure.Figure at 0x665f390>"
       ]
      }
     ],
     "prompt_number": 2
    },
    {
     "cell_type": "code",
     "collapsed": false,
     "input": [
      "# Calculate the bootstrap\n",
      "CIs = bootstrap.ci(data=data, statfunction=sp.mean)\n",
      "\n",
      "# Print the data: the \"*\" turns the array CIs into a list\n",
      "print('The conficence intervals for the mean are: {0} - {1}'.format(*CIs))"
     ],
     "language": "python",
     "metadata": {},
     "outputs": [
      {
       "output_type": "stream",
       "stream": "stdout",
       "text": [
        "The conficence intervals for the mean are: 1.869 - 2.039\n"
       ]
      }
     ],
     "prompt_number": 3
    }
   ],
   "metadata": {}
  }
 ]
}