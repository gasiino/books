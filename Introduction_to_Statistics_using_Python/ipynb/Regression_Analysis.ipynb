{
 "metadata": {
  "name": "",
  "signature": "sha256:910d379ae0d236583aa8658e5eec07eda6889105eee458e4cc9202db078b0353"
 },
 "nbformat": 3,
 "nbformat_minor": 0,
 "worksheets": [
  {
   "cells": [
    {
     "cell_type": "heading",
     "level": 1,
     "metadata": {},
     "source": [
      "Regression Analysis"
     ]
    },
    {
     "cell_type": "code",
     "collapsed": false,
     "input": [
      "import numpy as np\n",
      "import pandas as pd\n",
      "import matplotlib.pyplot as plt\n",
      "import statsmodels.formula.api as sm\n",
      "from sklearn.linear_model import LinearRegression\n",
      "from scipy import stats"
     ],
     "language": "python",
     "metadata": {},
     "outputs": [],
     "prompt_number": 1
    },
    {
     "cell_type": "heading",
     "level": 2,
     "metadata": {},
     "source": [
      "Get the data"
     ]
    },
    {
     "cell_type": "code",
     "collapsed": false,
     "input": [
      "data_str = '''Region Alcohol Tobacco\n",
      "North 6.47 4.03\n",
      "Yorkshire 6.13 3.76\n",
      "Northeast 6.19 3.77\n",
      "East_Midlands 4.89 3.34\n",
      "West_Midlands 5.63 3.47\n",
      "East_Anglia 4.52 2.92\n",
      "Southeast 5.89 3.20\n",
      "Southwest 4.79 2.71\n",
      "Wales 5.27 3.53\n",
      "Scotland 6.08 4.51\n",
      "Northern_Ireland 4.02 4.56'''\n",
      "\n",
      "# Read in the data. Note that for Python 2.x, you have to change the \"import\" statement\n",
      "from io import StringIO\n",
      "df = pd.read_csv(StringIO(data_str), sep=r'\\s+')\n",
      "\n",
      "# Plot the data\n",
      "df.plot('Tobacco', 'Alcohol', style='o')\n",
      "plt.ylabel('Alcohol')\n",
      "plt.title('Sales in Several UK Regions')\n",
      "#plt.show()"
     ],
     "language": "python",
     "metadata": {},
     "outputs": [
      {
       "metadata": {},
       "output_type": "pyout",
       "prompt_number": 2,
       "text": [
        "<matplotlib.text.Text at 0x970ba20>"
       ]
      },
      {
       "metadata": {},
       "output_type": "display_data",
       "png": "[encoded data removed]",
       "text": [
        "<matplotlib.figure.Figure at 0x96af978>"
       ]
      }
     ],
     "prompt_number": 2
    },
    {
     "cell_type": "heading",
     "level": 2,
     "metadata": {},
     "source": [
      "Show Regression Analysis"
     ]
    },
    {
     "cell_type": "code",
     "collapsed": false,
     "input": [
      "result = sm.ols('Alcohol ~ Tobacco', df[:-1]).fit()\n",
      "print(result.summary())"
     ],
     "language": "python",
     "metadata": {},
     "outputs": [
      {
       "output_type": "stream",
       "stream": "stdout",
       "text": [
        "                            OLS Regression Results                            \n",
        "==============================================================================\n",
        "Dep. Variable:                Alcohol   R-squared:                       0.615\n",
        "Model:                            OLS   Adj. R-squared:                  0.567\n",
        "Method:                 Least Squares   F-statistic:                     12.78\n",
        "Date:                Sat, 10 May 2014   Prob (F-statistic):            0.00723\n",
        "Time:                        14:02:36   Log-Likelihood:                -4.9998\n",
        "No. Observations:                  10   AIC:                             14.00\n",
        "Df Residuals:                       8   BIC:                             14.60\n",
        "Df Model:                           1                                         \n",
        "==============================================================================\n",
        "                 coef    std err          t      P>|t|      [95.0% Conf. Int.]\n",
        "------------------------------------------------------------------------------\n",
        "Intercept      2.0412      1.001      2.038      0.076        -0.268     4.350\n",
        "Tobacco        1.0059      0.281      3.576      0.007         0.357     1.655\n",
        "==============================================================================\n",
        "Omnibus:                        2.542   Durbin-Watson:                   1.975\n",
        "Prob(Omnibus):                  0.281   Jarque-Bera (JB):                0.904\n",
        "Skew:                          -0.014   Prob(JB):                        0.636\n",
        "Kurtosis:                       1.527   Cond. No.                         27.2\n",
        "==============================================================================\n"
       ]
      },
      {
       "output_type": "stream",
       "stream": "stderr",
       "text": [
        "C:\\WinPython-64bit-3.3.5.0\\python-3.3.5.amd64\\lib\\site-packages\\scipy\\stats\\stats.py:1293: UserWarning: kurtosistest only valid for n>=20 ... continuing anyway, n=10\n",
        "  int(n))\n"
       ]
      }
     ],
     "prompt_number": 3
    },
    {
     "cell_type": "heading",
     "level": 2,
     "metadata": {},
     "source": [
      "Model Parameters"
     ]
    },
    {
     "cell_type": "heading",
     "level": 3,
     "metadata": {},
     "source": [
      "F-Test"
     ]
    },
    {
     "cell_type": "code",
     "collapsed": false,
     "input": [
      "N = result.nobs\n",
      "k = result.df_model+1\n",
      "dfm, dfe = k-1, N - k\n",
      "F = result.mse_model / result.mse_resid\n",
      "p = 1.0 - stats.f.cdf(F,dfm,dfe)\n",
      "print('F-statistic: {:.3f},  p-value: {:.5f}'.format( F, p ))"
     ],
     "language": "python",
     "metadata": {},
     "outputs": [
      {
       "output_type": "stream",
       "stream": "stdout",
       "text": [
        "F-statistic: 12.785,  p-value: 0.00723\n"
       ]
      }
     ],
     "prompt_number": 4
    },
    {
     "cell_type": "heading",
     "level": 3,
     "metadata": {},
     "source": [
      "Likelihood"
     ]
    },
    {
     "cell_type": "code",
     "collapsed": false,
     "input": [
      "N = result.nobs\n",
      "SSR = result.ssr\n",
      "s2 = SSR / N\n",
      "L = ( 1.0/np.sqrt(2*np.pi*s2) ) ** N * np.exp( -SSR/(s2*2.0) )\n",
      "print('ln(L) =', np.log( L ))"
     ],
     "language": "python",
     "metadata": {},
     "outputs": [
      {
       "output_type": "stream",
       "stream": "stdout",
       "text": [
        "ln(L) = -4.99975869739\n"
       ]
      }
     ],
     "prompt_number": 5
    },
    {
     "cell_type": "heading",
     "level": 2,
     "metadata": {},
     "source": [
      "Coefficients"
     ]
    },
    {
     "cell_type": "code",
     "collapsed": false,
     "input": [
      "print(result.params)"
     ],
     "language": "python",
     "metadata": {},
     "outputs": [
      {
       "output_type": "stream",
       "stream": "stdout",
       "text": [
        "Intercept    2.041223\n",
        "Tobacco      1.005896\n",
        "dtype: float64\n"
       ]
      }
     ],
     "prompt_number": 6
    },
    {
     "cell_type": "heading",
     "level": 3,
     "metadata": {},
     "source": [
      "Standard Error"
     ]
    },
    {
     "cell_type": "code",
     "collapsed": false,
     "input": [
      "# Standard Errors\n",
      "df['Eins'] = np.ones(( len(df), ))\n",
      "Y = df.Alcohol[:-1]\n",
      "X = df[['Tobacco','Eins']][:-1]"
     ],
     "language": "python",
     "metadata": {},
     "outputs": [],
     "prompt_number": 7
    },
    {
     "cell_type": "code",
     "collapsed": false,
     "input": [
      "X = df.Tobacco[:-1]\n",
      "\n",
      "# add a column of ones for the constant intercept term\n",
      "X = np.vstack(( np.ones(X.size), X ))\n",
      "\n",
      "# convert the NumPy arrray to matrix\n",
      "X = np.matrix( X )\n",
      "\n",
      "# perform the matrix multiplication,\n",
      "# and then take the inverse\n",
      "C = np.linalg.inv( X * X.T )\n",
      "\n",
      "# multiply by the MSE of the residual\n",
      "C *= result.mse_resid\n",
      "\n",
      "# take the square root\n",
      "SE = np.sqrt(C)\n",
      "\n",
      "print(SE)"
     ],
     "language": "python",
     "metadata": {},
     "outputs": [
      {
       "output_type": "stream",
       "stream": "stdout",
       "text": [
        "[[ 1.00136021         nan]\n",
        " [        nan  0.28132158]]\n"
       ]
      }
     ],
     "prompt_number": 8
    },
    {
     "cell_type": "heading",
     "level": 3,
     "metadata": {},
     "source": [
      "T-statistic"
     ]
    },
    {
     "cell_type": "code",
     "collapsed": false,
     "input": [
      "i = 1\n",
      "beta = result.params[i]\n",
      "se = SE[i,i]\n",
      "t = beta / se\n",
      "print('t =', t)"
     ],
     "language": "python",
     "metadata": {},
     "outputs": [
      {
       "output_type": "stream",
       "stream": "stdout",
       "text": [
        "t = 3.57560845424\n"
       ]
      }
     ],
     "prompt_number": 9
    },
    {
     "cell_type": "code",
     "collapsed": false,
     "input": [
      "N = result.nobs\n",
      "k = result.df_model + 1\n",
      "dof = N - k\n",
      "p_onesided = 1.0 - stats.t( dof ).cdf( t )\n",
      "p = p_onesided * 2.0\n",
      "print('p = {0:.3f}'.format(p))"
     ],
     "language": "python",
     "metadata": {},
     "outputs": [
      {
       "output_type": "stream",
       "stream": "stdout",
       "text": [
        "p = 0.007\n"
       ]
      }
     ],
     "prompt_number": 10
    },
    {
     "cell_type": "heading",
     "level": 3,
     "metadata": {},
     "source": [
      "Confidence Intervals"
     ]
    },
    {
     "cell_type": "code",
     "collapsed": false,
     "input": [
      "i = 0\n",
      "\n",
      "# the estimated coefficient, and its variance\n",
      "beta, c = result.params[i], SE[i,i]\n",
      "\n",
      "# critical value of the t-statistic\n",
      "N = result.nobs\n",
      "P = result.df_model\n",
      "dof = N - P - 1\n",
      "z = stats.t( dof ).ppf(0.975)\n",
      "\n",
      "# the confidence interval\n",
      "print(beta - z * c, beta + z * c)"
     ],
     "language": "python",
     "metadata": {},
     "outputs": [
      {
       "output_type": "stream",
       "stream": "stdout",
       "text": [
        "-0.267917709371 4.35036388305\n"
       ]
      }
     ],
     "prompt_number": 11
    },
    {
     "cell_type": "heading",
     "level": 2,
     "metadata": {},
     "source": [
      "Analysis of Residuals"
     ]
    },
    {
     "cell_type": "heading",
     "level": 3,
     "metadata": {},
     "source": [
      "Skew and Kurtosis"
     ]
    },
    {
     "cell_type": "code",
     "collapsed": false,
     "input": [
      "d = Y - result.fittedvalues\n",
      "S = np.mean( d**3.0 ) / np.mean( d**2.0 )**(3.0/2.0)\n",
      "K = np.mean( d**4.0 ) / np.mean( d**2.0 )**(4.0/2.0)\n",
      "print('Skewness: {:.3f},  Kurtosis: {:.3f}'.format( S, K ))"
     ],
     "language": "python",
     "metadata": {},
     "outputs": [
      {
       "output_type": "stream",
       "stream": "stdout",
       "text": [
        "Skewness: -0.014,  Kurtosis: 1.527\n"
       ]
      }
     ],
     "prompt_number": 12
    },
    {
     "cell_type": "heading",
     "level": 3,
     "metadata": {},
     "source": [
      "Omnibus Test"
     ]
    },
    {
     "cell_type": "code",
     "collapsed": false,
     "input": [
      "def Z1( s, n ):\n",
      "    Y = s * np.sqrt( ( ( n + 1 )*( n + 3 ) ) / ( 6.0 * ( n - 2.0 ) ) )\n",
      "    b = 3.0 * ( n**2.0 + 27.0*n - 70 )*( n + 1.0 )*( n + 3.0 )\n",
      "    b /= ( n - 2.0 )*( n + 5.0 )*( n + 7.0 )*( n + 9.0 )\n",
      "    W2 = - 1.0 + np.sqrt( 2.0 * ( b - 1.0 ) )\n",
      "    alpha = np.sqrt( 2.0 / ( W2 - 1.0 ) )\n",
      "    z = 1.0 / np.sqrt( np.log( np.sqrt( W2 ) ) )\n",
      "    z *= np.log( Y / alpha + np.sqrt( ( Y / alpha )**2.0 + 1.0 ) )\n",
      "    return z\n",
      "\n",
      "def Z2( k, n ):\n",
      "    E = 3.0 * ( n - 1.0 ) / ( n + 1.0 )\n",
      "    v = 24.0 * n * ( n - 2.0 )*( n - 3.0 )\n",
      "    v /= ( n + 1.0 )**2.0*( n + 3.0 )*( n + 5.0 )\n",
      "    X = ( k - E ) / np.sqrt( v )\n",
      "    b = ( 6.0 * ( n**2.0 - 5.0*n + 2.0 ) ) / ( ( n + 7.0 )*( n + 9.0 ) )\n",
      "    b *= np.sqrt( ( 6.0 * ( n + 3.0 )*( n + 5.0 ) ) / ( n * ( n - 2.0 )*( n - 3.0 ) ) )\n",
      "    A = 6.0 + ( 8.0 / b )*( 2.0 / b + np.sqrt( 1.0 + 4.0 / b**2.0 ) )\n",
      "    z = ( 1.0 - 2.0 / A ) / ( 1.0 + X * np.sqrt( 2.0 / ( A - 4.0 ) ) )\n",
      "    z = ( 1.0 - 2.0 / ( 9.0 * A ) ) - z**(1.0/3.0)\n",
      "    z /= np.sqrt( 2.0 / ( 9.0 * A ) )\n",
      "    return z\n",
      "\n",
      "K2 = Z1( S, N )**2.0 + Z2( K, N )**2.0\n",
      "print('Omnibus: {}'.format( K2))\n",
      "\n",
      "p = 1.0 - stats.chi2(2).cdf( K2 )\n",
      "print('Pr( Omnibus ) = {}'.format( p ))\n",
      "\n",
      "(K2, p) = stats.normaltest(result.resid)\n",
      "print('Omnibus: {0}, p = {1}'.format(K2, p))"
     ],
     "language": "python",
     "metadata": {},
     "outputs": [
      {
       "output_type": "stream",
       "stream": "stdout",
       "text": [
        "Omnibus: 2.541898169064917\n",
        "Pr( Omnibus ) = 0.2805652152710698\n",
        "Omnibus: 2.5418981690649174, p = 0.28056521527106976\n"
       ]
      }
     ],
     "prompt_number": 13
    },
    {
     "cell_type": "heading",
     "level": 3,
     "metadata": {},
     "source": [
      "Durbin Watson"
     ]
    },
    {
     "cell_type": "code",
     "collapsed": false,
     "input": [
      "DW = np.sum( np.diff( result.resid.values )**2.0 ) / result.ssr\n",
      "print('Durbin-Watson: {:.5f}'.format( DW ))"
     ],
     "language": "python",
     "metadata": {},
     "outputs": [
      {
       "output_type": "stream",
       "stream": "stdout",
       "text": [
        "Durbin-Watson: 1.97535\n"
       ]
      }
     ],
     "prompt_number": 14
    },
    {
     "cell_type": "heading",
     "level": 3,
     "metadata": {},
     "source": [
      "Jarque-Bera Test"
     ]
    },
    {
     "cell_type": "code",
     "collapsed": false,
     "input": [
      "JB = (N/6.0) * ( S**2.0 + (1.0/4.0)*( K - 3.0 )**2.0 )\n",
      "p = 1.0 - stats.chi2(2).cdf(JB)\n",
      "print('JB-statistic: {:.5f},  p-value: {:.5f}'.format( JB, p ))"
     ],
     "language": "python",
     "metadata": {},
     "outputs": [
      {
       "output_type": "stream",
       "stream": "stdout",
       "text": [
        "JB-statistic: 0.90421,  p-value: 0.63629\n"
       ]
      }
     ],
     "prompt_number": 15
    },
    {
     "cell_type": "heading",
     "level": 3,
     "metadata": {},
     "source": [
      "Condition Number"
     ]
    },
    {
     "cell_type": "code",
     "collapsed": false,
     "input": [
      "X = df.Tobacco[:-1]\n",
      " \n",
      "# add a column of ones for the constant intercept term\n",
      "X = np.vstack(( X, np.ones( X.size ) ))\n",
      " \n",
      "# convert the NumPy arrray to matrix\n",
      "X = np.matrix( X )\n",
      "EV = np.linalg.eig( X * X.T )\n",
      "print(EV)"
     ],
     "language": "python",
     "metadata": {},
     "outputs": [
      {
       "output_type": "stream",
       "stream": "stdout",
       "text": [
        "(array([ 136.51527115,    0.18412885]), matrix([[ 0.96332746, -0.26832855],\n",
        "        [ 0.26832855,  0.96332746]]))\n"
       ]
      }
     ],
     "prompt_number": 16
    },
    {
     "cell_type": "code",
     "collapsed": false,
     "input": [
      "CN = np.sqrt( EV[0].max() / EV[0].min() )\n",
      "print('Condition No.: {:.5f}'.format( CN ))"
     ],
     "language": "python",
     "metadata": {},
     "outputs": [
      {
       "output_type": "stream",
       "stream": "stdout",
       "text": [
        "Condition No.: 27.22887\n"
       ]
      }
     ],
     "prompt_number": 17
    }
   ],
   "metadata": {}
  }
 ]
}