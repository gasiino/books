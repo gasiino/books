{
 "cells": [
  {
   "cell_type": "code",
   "execution_count": 16,
   "metadata": {
    "collapsed": false
   },
   "outputs": [
    {
     "name": "stdout",
     "output_type": "stream",
     "text": [
      "Populating the interactive namespace from numpy and matplotlib\n"
     ]
    }
   ],
   "source": [
    "%pylab inline"
   ]
  },
  {
   "cell_type": "code",
   "execution_count": 17,
   "metadata": {
    "collapsed": false
   },
   "outputs": [
    {
     "name": "stdout",
     "output_type": "stream",
     "text": [
      "FuturesData object with 38 instruments\n"
     ]
    }
   ],
   "source": [
    "\"\"\"\n",
    "\n",
    "Work up a minimum example of a trend following system\n",
    "\n",
    "\"\"\"\n",
    "\n",
    "# Get some data\n",
    "from sysdata.csvdata import csvFuturesData\n",
    "\"\"\"\"\n",
    "Let's get some data\n",
    "\n",
    "We can get data from various places; however for now we're going to use\n",
    "   prepackaged 'legacy' data stored in csv files\n",
    "\n",
    "\"\"\"\n",
    "\n",
    "data = csvFuturesData()\n",
    "\n",
    "print(data)"
   ]
  },
  {
   "cell_type": "code",
   "execution_count": 18,
   "metadata": {
    "collapsed": false
   },
   "outputs": [
    {
     "name": "stdout",
     "output_type": "stream",
     "text": [
      "['CORN', 'LEANHOG', 'LIVECOW', 'SOYBEAN', 'WHEAT', 'KR10', 'KR3', 'BOBL', 'BTP', 'BUND', 'OAT', 'SHATZ', 'US10', 'US2', 'US20', 'US5', 'V2X', 'VIX', 'KOSPI', 'AEX', 'CAC', 'SMI', 'NASDAQ', 'SP500', 'AUD', 'EUR', 'GBP', 'JPY', 'MXP', 'NZD', 'COPPER', 'GOLD', 'PALLAD', 'PLAT', 'CRUDE_W', 'GAS_US', 'EDOLLAR', 'EUROSTX']\n",
      "                         price\n",
      "1983-09-26 00:00:00  71.241192\n",
      "1983-09-27 00:00:00  71.131192\n",
      "1983-09-28 00:00:00  71.081192\n",
      "1983-09-29 00:00:00  71.061192\n",
      "1983-09-30 00:00:00  71.101192\n",
      "1983-10-03 00:00:00  71.131192\n",
      "1983-10-04 00:00:00  71.131192\n",
      "1983-10-05 00:00:00  71.191192\n",
      "1983-10-06 00:00:00  71.201192\n",
      "1983-10-07 00:00:00  71.211192\n",
      "1983-10-10 00:00:00  71.211192\n",
      "1983-10-11 00:00:00  71.061192\n",
      "1983-10-12 00:00:00  71.101192\n",
      "1983-10-13 00:00:00  71.061192\n",
      "1983-10-14 00:00:00  71.121192\n",
      "1983-10-17 00:00:00  71.251192\n",
      "1983-10-18 00:00:00  71.201192\n",
      "1983-10-19 00:00:00  71.201192\n",
      "1983-10-20 00:00:00  71.161192\n",
      "1983-10-21 00:00:00  71.161192\n",
      "1983-10-24 00:00:00  71.051192\n",
      "1983-10-25 00:00:00  71.031192\n",
      "1983-10-26 00:00:00  71.031192\n",
      "1983-10-27 00:00:00  71.041192\n",
      "1983-10-28 00:00:00  71.011192\n",
      "1983-10-31 00:00:00  70.961192\n",
      "1983-11-01 00:00:00  70.941192\n",
      "1983-11-02 00:00:00  70.941192\n",
      "1983-11-03 00:00:00  70.841192\n",
      "1983-11-04 00:00:00  70.671192\n",
      "...                        ...\n",
      "2015-12-04 19:07:54  97.872500\n",
      "2015-12-04 23:00:00  97.880000\n",
      "2015-12-07 13:31:24  97.842500\n",
      "2015-12-07 14:43:30  97.882500\n",
      "2015-12-07 16:10:50  97.907500\n",
      "2015-12-07 18:33:16  97.932500\n",
      "2015-12-07 19:33:52  97.912500\n",
      "2015-12-07 23:00:00  97.920000\n",
      "2015-12-08 13:29:29  97.932500\n",
      "2015-12-08 14:36:06  97.937500\n",
      "2015-12-08 16:03:29  97.907500\n",
      "2015-12-08 18:44:09  97.937500\n",
      "2015-12-08 19:44:43  97.912500\n",
      "2015-12-08 23:00:00  97.935000\n",
      "2015-12-09 12:00:10  97.912500\n",
      "2015-12-09 13:49:00  97.920000\n",
      "2015-12-09 15:06:28  97.897500\n",
      "2015-12-09 16:32:54  97.892500\n",
      "2015-12-09 19:04:26  97.947500\n",
      "2015-12-09 23:00:00  97.945000\n",
      "2015-12-10 12:29:10  97.937500\n",
      "2015-12-10 15:16:21  97.925000\n",
      "2015-12-10 16:39:27  97.912500\n",
      "2015-12-10 17:46:35  97.907500\n",
      "2015-12-10 23:00:00  97.880000\n",
      "2015-12-11 12:00:25  97.912500\n",
      "2015-12-11 14:11:34  97.952500\n",
      "2015-12-11 15:39:37  97.942500\n",
      "2015-12-11 17:08:14  97.967500\n",
      "2015-12-11 19:33:39  97.987500\n",
      "\n",
      "[10761 rows x 1 columns]\n"
     ]
    }
   ],
   "source": [
    "\"\"\"\n",
    "We get stuff out of data with methods\n",
    "\n",
    "\"\"\"\n",
    "print(data.get_instrument_list())\n",
    "print(data.get_instrument_price(\"EDOLLAR\"))"
   ]
  },
  {
   "cell_type": "code",
   "execution_count": 19,
   "metadata": {
    "collapsed": false
   },
   "outputs": [
    {
     "name": "stdout",
     "output_type": "stream",
     "text": [
      "                         price\n",
      "1997-09-10 00:00:00  1082.1725\n",
      "1997-09-11 00:00:00  1075.1725\n",
      "1997-09-12 00:00:00  1091.1725\n",
      "1997-09-15 00:00:00  1089.1725\n",
      "1997-09-16 00:00:00  1113.1725\n",
      "1997-09-17 00:00:00  1113.1725\n",
      "1997-09-18 00:00:00  1115.1725\n",
      "1997-09-19 00:00:00  1118.1725\n",
      "1997-09-22 00:00:00  1123.1725\n",
      "1997-09-23 00:00:00  1119.1725\n",
      "1997-09-24 00:00:00  1112.1725\n",
      "1997-09-25 00:00:00  1104.1725\n",
      "1997-09-26 00:00:00  1110.1725\n",
      "1997-09-29 00:00:00  1119.1725\n",
      "1997-09-30 00:00:00  1111.1725\n",
      "1997-10-01 00:00:00  1121.1725\n",
      "1997-10-02 00:00:00  1126.1725\n",
      "1997-10-03 00:00:00  1132.1725\n",
      "1997-10-06 00:00:00  1139.1725\n",
      "1997-10-07 00:00:00  1147.1725\n",
      "1997-10-08 00:00:00  1140.1725\n",
      "1997-10-09 00:00:00  1135.1725\n",
      "1997-10-10 00:00:00  1134.1725\n",
      "1997-10-13 00:00:00  1133.1725\n",
      "1997-10-14 00:00:00  1134.1725\n",
      "1997-10-15 00:00:00  1131.1725\n",
      "1997-10-16 00:00:00  1117.1725\n",
      "1997-10-17 00:00:00  1106.1725\n",
      "1997-10-20 00:00:00  1120.1725\n",
      "1997-10-21 00:00:00  1136.1725\n",
      "...                        ...\n",
      "2015-12-02 15:53:58  2100.1250\n",
      "2015-12-02 17:05:47  2095.3750\n",
      "2015-12-02 23:00:00  2082.0000\n",
      "2015-12-03 14:10:25  2084.3750\n",
      "2015-12-03 15:35:25  2069.1250\n",
      "2015-12-03 16:52:38  2069.1250\n",
      "2015-12-03 18:00:17  2057.8750\n",
      "2015-12-03 23:00:00  2051.2500\n",
      "2015-12-04 14:37:15  2054.6250\n",
      "2015-12-04 16:03:22  2076.6250\n",
      "2015-12-04 17:11:18  2072.3750\n",
      "2015-12-04 23:00:00  2088.2500\n",
      "2015-12-07 14:04:28  2084.6250\n",
      "2015-12-07 15:32:22  2072.1250\n",
      "2015-12-07 16:52:44  2071.3750\n",
      "2015-12-07 23:00:00  2081.2500\n",
      "2015-12-08 15:25:18  2052.6250\n",
      "2015-12-08 16:51:00  2062.3750\n",
      "2015-12-08 23:00:00  2058.2500\n",
      "2015-12-09 14:28:24  2054.8750\n",
      "2015-12-09 15:54:50  2073.8750\n",
      "2015-12-09 17:05:22  2055.6250\n",
      "2015-12-09 23:00:00  2042.2500\n",
      "2015-12-10 14:36:52  2047.3750\n",
      "2015-12-10 16:01:16  2057.1250\n",
      "2015-12-10 17:07:37  2054.6250\n",
      "2015-12-10 23:00:00  2048.7500\n",
      "2015-12-11 15:00:39  2022.6250\n",
      "2015-12-11 16:28:49  2023.8750\n",
      "2015-12-11 17:36:27  2016.1250\n",
      "\n",
      "[6002 rows x 1 columns]\n",
      "['CORN', 'LEANHOG', 'LIVECOW', 'SOYBEAN', 'WHEAT', 'KR10', 'KR3', 'BOBL', 'BTP', 'BUND', 'OAT', 'SHATZ', 'US10', 'US2', 'US20', 'US5', 'V2X', 'VIX', 'KOSPI', 'AEX', 'CAC', 'SMI', 'NASDAQ', 'SP500', 'AUD', 'EUR', 'GBP', 'JPY', 'MXP', 'NZD', 'COPPER', 'GOLD', 'PALLAD', 'PLAT', 'CRUDE_W', 'GAS_US', 'EDOLLAR', 'EUROSTX']\n"
     ]
    }
   ],
   "source": [
    "\"\"\"\n",
    "data can also behave in a dict like manner (though it's not a dict)\n",
    "\"\"\"\n",
    "\n",
    "print(data['SP500'])\n",
    "print(data.keys())"
   ]
  },
  {
   "cell_type": "code",
   "execution_count": 20,
   "metadata": {
    "collapsed": false
   },
   "outputs": [
    {
     "name": "stdout",
     "output_type": "stream",
     "text": [
      "                          PRICE     CARRY CARRY_CONTRACT PRICE_CONTRACT\n",
      "1982-05-04 00:00:00   71.843750  71.96875         198212         198209\n",
      "1982-05-05 00:00:00   71.937500  72.06250         198212         198209\n",
      "1982-05-06 00:00:00   72.937500  73.03125         198212         198209\n",
      "1982-05-07 00:00:00   73.218750  73.31250         198212         198209\n",
      "1982-05-10 00:00:00   73.156250  73.25000         198212         198209\n",
      "1982-05-11 00:00:00   73.250000  73.34375         198212         198209\n",
      "1982-05-12 00:00:00   72.875000  72.96875         198212         198209\n",
      "1982-05-13 00:00:00   72.625000  72.71875         198212         198209\n",
      "1982-05-14 00:00:00   73.125000  73.21875         198212         198209\n",
      "1982-05-17 00:00:00   72.656250  72.75000         198212         198209\n",
      "1982-05-18 00:00:00   72.875000  72.96875         198212         198209\n",
      "1982-05-19 00:00:00   72.468750  72.53125         198212         198209\n",
      "1982-05-20 00:00:00   73.031250  73.03125         198212         198209\n",
      "1982-05-21 00:00:00   72.937500  72.96875         198212         198209\n",
      "1982-05-24 00:00:00   72.906250  72.90625         198212         198209\n",
      "1982-05-25 00:00:00   72.687500  72.71875         198212         198209\n",
      "1982-05-26 00:00:00   72.343750  72.37500         198212         198209\n",
      "1982-05-27 00:00:00   72.187500  72.21875         198212         198209\n",
      "1982-05-28 00:00:00   72.125000  72.15625         198212         198209\n",
      "1982-06-01 00:00:00   71.312500  71.40625         198212         198209\n",
      "1982-06-02 00:00:00   71.562500  71.62500         198212         198209\n",
      "1982-06-03 00:00:00   71.468750  71.50000         198212         198209\n",
      "1982-06-04 00:00:00   71.125000  71.12500         198212         198209\n",
      "1982-06-07 00:00:00   71.281250  71.28125         198212         198209\n",
      "1982-06-08 00:00:00   71.187500  71.15625         198212         198209\n",
      "1982-06-09 00:00:00   71.218750  71.18750         198212         198209\n",
      "1982-06-10 00:00:00   71.000000  70.96875         198212         198209\n",
      "1982-06-11 00:00:00   71.468750  71.43750         198212         198209\n",
      "1982-06-14 00:00:00   70.375000  70.40625         198212         198209\n",
      "1982-06-15 00:00:00   70.375000  70.37500         198212         198209\n",
      "...                         ...       ...            ...            ...\n",
      "2015-12-02 15:29:47  126.601562       NaN         201606         201603\n",
      "2015-12-02 16:48:33  126.664062       NaN         201606         201603\n",
      "2015-12-02 23:00:00  126.671875       NaN         201606         201603\n",
      "2015-12-03 15:08:51  125.992188       NaN         201606         201603\n",
      "2015-12-03 16:30:58  125.742188       NaN         201606         201603\n",
      "2015-12-03 17:47:40  125.679688       NaN         201606         201603\n",
      "2015-12-03 23:00:00  125.593750       NaN         201606         201603\n",
      "2015-12-04 14:12:27  125.804688       NaN         201606         201603\n",
      "2015-12-04 15:41:41  125.851562       NaN         201606         201603\n",
      "2015-12-04 16:58:39  126.023438       NaN         201606         201603\n",
      "2015-12-04 23:00:00  125.937500       NaN         201606         201603\n",
      "2015-12-07 15:08:02  126.148438       NaN         201606         201603\n",
      "2015-12-07 16:31:08  126.289062       NaN         201606         201603\n",
      "2015-12-07 18:48:46  126.398438       NaN         201606         201603\n",
      "2015-12-07 23:00:00  126.265625       NaN         201606         201603\n",
      "2015-12-08 15:01:08  126.398438       NaN         201606         201603\n",
      "2015-12-08 16:29:49  126.414062       NaN         201606         201603\n",
      "2015-12-08 18:59:16  126.445312       NaN         201606         201603\n",
      "2015-12-08 23:00:00  126.421875       NaN         201606         201603\n",
      "2015-12-09 14:04:27  126.398438       NaN         201606         201603\n",
      "2015-12-09 15:30:57  126.226562       NaN         201606         201603\n",
      "2015-12-09 16:48:13  126.320312       NaN         201606         201603\n",
      "2015-12-09 23:00:00  126.609375       NaN         201606         201603\n",
      "2015-12-10 14:11:57  126.601562       NaN         201606         201603\n",
      "2015-12-10 15:36:57  126.507812       NaN         201606         201603\n",
      "2015-12-10 16:54:45  126.507812       NaN         201606         201603\n",
      "2015-12-10 23:00:00  126.328125       NaN         201606         201603\n",
      "2015-12-11 14:35:15  126.835938       NaN         201606         201603\n",
      "2015-12-11 16:06:35  126.914062       NaN         201606         201603\n",
      "2015-12-11 17:24:06  126.945312       NaN         201606         201603\n",
      "\n",
      "[10255 rows x 4 columns]\n"
     ]
    }
   ],
   "source": [
    "\"\"\"\n",
    "\n",
    "... however this will only access prices\n",
    "(note these prices have already been backadjusted for rolls)\n",
    "\n",
    "We have extra futures data here\n",
    "\n",
    "\"\"\"\n",
    "\n",
    "print(data.get_instrument_raw_carry_data(\"US10\"))"
   ]
  },
  {
   "cell_type": "code",
   "execution_count": 21,
   "metadata": {
    "collapsed": false
   },
   "outputs": [
    {
     "name": "stdout",
     "output_type": "stream",
     "text": [
      "                        price\n",
      "2015-12-11 12:00:25  0.241975\n",
      "2015-12-11 14:11:34  0.292945\n",
      "2015-12-11 15:39:37  0.339199\n",
      "2015-12-11 17:08:14  0.422408\n",
      "2015-12-11 19:33:39  0.542370\n"
     ]
    },
    {
     "data": {
      "text/plain": [
       "<matplotlib.axes._subplots.AxesSubplot at 0x7ff3019ba048>"
      ]
     },
     "execution_count": 21,
     "metadata": {},
     "output_type": "execute_result"
    },
    {
     "data": {
      "image/png": "[encoded data removed]",
      "text/plain": [
       "<matplotlib.figure.Figure at 0x7ff30971d390>"
      ]
     },
     "metadata": {},
     "output_type": "display_data"
    }
   ],
   "source": [
    "\"\"\"\n",
    "Technical note: csvFuturesData inherits from FuturesData which itself inherits from Data\n",
    "The chain is 'data specific' <- 'asset class specific' <- 'generic'\n",
    "\n",
    "So there are also\n",
    "\n",
    "In principal there could be an equities data\n",
    "\"\"\"\n",
    "\n",
    "\n",
    "\"\"\"\n",
    "Let's create a simple trading rule\n",
    "\n",
    "No capping or scaling\n",
    "\n",
    "\"\"\"\n",
    "\n",
    "import pandas as pd\n",
    "from syscore.algos import robust_vol_calc\n",
    "from syscore.pdutils import divide_df_single_column\n",
    "\n",
    "\n",
    "def calc_ewmac_forecast(price, Lfast, Lslow=None):\n",
    "    \"\"\"\n",
    "    Calculate the ewmac trading fule forecast, given a price and EWMA speeds\n",
    "    Lfast, Lslow and vol_lookback\n",
    "\n",
    "    Assumes that 'price' is daily data\n",
    "    \"\"\"\n",
    "    # price: This is the stitched price series\n",
    "    # We can't use the price of the contract we're trading, or the volatility\n",
    "    # will be jumpy And we'll miss out on the rolldown. See\n",
    "    # http://qoppac.blogspot.co.uk/2015/05/systems-building-futures-rolling.html\n",
    "\n",
    "    if Lslow is None:\n",
    "        Lslow = 4 * Lfast\n",
    "\n",
    "    # We don't need to calculate the decay parameter, just use the span\n",
    "    # directly\n",
    "\n",
    "    fast_ewma = pd.ewma(price, span=Lfast)\n",
    "    slow_ewma = pd.ewma(price, span=Lslow)\n",
    "    raw_ewmac = fast_ewma - slow_ewma\n",
    "\n",
    "    vol = robust_vol_calc(price.diff())\n",
    "\n",
    "    return divide_df_single_column(raw_ewmac, vol)\n",
    "\n",
    "\"\"\"\n",
    "Try it out\n",
    "\n",
    "(this isn't properly scaled at this stage of course)\n",
    "\"\"\"\n",
    "instrument_code = 'EDOLLAR'\n",
    "price = data.get_instrument_price(instrument_code)\n",
    "ewmac = calc_ewmac_forecast(price, 32, 128)\n",
    "print(ewmac.tail(5))\n",
    "\n",
    "ewmac.plot()"
   ]
  },
  {
   "cell_type": "code",
   "execution_count": 22,
   "metadata": {
    "collapsed": false,
    "scrolled": false
   },
   "outputs": [
    {
     "data": {
      "text/plain": [
       "<matplotlib.axes._subplots.AxesSubplot at 0x7ff301d00588>"
      ]
     },
     "execution_count": 22,
     "metadata": {},
     "output_type": "execute_result"
    },
    {
     "data": {
      "image/png": "[encoded data removed]",
      "text/plain": [
       "<matplotlib.figure.Figure at 0x7ff3019c2358>"
      ]
     },
     "metadata": {},
     "output_type": "display_data"
    }
   ],
   "source": [
    "\"\"\"\n",
    "Did we make money?\n",
    "\"\"\"\n",
    "\n",
    "from syscore.accounting import pandl\n",
    "account = pandl(price, forecast=ewmac)\n",
    "account.curve().plot()"
   ]
  }
 ],
 "metadata": {
  "kernelspec": {
   "display_name": "Python 3",
   "language": "python",
   "name": "python3"
  },
  "language_info": {
   "codemirror_mode": {
    "name": "ipython",
    "version": 3
   },
   "file_extension": ".py",
   "mimetype": "text/x-python",
   "name": "python",
   "nbconvert_exporter": "python",
   "pygments_lexer": "ipython3",
   "version": "3.5.1"
  }
 },
 "nbformat": 4,
 "nbformat_minor": 0
}
