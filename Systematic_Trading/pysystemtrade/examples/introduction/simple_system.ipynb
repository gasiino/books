{
 "cells": [
  {
   "cell_type": "code",
   "execution_count": 1,
   "metadata": {
    "collapsed": false
   },
   "outputs": [
    {
     "name": "stdout",
     "output_type": "stream",
     "text": [
      "Populating the interactive namespace from numpy and matplotlib\n"
     ]
    }
   ],
   "source": [
    "%pylab inline"
   ]
  },
  {
   "cell_type": "code",
   "execution_count": 2,
   "metadata": {
    "collapsed": false
   },
   "outputs": [
    {
     "name": "stdout",
     "output_type": "stream",
     "text": [
      "{'rule0': TradingRule; function: <function ewmac_forecast_with_defaults at 0x7f7fa3c9f8c8>, data:  and other_args: }\n",
      "{'ewmac': TradingRule; function: <function ewmac_forecast_with_defaults at 0x7f7fa3c9f8c8>, data:  and other_args: }\n",
      "System with stages: rules\n",
      "                        ewmac\n",
      "2015-12-11 12:00:25  0.241975\n",
      "2015-12-11 14:11:34  0.292945\n",
      "2015-12-11 15:39:37  0.339199\n",
      "2015-12-11 17:08:14  0.422408\n",
      "2015-12-11 19:33:39  0.542370\n"
     ]
    }
   ],
   "source": [
    "\"\"\"\n",
    "Let's recap:\n",
    "\n",
    "We got some data and created a trading rule\n",
    "\"\"\"\n",
    "from sysdata.csvdata import csvFuturesData\n",
    "data = csvFuturesData()\n",
    "\n",
    "from systems.provided.example.rules import ewmac_forecast_with_defaults as ewmac\n",
    "\n",
    "\"\"\"\n",
    "Okay, I wonder how this would work for a number of instruments?\n",
    "\n",
    "For this we need to build a system\n",
    "\n",
    "A system is made up of SystemStages - essentially stages in the process, and it needs data, and perhaps a configuration\n",
    "\n",
    "The minimum stage you would have would be Rules - which is where you put trading rules\n",
    "\"\"\"\n",
    "\n",
    "from systems.forecasting import Rules\n",
    "\n",
    "\"\"\"\n",
    "We can create rules in a number of different ways\n",
    "\n",
    "Note that to make our rule work it needs to have\n",
    "\"\"\"\n",
    "my_rules = Rules(ewmac)\n",
    "print(my_rules.trading_rules())\n",
    "\n",
    "my_rules = Rules(dict(ewmac=ewmac))\n",
    "print(my_rules.trading_rules())\n",
    "\n",
    "from systems.basesystem import System\n",
    "my_system = System([my_rules], data)\n",
    "print(my_system)\n",
    "\n",
    "print(my_system.rules.get_raw_forecast(\"EDOLLAR\", \"ewmac\").tail(5))"
   ]
  },
  {
   "cell_type": "code",
   "execution_count": 3,
   "metadata": {
    "collapsed": false
   },
   "outputs": [
    {
     "name": "stdout",
     "output_type": "stream",
     "text": [
      "TradingRule; function: <function ewmac_forecast_with_defaults at 0x7f7fa3c9f8c8>, data:  and other_args: Lfast, Lslow\n"
     ]
    },
    {
     "data": {
      "text/html": [
       "<div>\n",
       "<table border=\"1\" class=\"dataframe\">\n",
       "  <thead>\n",
       "    <tr style=\"text-align: right;\">\n",
       "      <th></th>\n",
       "      <th>ewmac32</th>\n",
       "    </tr>\n",
       "  </thead>\n",
       "  <tbody>\n",
       "    <tr>\n",
       "      <th>2015-12-11 12:00:25</th>\n",
       "      <td>0.241975</td>\n",
       "    </tr>\n",
       "    <tr>\n",
       "      <th>2015-12-11 14:11:34</th>\n",
       "      <td>0.292945</td>\n",
       "    </tr>\n",
       "    <tr>\n",
       "      <th>2015-12-11 15:39:37</th>\n",
       "      <td>0.339199</td>\n",
       "    </tr>\n",
       "    <tr>\n",
       "      <th>2015-12-11 17:08:14</th>\n",
       "      <td>0.422408</td>\n",
       "    </tr>\n",
       "    <tr>\n",
       "      <th>2015-12-11 19:33:39</th>\n",
       "      <td>0.542370</td>\n",
       "    </tr>\n",
       "  </tbody>\n",
       "</table>\n",
       "</div>"
      ],
      "text/plain": [
       "                      ewmac32\n",
       "2015-12-11 12:00:25  0.241975\n",
       "2015-12-11 14:11:34  0.292945\n",
       "2015-12-11 15:39:37  0.339199\n",
       "2015-12-11 17:08:14  0.422408\n",
       "2015-12-11 19:33:39  0.542370"
      ]
     },
     "execution_count": 3,
     "metadata": {},
     "output_type": "execute_result"
    }
   ],
   "source": [
    "\"\"\"\n",
    "Define a TradingRule\n",
    "\"\"\"\n",
    "\n",
    "from systems.forecasting import TradingRule\n",
    "ewmac_rule = TradingRule(ewmac)\n",
    "my_rules = Rules(dict(ewmac=ewmac_rule))\n",
    "ewmac_rule\n",
    "\n",
    "\n",
    "\"\"\"\n",
    "... or two...\n",
    "\"\"\"\n",
    "\n",
    "# pass rules into System\n",
    "ewmac_8 = TradingRule((ewmac, [], dict(Lfast=8, Lslow=32)))\n",
    "ewmac_32 = TradingRule(dict(function=ewmac, other_args=dict(Lfast=32, Lslow=128)))\n",
    "\n",
    "my_rules = Rules(dict(ewmac8=ewmac_8, ewmac32=ewmac_32))\n",
    "print(my_rules.trading_rules()['ewmac32'])\n",
    "\n",
    "my_system = System([my_rules], data)\n",
    "my_system.rules.get_raw_forecast(\"EDOLLAR\", \"ewmac32\").tail(5)"
   ]
  },
  {
   "cell_type": "code",
   "execution_count": 4,
   "metadata": {
    "collapsed": false
   },
   "outputs": [
    {
     "data": {
      "text/html": [
       "<div>\n",
       "<table border=\"1\" class=\"dataframe\">\n",
       "  <thead>\n",
       "    <tr style=\"text-align: right;\">\n",
       "      <th></th>\n",
       "      <th>ewmac32</th>\n",
       "    </tr>\n",
       "  </thead>\n",
       "  <tbody>\n",
       "    <tr>\n",
       "      <th>2015-12-11 12:00:25</th>\n",
       "      <td>0.241975</td>\n",
       "    </tr>\n",
       "    <tr>\n",
       "      <th>2015-12-11 14:11:34</th>\n",
       "      <td>0.292945</td>\n",
       "    </tr>\n",
       "    <tr>\n",
       "      <th>2015-12-11 15:39:37</th>\n",
       "      <td>0.339199</td>\n",
       "    </tr>\n",
       "    <tr>\n",
       "      <th>2015-12-11 17:08:14</th>\n",
       "      <td>0.422408</td>\n",
       "    </tr>\n",
       "    <tr>\n",
       "      <th>2015-12-11 19:33:39</th>\n",
       "      <td>0.542370</td>\n",
       "    </tr>\n",
       "  </tbody>\n",
       "</table>\n",
       "</div>"
      ],
      "text/plain": [
       "                      ewmac32\n",
       "2015-12-11 12:00:25  0.241975\n",
       "2015-12-11 14:11:34  0.292945\n",
       "2015-12-11 15:39:37  0.339199\n",
       "2015-12-11 17:08:14  0.422408\n",
       "2015-12-11 19:33:39  0.542370"
      ]
     },
     "execution_count": 4,
     "metadata": {},
     "output_type": "execute_result"
    }
   ],
   "source": [
    "# populate Rules from Config\n",
    "from sysdata.configdata import Config\n",
    "my_config = Config()\n",
    "\n",
    "empty_rules = Rules()\n",
    "my_config.trading_rules = dict(ewmac8=ewmac_8, ewmac32=ewmac_32)\n",
    "my_system = System([empty_rules], data, my_config)\n",
    "my_system.rules.get_raw_forecast(\"EDOLLAR\", \"ewmac32\").tail(5)"
   ]
  },
  {
   "cell_type": "code",
   "execution_count": 5,
   "metadata": {
    "collapsed": false
   },
   "outputs": [
    {
     "data": {
      "text/html": [
       "<div>\n",
       "<table border=\"1\" class=\"dataframe\">\n",
       "  <thead>\n",
       "    <tr style=\"text-align: right;\">\n",
       "      <th></th>\n",
       "      <th>ewmac32</th>\n",
       "    </tr>\n",
       "  </thead>\n",
       "  <tbody>\n",
       "    <tr>\n",
       "      <th>2015-12-11 12:00:25</th>\n",
       "      <td>0.641233</td>\n",
       "    </tr>\n",
       "    <tr>\n",
       "      <th>2015-12-11 14:11:34</th>\n",
       "      <td>0.776304</td>\n",
       "    </tr>\n",
       "    <tr>\n",
       "      <th>2015-12-11 15:39:37</th>\n",
       "      <td>0.898877</td>\n",
       "    </tr>\n",
       "    <tr>\n",
       "      <th>2015-12-11 17:08:14</th>\n",
       "      <td>1.119382</td>\n",
       "    </tr>\n",
       "    <tr>\n",
       "      <th>2015-12-11 19:33:39</th>\n",
       "      <td>1.437280</td>\n",
       "    </tr>\n",
       "  </tbody>\n",
       "</table>\n",
       "</div>"
      ],
      "text/plain": [
       "                      ewmac32\n",
       "2015-12-11 12:00:25  0.641233\n",
       "2015-12-11 14:11:34  0.776304\n",
       "2015-12-11 15:39:37  0.898877\n",
       "2015-12-11 17:08:14  1.119382\n",
       "2015-12-11 19:33:39  1.437280"
      ]
     },
     "execution_count": 5,
     "metadata": {},
     "output_type": "execute_result"
    }
   ],
   "source": [
    "from systems.forecast_scale_cap import ForecastScaleCapFixed\n",
    "\n",
    "my_config.forecast_scalars = dict(ewmac8=5.3, ewmac32=2.65)\n",
    "fcs = ForecastScaleCapFixed()\n",
    "my_system = System([fcs, my_rules], data, my_config)\n",
    "my_system.forecastScaleCap.get_capped_forecast(\n",
    "    \"EDOLLAR\", \"ewmac32\").tail(5)"
   ]
  },
  {
   "cell_type": "code",
   "execution_count": 6,
   "metadata": {
    "collapsed": false
   },
   "outputs": [
    {
     "name": "stdout",
     "output_type": "stream",
     "text": [
      "WARNING: No forecast weights  - using equal weights of 0.5000 over all 2 trading rules in system\n"
     ]
    },
    {
     "data": {
      "text/html": [
       "<div>\n",
       "<table border=\"1\" class=\"dataframe\">\n",
       "  <thead>\n",
       "    <tr style=\"text-align: right;\">\n",
       "      <th></th>\n",
       "      <th>comb_forecast</th>\n",
       "    </tr>\n",
       "  </thead>\n",
       "  <tbody>\n",
       "    <tr>\n",
       "      <th>2015-12-11 12:00:25</th>\n",
       "      <td>-0.176179</td>\n",
       "    </tr>\n",
       "    <tr>\n",
       "      <th>2015-12-11 14:11:34</th>\n",
       "      <td>0.636608</td>\n",
       "    </tr>\n",
       "    <tr>\n",
       "      <th>2015-12-11 15:39:37</th>\n",
       "      <td>1.067901</td>\n",
       "    </tr>\n",
       "    <tr>\n",
       "      <th>2015-12-11 17:08:14</th>\n",
       "      <td>1.872139</td>\n",
       "    </tr>\n",
       "    <tr>\n",
       "      <th>2015-12-11 19:33:39</th>\n",
       "      <td>2.897389</td>\n",
       "    </tr>\n",
       "  </tbody>\n",
       "</table>\n",
       "</div>"
      ],
      "text/plain": [
       "                     comb_forecast\n",
       "2015-12-11 12:00:25      -0.176179\n",
       "2015-12-11 14:11:34       0.636608\n",
       "2015-12-11 15:39:37       1.067901\n",
       "2015-12-11 17:08:14       1.872139\n",
       "2015-12-11 19:33:39       2.897389"
      ]
     },
     "execution_count": 6,
     "metadata": {},
     "output_type": "execute_result"
    }
   ],
   "source": [
    "\"\"\"\n",
    "combine some rules\n",
    "\"\"\"\n",
    "from systems.forecast_combine import ForecastCombineFixed\n",
    "\n",
    "# forecast_weights=dict(ewmac8=0.5, ewmac32=0.5), forecast_div_multiplier=1.1\n",
    "combiner = ForecastCombineFixed()\n",
    "my_system = System([fcs, my_rules, combiner], data, my_config)\n",
    "my_system.combForecast.get_combined_forecast(\"EDOLLAR\").tail(5)"
   ]
  },
  {
   "cell_type": "code",
   "execution_count": 7,
   "metadata": {
    "collapsed": false
   },
   "outputs": [
    {
     "data": {
      "text/html": [
       "<div>\n",
       "<table border=\"1\" class=\"dataframe\">\n",
       "  <thead>\n",
       "    <tr style=\"text-align: right;\">\n",
       "      <th></th>\n",
       "      <th>vol</th>\n",
       "    </tr>\n",
       "  </thead>\n",
       "  <tbody>\n",
       "    <tr>\n",
       "      <th>2015-12-07</th>\n",
       "      <td>0.057630</td>\n",
       "    </tr>\n",
       "    <tr>\n",
       "      <th>2015-12-08</th>\n",
       "      <td>0.056030</td>\n",
       "    </tr>\n",
       "    <tr>\n",
       "      <th>2015-12-09</th>\n",
       "      <td>0.054418</td>\n",
       "    </tr>\n",
       "    <tr>\n",
       "      <th>2015-12-10</th>\n",
       "      <td>0.055318</td>\n",
       "    </tr>\n",
       "    <tr>\n",
       "      <th>2015-12-11</th>\n",
       "      <td>0.059724</td>\n",
       "    </tr>\n",
       "  </tbody>\n",
       "</table>\n",
       "</div>"
      ],
      "text/plain": [
       "                 vol\n",
       "2015-12-07  0.057630\n",
       "2015-12-08  0.056030\n",
       "2015-12-09  0.054418\n",
       "2015-12-10  0.055318\n",
       "2015-12-11  0.059724"
      ]
     },
     "execution_count": 7,
     "metadata": {},
     "output_type": "execute_result"
    }
   ],
   "source": [
    "my_config.forecast_weights = dict(ewmac8=0.5, ewmac32=0.5)\n",
    "my_config.forecast_div_multiplier = 1.1\n",
    "my_system = System([fcs, empty_rules, combiner], data, my_config)\n",
    "my_system.combForecast.get_combined_forecast(\"EDOLLAR\").tail(5)\n",
    "\n",
    "# size positions\n",
    "from systems.positionsizing import PositionSizing\n",
    "possizer = PositionSizing()\n",
    "my_config.percentage_vol_target = 25\n",
    "my_config.notional_trading_capital = 500000\n",
    "my_config.base_currency = \"GBP\"\n",
    "\n",
    "my_system = System([fcs, my_rules, combiner, possizer], data, my_config)\n",
    "\n",
    "my_system.positionSize.get_price_volatility(\"EDOLLAR\").tail(5)"
   ]
  },
  {
   "cell_type": "code",
   "execution_count": 8,
   "metadata": {
    "collapsed": false
   },
   "outputs": [
    {
     "data": {
      "text/html": [
       "<div>\n",
       "<table border=\"1\" class=\"dataframe\">\n",
       "  <thead>\n",
       "    <tr style=\"text-align: right;\">\n",
       "      <th></th>\n",
       "      <th>bvalue</th>\n",
       "    </tr>\n",
       "  </thead>\n",
       "  <tbody>\n",
       "    <tr>\n",
       "      <th>2015-12-07</th>\n",
       "      <td>2448.0000</td>\n",
       "    </tr>\n",
       "    <tr>\n",
       "      <th>2015-12-08</th>\n",
       "      <td>2448.3750</td>\n",
       "    </tr>\n",
       "    <tr>\n",
       "      <th>2015-12-09</th>\n",
       "      <td>2448.6250</td>\n",
       "    </tr>\n",
       "    <tr>\n",
       "      <th>2015-12-10</th>\n",
       "      <td>2447.0000</td>\n",
       "    </tr>\n",
       "    <tr>\n",
       "      <th>2015-12-11</th>\n",
       "      <td>2449.6875</td>\n",
       "    </tr>\n",
       "  </tbody>\n",
       "</table>\n",
       "</div>"
      ],
      "text/plain": [
       "               bvalue\n",
       "2015-12-07  2448.0000\n",
       "2015-12-08  2448.3750\n",
       "2015-12-09  2448.6250\n",
       "2015-12-10  2447.0000\n",
       "2015-12-11  2449.6875"
      ]
     },
     "execution_count": 8,
     "metadata": {},
     "output_type": "execute_result"
    }
   ],
   "source": [
    "my_system.positionSize.get_block_value(\"EDOLLAR\").tail(5)"
   ]
  },
  {
   "cell_type": "code",
   "execution_count": 9,
   "metadata": {
    "collapsed": false
   },
   "outputs": [
    {
     "data": {
      "text/html": [
       "<div>\n",
       "<table border=\"1\" class=\"dataframe\">\n",
       "  <thead>\n",
       "    <tr style=\"text-align: right;\">\n",
       "      <th></th>\n",
       "      <th>price</th>\n",
       "    </tr>\n",
       "  </thead>\n",
       "  <tbody>\n",
       "    <tr>\n",
       "      <th>2015-12-07</th>\n",
       "      <td>97.9200</td>\n",
       "    </tr>\n",
       "    <tr>\n",
       "      <th>2015-12-08</th>\n",
       "      <td>97.9350</td>\n",
       "    </tr>\n",
       "    <tr>\n",
       "      <th>2015-12-09</th>\n",
       "      <td>97.9450</td>\n",
       "    </tr>\n",
       "    <tr>\n",
       "      <th>2015-12-10</th>\n",
       "      <td>97.8800</td>\n",
       "    </tr>\n",
       "    <tr>\n",
       "      <th>2015-12-11</th>\n",
       "      <td>97.9875</td>\n",
       "    </tr>\n",
       "  </tbody>\n",
       "</table>\n",
       "</div>"
      ],
      "text/plain": [
       "              price\n",
       "2015-12-07  97.9200\n",
       "2015-12-08  97.9350\n",
       "2015-12-09  97.9450\n",
       "2015-12-10  97.8800\n",
       "2015-12-11  97.9875"
      ]
     },
     "execution_count": 9,
     "metadata": {},
     "output_type": "execute_result"
    }
   ],
   "source": [
    "my_system.positionSize.get_instrument_sizing_data(\"EDOLLAR\")[0].tail(5)"
   ]
  },
  {
   "cell_type": "code",
   "execution_count": 10,
   "metadata": {
    "collapsed": false
   },
   "outputs": [
    {
     "data": {
      "text/html": [
       "<div>\n",
       "<table border=\"1\" class=\"dataframe\">\n",
       "  <thead>\n",
       "    <tr style=\"text-align: right;\">\n",
       "      <th></th>\n",
       "      <th>ivv</th>\n",
       "    </tr>\n",
       "  </thead>\n",
       "  <tbody>\n",
       "    <tr>\n",
       "      <th>2015-12-04</th>\n",
       "      <td>94.981647</td>\n",
       "    </tr>\n",
       "    <tr>\n",
       "      <th>2015-12-07</th>\n",
       "      <td>93.445111</td>\n",
       "    </tr>\n",
       "    <tr>\n",
       "      <th>2015-12-08</th>\n",
       "      <td>91.178750</td>\n",
       "    </tr>\n",
       "    <tr>\n",
       "      <th>2015-12-09</th>\n",
       "      <td>88.519571</td>\n",
       "    </tr>\n",
       "    <tr>\n",
       "      <th>2015-12-10</th>\n",
       "      <td>89.441887</td>\n",
       "    </tr>\n",
       "  </tbody>\n",
       "</table>\n",
       "</div>"
      ],
      "text/plain": [
       "                  ivv\n",
       "2015-12-04  94.981647\n",
       "2015-12-07  93.445111\n",
       "2015-12-08  91.178750\n",
       "2015-12-09  88.519571\n",
       "2015-12-10  89.441887"
      ]
     },
     "execution_count": 10,
     "metadata": {},
     "output_type": "execute_result"
    }
   ],
   "source": [
    "my_system.positionSize.get_instrument_value_vol(\"EDOLLAR\").tail(5)"
   ]
  },
  {
   "cell_type": "code",
   "execution_count": 11,
   "metadata": {
    "collapsed": false
   },
   "outputs": [
    {
     "data": {
      "text/html": [
       "<div>\n",
       "<table border=\"1\" class=\"dataframe\">\n",
       "  <thead>\n",
       "    <tr style=\"text-align: right;\">\n",
       "      <th></th>\n",
       "      <th>vol_scalar</th>\n",
       "    </tr>\n",
       "  </thead>\n",
       "  <tbody>\n",
       "    <tr>\n",
       "      <th>2015-12-04</th>\n",
       "      <td>82.252733</td>\n",
       "    </tr>\n",
       "    <tr>\n",
       "      <th>2015-12-07</th>\n",
       "      <td>83.605230</td>\n",
       "    </tr>\n",
       "    <tr>\n",
       "      <th>2015-12-08</th>\n",
       "      <td>85.683342</td>\n",
       "    </tr>\n",
       "    <tr>\n",
       "      <th>2015-12-09</th>\n",
       "      <td>88.257319</td>\n",
       "    </tr>\n",
       "    <tr>\n",
       "      <th>2015-12-10</th>\n",
       "      <td>87.347218</td>\n",
       "    </tr>\n",
       "  </tbody>\n",
       "</table>\n",
       "</div>"
      ],
      "text/plain": [
       "            vol_scalar\n",
       "2015-12-04   82.252733\n",
       "2015-12-07   83.605230\n",
       "2015-12-08   85.683342\n",
       "2015-12-09   88.257319\n",
       "2015-12-10   87.347218"
      ]
     },
     "execution_count": 11,
     "metadata": {},
     "output_type": "execute_result"
    }
   ],
   "source": [
    "my_system.positionSize.get_volatility_scalar(\"EDOLLAR\").tail(5)"
   ]
  },
  {
   "cell_type": "code",
   "execution_count": 12,
   "metadata": {
    "collapsed": false
   },
   "outputs": [
    {
     "data": {
      "text/plain": [
       "{'annual_cash_vol_target': 125000.0,\n",
       " 'base_currency': 'GBP',\n",
       " 'daily_cash_vol_target': 7812.5,\n",
       " 'notional_trading_capital': 500000.0,\n",
       " 'percentage_vol_target': 25}"
      ]
     },
     "execution_count": 12,
     "metadata": {},
     "output_type": "execute_result"
    }
   ],
   "source": [
    "my_system.positionSize.get_daily_cash_vol_target()"
   ]
  },
  {
   "cell_type": "code",
   "execution_count": 13,
   "metadata": {
    "collapsed": false
   },
   "outputs": [
    {
     "data": {
      "text/html": [
       "<div>\n",
       "<table border=\"1\" class=\"dataframe\">\n",
       "  <thead>\n",
       "    <tr style=\"text-align: right;\">\n",
       "      <th></th>\n",
       "      <th>ss_position</th>\n",
       "    </tr>\n",
       "  </thead>\n",
       "  <tbody>\n",
       "    <tr>\n",
       "      <th>2013-09-25</th>\n",
       "      <td>0.784995</td>\n",
       "    </tr>\n",
       "    <tr>\n",
       "      <th>2013-09-26</th>\n",
       "      <td>5.005528</td>\n",
       "    </tr>\n",
       "    <tr>\n",
       "      <th>2013-09-27</th>\n",
       "      <td>10.318398</td>\n",
       "    </tr>\n",
       "    <tr>\n",
       "      <th>2013-09-30</th>\n",
       "      <td>14.980339</td>\n",
       "    </tr>\n",
       "    <tr>\n",
       "      <th>2013-10-01</th>\n",
       "      <td>16.225480</td>\n",
       "    </tr>\n",
       "  </tbody>\n",
       "</table>\n",
       "</div>"
      ],
      "text/plain": [
       "            ss_position\n",
       "2013-09-25     0.784995\n",
       "2013-09-26     5.005528\n",
       "2013-09-27    10.318398\n",
       "2013-09-30    14.980339\n",
       "2013-10-01    16.225480"
      ]
     },
     "execution_count": 13,
     "metadata": {},
     "output_type": "execute_result"
    }
   ],
   "source": [
    "my_system.positionSize.get_subsystem_position(\"EDOLLAR\").tail(5)"
   ]
  },
  {
   "cell_type": "code",
   "execution_count": 14,
   "metadata": {
    "collapsed": false
   },
   "outputs": [
    {
     "data": {
      "text/html": [
       "<div>\n",
       "<table border=\"1\" class=\"dataframe\">\n",
       "  <thead>\n",
       "    <tr style=\"text-align: right;\">\n",
       "      <th></th>\n",
       "      <th>pos</th>\n",
       "    </tr>\n",
       "  </thead>\n",
       "  <tbody>\n",
       "    <tr>\n",
       "      <th>2013-09-25</th>\n",
       "      <td>0.470997</td>\n",
       "    </tr>\n",
       "    <tr>\n",
       "      <th>2013-09-26</th>\n",
       "      <td>3.003317</td>\n",
       "    </tr>\n",
       "    <tr>\n",
       "      <th>2013-09-27</th>\n",
       "      <td>6.191039</td>\n",
       "    </tr>\n",
       "    <tr>\n",
       "      <th>2013-09-30</th>\n",
       "      <td>8.988203</td>\n",
       "    </tr>\n",
       "    <tr>\n",
       "      <th>2013-10-01</th>\n",
       "      <td>9.735288</td>\n",
       "    </tr>\n",
       "  </tbody>\n",
       "</table>\n",
       "</div>"
      ],
      "text/plain": [
       "                 pos\n",
       "2013-09-25  0.470997\n",
       "2013-09-26  3.003317\n",
       "2013-09-27  6.191039\n",
       "2013-09-30  8.988203\n",
       "2013-10-01  9.735288"
      ]
     },
     "execution_count": 14,
     "metadata": {},
     "output_type": "execute_result"
    }
   ],
   "source": [
    "# portfolio\n",
    "from systems.portfolio import PortfoliosFixed\n",
    "portfolio = PortfoliosFixed()\n",
    "\n",
    "my_config.instrument_weights = dict(US10=.1, EDOLLAR=.4, CORN=.3, SP500=.2)\n",
    "my_config.instrument_div_multiplier = 1.5\n",
    "\n",
    "my_system = System([fcs, my_rules, combiner, possizer,\n",
    "                    portfolio], data, my_config)\n",
    "\n",
    "my_system.portfolio.get_notional_position(\"EDOLLAR\").tail(5)"
   ]
  },
  {
   "cell_type": "code",
   "execution_count": 15,
   "metadata": {
    "collapsed": false
   },
   "outputs": [
    {
     "data": {
      "text/plain": [
       "[[('min', '-0.1851'),\n",
       "  ('max', '0.2097'),\n",
       "  ('median', '0'),\n",
       "  ('mean', '0.0006869'),\n",
       "  ('std', '0.01854'),\n",
       "  ('skew', '-0.1128'),\n",
       "  ('ann_daily_mean', '0.1759'),\n",
       "  ('ann_daily_std', '0.2966'),\n",
       "  ('sharpe', '0.5929'),\n",
       "  ('sortino', '0.6696'),\n",
       "  ('avg_drawdown', '-0.1234'),\n",
       "  ('time_in_drawdown', '0.9735'),\n",
       "  ('calmar', '0.2871'),\n",
       "  ('avg_return_to_drawdown', '1.425'),\n",
       "  ('avg_loss', '-0.01302'),\n",
       "  ('avg_gain', '0.0131'),\n",
       "  ('gaintolossratio', '1.006'),\n",
       "  ('profitfactor', '1.138'),\n",
       "  ('hitrate', '0.5308')],\n",
       " ('You can also plot:', ['rolling_ann_std', 'drawdown', 'curve']),\n",
       " ('You can also print:', ['weekly', 'monthly', 'annual'])]"
      ]
     },
     "execution_count": 15,
     "metadata": {},
     "output_type": "execute_result"
    }
   ],
   "source": [
    "\"\"\"\n",
    "Have we made some dosh?\n",
    "\"\"\"\n",
    "\n",
    "from systems.account import Account\n",
    "my_account = Account()\n",
    "my_system = System([fcs, my_rules, combiner, possizer,\n",
    "                    portfolio, my_account], data, my_config)\n",
    "profits = my_system.accounts.portfolio()\n",
    "profits.stats()"
   ]
  },
  {
   "cell_type": "code",
   "execution_count": 16,
   "metadata": {
    "collapsed": false
   },
   "outputs": [
    {
     "data": {
      "text/plain": [
       "<matplotlib.axes._subplots.AxesSubplot at 0x7f7f9d035630>"
      ]
     },
     "execution_count": 16,
     "metadata": {},
     "output_type": "execute_result"
    },
    {
     "data": {
      "image/png": "[encoded data removed]",
      "text/plain": [
       "<matplotlib.figure.Figure at 0x7f7fa2dfdda0>"
      ]
     },
     "metadata": {},
     "output_type": "display_data"
    }
   ],
   "source": [
    "profits.rolling_ann_std().plot()"
   ]
  },
  {
   "cell_type": "code",
   "execution_count": 17,
   "metadata": {
    "collapsed": false
   },
   "outputs": [
    {
     "data": {
      "text/plain": [
       "<matplotlib.axes._subplots.AxesSubplot at 0x7f7f9cd79208>"
      ]
     },
     "execution_count": 17,
     "metadata": {},
     "output_type": "execute_result"
    },
    {
     "data": {
      "image/png": "[encoded data removed]",
      "text/plain": [
       "<matplotlib.figure.Figure at 0x7f7f9cd8df60>"
      ]
     },
     "metadata": {},
     "output_type": "display_data"
    }
   ],
   "source": [
    "profits.drawdown().plot()"
   ]
  },
  {
   "cell_type": "code",
   "execution_count": 18,
   "metadata": {
    "collapsed": false
   },
   "outputs": [
    {
     "data": {
      "text/plain": [
       "<matplotlib.axes._subplots.AxesSubplot at 0x7f7f9cd8dcc0>"
      ]
     },
     "execution_count": 18,
     "metadata": {},
     "output_type": "execute_result"
    },
    {
     "data": {
      "image/png": "[encoded data removed]",
      "text/plain": [
       "<matplotlib.figure.Figure at 0x7f7fa30ce630>"
      ]
     },
     "metadata": {},
     "output_type": "display_data"
    }
   ],
   "source": [
    "profits.curve().plot()"
   ]
  },
  {
   "cell_type": "code",
   "execution_count": 20,
   "metadata": {
    "collapsed": false
   },
   "outputs": [
    {
     "name": "stdout",
     "output_type": "stream",
     "text": [
      "Config with elements: base_currency, forecast_div_multiplier, forecast_scalars, forecast_weights, instrument_div_multiplier, instrument_weights, notional_trading_capital, percentage_vol_target, trading_rules\n",
      "                 pos\n",
      "2013-09-25  0.470997\n",
      "2013-09-26  3.003317\n",
      "2013-09-27  6.191039\n",
      "2013-09-30  8.988203\n",
      "2013-10-01  9.735288\n",
      "Config with elements: base_currency, forecast_div_multiplier, forecast_weights, instrument_div_multiplier, instrument_weights, notional_trading_capital, percentage_vol_target, trading_rules\n",
      "                      ewmac32\n",
      "2015-12-11 12:00:25  0.241975\n",
      "2015-12-11 14:11:34  0.292945\n",
      "2015-12-11 15:39:37  0.339199\n",
      "2015-12-11 17:08:14  0.422408\n",
      "2015-12-11 19:33:39  0.542370\n",
      "                       ewmac8\n",
      "2015-12-11 12:00:25 -0.187470\n",
      "2015-12-11 14:11:34  0.093757\n",
      "2015-12-11 15:39:37  0.233382\n",
      "2015-12-11 17:08:14  0.495263\n",
      "2015-12-11 19:33:39  0.822169\n",
      "                      ewmac32\n",
      "2015-12-11 12:00:25  0.641233\n",
      "2015-12-11 14:11:34  0.776304\n",
      "2015-12-11 15:39:37  0.898877\n",
      "2015-12-11 17:08:14  1.119382\n",
      "2015-12-11 19:33:39  1.437280\n",
      "2.65\n",
      "                     comb_forecast\n",
      "2015-12-11 12:00:25      -0.193797\n",
      "2015-12-11 14:11:34       0.700269\n",
      "2015-12-11 15:39:37       1.174691\n",
      "2015-12-11 17:08:14       2.059353\n",
      "2015-12-11 19:33:39       3.187127\n",
      "                     ewmac32  ewmac8\n",
      "2015-12-11 12:00:25      0.5     0.5\n",
      "2015-12-11 14:11:34      0.5     0.5\n",
      "2015-12-11 15:39:37      0.5     0.5\n",
      "2015-12-11 17:08:14      0.5     0.5\n",
      "2015-12-11 19:33:39      0.5     0.5\n",
      "            ss_position\n",
      "2013-09-25     0.784995\n",
      "2013-09-26     5.005528\n",
      "2013-09-27    10.318398\n",
      "2013-09-30    14.980339\n",
      "2013-10-01    16.225480\n",
      "                 pos\n",
      "2013-09-25  0.470997\n",
      "2013-09-26  3.003317\n",
      "2013-09-27  6.191039\n",
      "2013-09-30  8.988203\n",
      "2013-10-01  9.735288\n"
     ]
    }
   ],
   "source": [
    "\"\"\"\n",
    "Another approach is to create a config object\n",
    "\"\"\"\n",
    "my_config = Config(dict(trading_rules=dict(ewmac8=ewmac_8, ewmac32=ewmac_32),\n",
    "                        instrument_weights=dict(\n",
    "                            US10=.1, EDOLLAR=.4, CORN=.3, SP500=.2),\n",
    "                        instrument_div_multiplier=1.5, forecast_scalars=dict(ewmac8=5.3, ewmac32=2.65),\n",
    "                        forecast_weights=dict(ewmac8=0.5, ewmac32=0.5), forecast_div_multiplier=1.1,\n",
    "                        percentage_vol_target=25.00, notional_trading_capital=500000, base_currency=\"GBP\"))\n",
    "print(my_config)\n",
    "my_system = System([Account(), PortfoliosFixed(), PositionSizing(), ForecastCombineFixed(), ForecastScaleCapFixed(), Rules()\n",
    "                    ], data, my_config)\n",
    "print(my_system.portfolio.get_notional_position(\"EDOLLAR\").tail(5))\n",
    "\n",
    "\"\"\"\n",
    "... or to import one\n",
    "\"\"\"\n",
    "my_config = Config(\"systems.provided.example.simplesystemconfig.yaml\")\n",
    "print(my_config)\n",
    "my_system = System([Account(), PortfoliosFixed(), PositionSizing(), ForecastCombineFixed(), ForecastScaleCapFixed(), Rules()\n",
    "                    ], data, my_config)\n",
    "print(my_system.rules.get_raw_forecast(\"EDOLLAR\", \"ewmac32\").tail(5))\n",
    "print(my_system.rules.get_raw_forecast(\"EDOLLAR\", \"ewmac8\").tail(5))\n",
    "print(my_system.forecastScaleCap.get_capped_forecast(\n",
    "    \"EDOLLAR\", \"ewmac32\").tail(5))\n",
    "print(my_system.forecastScaleCap.get_forecast_scalar(\"EDOLLAR\", \"ewmac32\"))\n",
    "print(my_system.combForecast.get_combined_forecast(\"EDOLLAR\").tail(5))\n",
    "print(my_system.combForecast.get_forecast_weights(\"EDOLLAR\").tail(5))\n",
    "\n",
    "print(my_system.positionSize.get_subsystem_position(\"EDOLLAR\").tail(5))\n",
    "\n",
    "print(my_system.portfolio.get_notional_position(\"EDOLLAR\").tail(5))"
   ]
  }
 ],
 "metadata": {
  "kernelspec": {
   "display_name": "Python 3",
   "language": "python",
   "name": "python3"
  },
  "language_info": {
   "codemirror_mode": {
    "name": "ipython",
    "version": 3
   },
   "file_extension": ".py",
   "mimetype": "text/x-python",
   "name": "python",
   "nbconvert_exporter": "python",
   "pygments_lexer": "ipython3",
   "version": "3.5.1"
  }
 },
 "nbformat": 4,
 "nbformat_minor": 0
}
