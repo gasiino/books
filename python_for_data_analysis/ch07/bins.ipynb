{
 "metadata": {
  "name": "bins"
 },
 "nbformat": 3,
 "nbformat_minor": 0,
 "worksheets": [
  {
   "cells": [
    {
     "cell_type": "code",
     "collapsed": false,
     "input": [
      "import pandas as pd\n",
      "ages = [20, 22, 25, 27, 21, 23, 37, 31, 61, 45, 41, 32]\n"
     ],
     "language": "python",
     "outputs": [],
     "prompt_number": 8
    },
    {
     "cell_type": "code",
     "collapsed": false,
     "input": [
      "bins = [18, 25, 35, 60, 100]\n",
      "cats = pd.cut(ages, bins)\n",
      "cats"
     ],
     "language": "python",
     "outputs": [
      {
       "output_type": "pyout",
       "prompt_number": 10,
       "text": [
        "Categorical: \n",
        "array([(18, 25], (18, 25], (18, 25], (25, 35], (18, 25], (18, 25],\n",
        "       (35, 60], (25, 35], (60, 100], (35, 60], (35, 60], (25, 35]], dtype=object)\n",
        "Levels (4): Index([(18, 25], (25, 35], (35, 60], (60, 100]], dtype=object)"
       ]
      }
     ],
     "prompt_number": 10
    },
    {
     "cell_type": "code",
     "collapsed": false,
     "input": [
      "cats.labels"
     ],
     "language": "python",
     "outputs": [
      {
       "output_type": "pyout",
       "prompt_number": 11,
       "text": [
        "array([0, 0, 0, 1, 0, 0, 2, 1, 3, 2, 2, 1])"
       ]
      }
     ],
     "prompt_number": 11
    },
    {
     "cell_type": "code",
     "collapsed": false,
     "input": [
      "cats.levels"
     ],
     "language": "python",
     "outputs": [
      {
       "output_type": "pyout",
       "prompt_number": 12,
       "text": [
        "Index([(18, 25], (25, 35], (35, 60], (60, 100]], dtype=object)"
       ]
      }
     ],
     "prompt_number": 12
    },
    {
     "cell_type": "code",
     "collapsed": false,
     "input": [
      "group_names = ['Youth', 'YoungAdult', 'MiddleAged', 'Senior']\n",
      "cats = pd.cut(ages, bins,labels = group_names )\n",
      "cats"
     ],
     "language": "python",
     "outputs": [
      {
       "output_type": "pyout",
       "prompt_number": 14,
       "text": [
        "Categorical: \n",
        "array([Youth, Youth, Youth, YoungAdult, Youth, Youth, MiddleAged,\n",
        "       YoungAdult, Senior, MiddleAged, MiddleAged, YoungAdult], dtype=object)\n",
        "Levels (4): Index([Youth, YoungAdult, MiddleAged, Senior], dtype=object)"
       ]
      }
     ],
     "prompt_number": 14
    },
    {
     "cell_type": "code",
     "collapsed": false,
     "input": [
      "cats = pd.qcut(ages, 4) \n",
      "cats"
     ],
     "language": "python",
     "outputs": [
      {
       "output_type": "pyout",
       "prompt_number": 16,
       "text": [
        "Categorical: \n",
        "array([[20, 22.75], [20, 22.75], (22.75, 29], (22.75, 29], [20, 22.75],\n",
        "       (22.75, 29], (29, 38], (29, 38], (38, 61], (38, 61], (38, 61],\n",
        "       (29, 38]], dtype=object)\n",
        "Levels (4): Index([[20, 22.75], (22.75, 29], (29, 38], (38, 61]], dtype=object)"
       ]
      }
     ],
     "prompt_number": 16
    },
    {
     "cell_type": "code",
     "collapsed": false,
     "input": [
      "pd.value_counts(cats)"
     ],
     "language": "python",
     "outputs": [
      {
       "output_type": "pyout",
       "prompt_number": 17,
       "text": [
        "(29, 38]       3\n",
        "[20, 22.75]    3\n",
        "(38, 61]       3\n",
        "(22.75, 29]    3"
       ]
      }
     ],
     "prompt_number": 17
    },
    {
     "cell_type": "code",
     "collapsed": false,
     "input": [
      "pd.qcut(ages, [0, 0.1, 0.5, 0.9, 1.])\n"
     ],
     "language": "python",
     "outputs": [
      {
       "output_type": "pyout",
       "prompt_number": 18,
       "text": [
        "Categorical: \n",
        "array([[20, 21.1], (21.1, 29], (21.1, 29], (21.1, 29], [20, 21.1],\n",
        "       (21.1, 29], (29, 44.6], (29, 44.6], (44.6, 61], (44.6, 61],\n",
        "       (29, 44.6], (29, 44.6]], dtype=object)\n",
        "Levels (4): Index([[20, 21.1], (21.1, 29], (29, 44.6], (44.6, 61]], dtype=object)"
       ]
      }
     ],
     "prompt_number": 18
    },
    {
     "cell_type": "code",
     "collapsed": false,
     "input": [
      "pd.value_counts(cats)"
     ],
     "language": "python",
     "outputs": [
      {
       "output_type": "pyout",
       "prompt_number": 19,
       "text": [
        "(29, 38]       3\n",
        "[20, 22.75]    3\n",
        "(38, 61]       3\n",
        "(22.75, 29]    3"
       ]
      }
     ],
     "prompt_number": 19
    },
    {
     "cell_type": "code",
     "collapsed": false,
     "input": [],
     "language": "python",
     "outputs": []
    }
   ]
  }
 ]
}