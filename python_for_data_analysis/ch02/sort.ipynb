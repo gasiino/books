{
 "metadata": {
  "name": "sort"
 }, 
 "nbformat": 2, 
 "worksheets": [
  {
   "cells": [
    {
     "cell_type": "code", 
     "collapsed": false, 
     "input": [
      "from pandas import *", 
      "obj = Series([7, -5, 7, 4, 2, 0, 4])"
     ], 
     "language": "python", 
     "outputs": [], 
     "prompt_number": 8
    }, 
    {
     "cell_type": "code", 
     "collapsed": false, 
     "input": [
      "obj.rank()"
     ], 
     "language": "python", 
     "outputs": [
      {
       "output_type": "pyout", 
       "prompt_number": 2, 
       "text": [
        "0    6.5", 
        "1    1.0", 
        "2    6.5", 
        "3    4.5", 
        "4    3.0", 
        "5    2.0", 
        "6    4.5"
       ]
      }
     ], 
     "prompt_number": 2
    }, 
    {
     "cell_type": "code", 
     "collapsed": false, 
     "input": [
      "obj.rank(method='first')"
     ], 
     "language": "python", 
     "outputs": [
      {
       "output_type": "pyout", 
       "prompt_number": 9, 
       "text": [
        "0    6", 
        "1    1", 
        "2    7", 
        "3    4", 
        "4    3", 
        "5    2", 
        "6    5"
       ]
      }
     ], 
     "prompt_number": 9
    }, 
    {
     "cell_type": "code", 
     "collapsed": false, 
     "input": [
      "obj = Series([7, 2, 0, 4])", 
      "obj.rank()"
     ], 
     "language": "python", 
     "outputs": [
      {
       "output_type": "pyout", 
       "prompt_number": 10, 
       "text": [
        "0    4", 
        "1    2", 
        "2    1", 
        "3    3"
       ]
      }
     ], 
     "prompt_number": 10
    }, 
    {
     "cell_type": "code", 
     "collapsed": false, 
     "input": [], 
     "language": "python", 
     "outputs": [], 
     "prompt_number": 10
    }
   ]
  }
 ]
}