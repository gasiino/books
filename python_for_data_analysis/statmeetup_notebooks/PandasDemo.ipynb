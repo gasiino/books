{
    "worksheets": [
        {
            "cells": [
                {
                    "cell_type": "code", 
                    "language": "python", 
                    "outputs": [], 
                    "collapsed": true, 
                    "prompt_number": 1, 
                    "input": "from demo_support import *"
                }, 
                {
                    "source": "Series: dict-like 1D labeled array\n==================================", 
                    "cell_type": "markdown"
                }, 
                {
                    "cell_type": "code", 
                    "language": "python", 
                    "outputs": [
                        {
                            "output_type": "pyout", 
                            "prompt_number": 2, 
                            "text": "0    0.469112299907\n1    -0.282863344329\n2    -1.50905850317\n3    -1.13563237102\n4    1.21211202502"
                        }
                    ], 
                    "collapsed": false, 
                    "prompt_number": 2, 
                    "input": "s1 = Series(randn(5))\ns1"
                }, 
                {
                    "cell_type": "code", 
                    "language": "python", 
                    "outputs": [
                        {
                            "output_type": "pyout", 
                            "prompt_number": 3, 
                            "text": "a    -0.173214649053\nb    0.119208711297\nc    -1.04423596628\nd    -0.861848963348\ne    -2.10456921889"
                        }
                    ], 
                    "collapsed": false, 
                    "prompt_number": 3, 
                    "input": "labels = ['a', 'b', 'c', 'd', 'e']\ns2 = Series(randn(5), index=labels)\ns2"
                }, 
                {
                    "cell_type": "code", 
                    "language": "python", 
                    "outputs": [
                        {
                            "output_type": "pyout", 
                            "prompt_number": 4, 
                            "text": "Index([a, b, c, d, e], dtype=object)"
                        }
                    ], 
                    "collapsed": false, 
                    "prompt_number": 4, 
                    "input": "s2.index"
                }, 
                {
                    "cell_type": "code", 
                    "language": "python", 
                    "outputs": [
                        {
                            "output_type": "pyout", 
                            "prompt_number": 5, 
                            "text": "True"
                        }
                    ], 
                    "collapsed": false, 
                    "prompt_number": 5, 
                    "input": "'b' in s2"
                }, 
                {
                    "cell_type": "code", 
                    "language": "python", 
                    "outputs": [
                        {
                            "output_type": "pyout", 
                            "prompt_number": 6, 
                            "text": "True"
                        }
                    ], 
                    "collapsed": false, 
                    "prompt_number": 6, 
                    "input": "'b' in s2.index"
                }, 
                {
                    "cell_type": "code", 
                    "language": "python", 
                    "outputs": [], 
                    "collapsed": true, 
                    "prompt_number": 7, 
                    "input": "data_dict = s2.to_dict()\ns = Series(data_dict)\n#Series(data_dict)"
                }, 
                {
                    "cell_type": "code", 
                    "language": "python", 
                    "outputs": [
                        {
                            "output_type": "pyout", 
                            "prompt_number": 8, 
                            "text": "a    -0.173214649053\nb    0.119208711297\nc    -1.04423596628\nd    -0.861848963348\ne    -2.10456921889"
                        }
                    ], 
                    "collapsed": false, 
                    "prompt_number": 8, 
                    "input": "s"
                }, 
                {
                    "cell_type": "code", 
                    "language": "python", 
                    "outputs": [
                        {
                            "output_type": "pyout", 
                            "prompt_number": 9, 
                            "text": "a    -0.346429298107\nb    0.238417422594\nc    -2.08847193256\nd    -1.7236979267\ne    -4.20913843779"
                        }
                    ], 
                    "collapsed": false, 
                    "prompt_number": 9, 
                    "input": "s * 2"
                }, 
                {
                    "cell_type": "code", 
                    "language": "python", 
                    "outputs": [
                        {
                            "output_type": "pyout", 
                            "prompt_number": 10, 
                            "text": "a    0.840957084828\nb    1.12660502895\nc    0.351960626463\nd    0.422380394017\ne    0.121898174391"
                        }
                    ], 
                    "collapsed": false, 
                    "prompt_number": 10, 
                    "input": "np.exp(s)"
                }, 
                {
                    "cell_type": "code", 
                    "language": "python", 
                    "outputs": [
                        {
                            "output_type": "pyout", 
                            "prompt_number": 11, 
                            "text": "a    -0.173214649053\nb    0.119208711297\nc    -1.04423596628\nd    -0.861848963348\ne    -2.10456921889"
                        }
                    ], 
                    "collapsed": false, 
                    "prompt_number": 11, 
                    "input": "s2"
                }, 
                {
                    "cell_type": "code", 
                    "language": "python", 
                    "outputs": [
                        {
                            "output_type": "pyout", 
                            "prompt_number": 12, 
                            "text": "a    -0.173214649053\nb    0.119208711297\nc    -1.04423596628\nd    -0.861848963348\ne    -2.10456921889"
                        }
                    ], 
                    "collapsed": false, 
                    "prompt_number": 12, 
                    "input": "s"
                }, 
                {
                    "cell_type": "code", 
                    "language": "python", 
                    "outputs": [
                        {
                            "output_type": "pyout", 
                            "prompt_number": 13, 
                            "text": "a    -0.173214649053\nb    0.119208711297\nc    -1.04423596628"
                        }
                    ], 
                    "collapsed": false, 
                    "prompt_number": 13, 
                    "input": "s2 = s[:3]\ns2"
                }, 
                {
                    "cell_type": "code", 
                    "language": "python", 
                    "outputs": [
                        {
                            "output_type": "pyout", 
                            "prompt_number": 14, 
                            "text": "a    -0.346429298107\nb    0.238417422594\nc    -2.08847193256\nd    NaN\ne    NaN"
                        }
                    ], 
                    "collapsed": false, 
                    "prompt_number": 14, 
                    "input": "s + s2"
                }, 
                {
                    "source": "DataFrame\n=========", 
                    "cell_type": "markdown"
                }, 
                {
                    "cell_type": "code", 
                    "language": "python", 
                    "outputs": [
                        {
                            "output_type": "pyout", 
                            "prompt_number": 15, 
                            "text": "   foo     bar     baz   \na -0.4949  1.072   0.7216\nb -0.7068 -1.04    0.2719\nc -0.425   0.567   0.2762\nd -1.087  -0.6737  NaN   \ne -1.478   NaN     NaN   \n"
                        }
                    ], 
                    "collapsed": false, 
                    "prompt_number": 15, 
                    "input": "df = DataFrame(randn(5, 3), index=labels,\n               columns=['foo', 'bar', 'baz'])\ndf.ix[-1:, ['bar']] = nan\ndf.ix[-2:, ['baz']] = nan\ndf"
                }, 
                {
                    "cell_type": "code", 
                    "language": "python", 
                    "outputs": [
                        {
                            "output_type": "pyout", 
                            "prompt_number": 16, 
                            "text": "Index([foo, bar, baz], dtype=object)"
                        }
                    ], 
                    "collapsed": false, 
                    "prompt_number": 16, 
                    "input": "df.columns"
                }, 
                {
                    "cell_type": "code", 
                    "language": "python", 
                    "outputs": [
                        {
                            "output_type": "pyout", 
                            "prompt_number": 17, 
                            "text": "Index([a, b, c, d, e], dtype=object)"
                        }
                    ], 
                    "collapsed": false, 
                    "prompt_number": 17, 
                    "input": "df.index"
                }, 
                {
                    "cell_type": "code", 
                    "language": "python", 
                    "outputs": [
                        {
                            "output_type": "pyout", 
                            "prompt_number": 18, 
                            "text": "{&apos;bar&apos;: {&apos;a&apos;: 1.0718038070373379,\n  &apos;b&apos;: -1.0395749851146963,\n  &apos;c&apos;: 0.567020349793672,\n  &apos;d&apos;: -0.67368970808837059,\n  &apos;e&apos;: nan},\n &apos;baz&apos;: {&apos;a&apos;: 0.72155516224436689,\n  &apos;b&apos;: 0.27185988554282986,\n  &apos;c&apos;: 0.27623201927771873,\n  &apos;d&apos;: nan,\n  &apos;e&apos;: nan},\n &apos;foo&apos;: {&apos;a&apos;: -0.49492927406878129,\n  &apos;b&apos;: -0.70677113363008448,\n  &apos;c&apos;: -0.42497232978883753,\n  &apos;d&apos;: -1.0874006912859915,\n  &apos;e&apos;: -1.4784265524372235}}"
                        }
                    ], 
                    "collapsed": false, 
                    "prompt_number": 18, 
                    "input": "df_dict = df.to_dict()\ndf_dict\n# DataFrame(df_dict)"
                }, 
                {
                    "cell_type": "code", 
                    "language": "python", 
                    "outputs": [
                        {
                            "output_type": "pyout", 
                            "prompt_number": 19, 
                            "text": "a    -0.494929274069\nb    -0.70677113363\nc    -0.424972329789\nd    -1.08740069129\ne    -1.47842655244"
                        }
                    ], 
                    "collapsed": false, 
                    "prompt_number": 19, 
                    "input": "df['foo']"
                }, 
                {
                    "cell_type": "code", 
                    "language": "python", 
                    "outputs": [
                        {
                            "output_type": "pyout", 
                            "prompt_number": 20, 
                            "text": "   foo     bar     baz     ind  \na -0.4949  1.072   0.7216  False\nb -0.7068 -1.04    0.2719  False\nc -0.425   0.567   0.2762  False\nd -1.087  -0.6737  NaN     False\ne -1.478   NaN     NaN     False\n"
                        }
                    ], 
                    "collapsed": false, 
                    "prompt_number": 20, 
                    "input": "df['ind'] = df['foo'] > 0\ndf"
                }, 
                {
                    "cell_type": "code", 
                    "language": "python", 
                    "outputs": [
                        {
                            "output_type": "pyout", 
                            "prompt_number": 21, 
                            "text": "   foo     bar     baz   \na -0.4949  1.072   0.7216\nb -0.7068 -1.04    0.2719\nc -0.425   0.567   0.2762\nd -1.087  -0.6737  NaN   \ne -1.478   NaN     NaN   \n"
                        }
                    ], 
                    "collapsed": false, 
                    "prompt_number": 21, 
                    "input": "del df['ind']\ndf"
                }, 
                {
                    "cell_type": "code", 
                    "language": "python", 
                    "outputs": [
                        {
                            "output_type": "pyout", 
                            "prompt_number": 22, 
                            "text": "   foo     bar     baz     foo2  \na -0.4949  1.072   0.7216 -0.4949\nb -0.7068 -1.04    0.2719 -0.7068\nc -0.425   0.567   0.2762 -0.425 \nd -1.087  -0.6737  NaN     NaN   \ne -1.478   NaN     NaN     NaN   \n"
                        }
                    ], 
                    "collapsed": false, 
                    "prompt_number": 22, 
                    "input": "df['foo2'] = df['foo'][:3]\ndf"
                }, 
                {
                    "cell_type": "code", 
                    "language": "python", 
                    "outputs": [
                        {
                            "output_type": "pyout", 
                            "prompt_number": 23, 
                            "text": "array([[-0.4949,  1.0718,  0.7216, -0.4949],\n       [-0.7068, -1.0396,  0.2719, -0.7068],\n       [-0.425 ,  0.567 ,  0.2762, -0.425 ],\n       [-1.0874, -0.6737,     nan,     nan],\n       [-1.4784,     nan,     nan,     nan]])"
                        }
                    ], 
                    "collapsed": false, 
                    "prompt_number": 23, 
                    "input": "df.values"
                }, 
                {
                    "cell_type": "code", 
                    "language": "python", 
                    "outputs": [
                        {
                            "output_type": "pyout", 
                            "prompt_number": 24, 
                            "text": "   A  B  C    \n0  1  2  Hello\n1  2  3  World\n"
                        }
                    ], 
                    "collapsed": false, 
                    "prompt_number": 24, 
                    "input": "data = np.zeros((2,),dtype=[('A', 'i4'),('B', 'f4'),('C', 'a10')])\ndata[:] = [(1,2.,'Hello'),(2,3.,\"World\")]\nDataFrame(data)\n"
                }, 
                {
                    "cell_type": "code", 
                    "language": "python", 
                    "outputs": [
                        {
                            "output_type": "stream", 
                            "text": "a    1.0    a    1.0\nb    2.0    b    2.0\nc    3.0    c    3.0\n            d    4.0\n\n"
                        }
                    ], 
                    "collapsed": false, 
                    "prompt_number": 25, 
                    "input": "d = {'one' : Series([1., 2., 3.], index=['a', 'b', 'c']),\n     'two' : Series([1., 2., 3., 4.], index=['a', 'b', 'c', 'd'])}\n\nside_by_side(d['one'], d['two'])"
                }, 
                {
                    "cell_type": "code", 
                    "language": "python", 
                    "outputs": [
                        {
                            "output_type": "pyout", 
                            "prompt_number": 26, 
                            "text": "   one  two\na  1    1  \nb  2    2  \nc  3    3  \nd  NaN  4  \n"
                        }
                    ], 
                    "collapsed": false, 
                    "prompt_number": 26, 
                    "input": "DataFrame(d)"
                }, 
                {
                    "cell_type": "code", 
                    "language": "python", 
                    "outputs": [
                        {
                            "output_type": "pyout", 
                            "prompt_number": 27, 
                            "text": "   one  two\nd  NaN  4  \nb  2    2  \na  1    1  \n"
                        }
                    ], 
                    "collapsed": false, 
                    "prompt_number": 27, 
                    "input": "DataFrame(d, index=['d', 'b', 'a'])"
                }, 
                {
                    "cell_type": "code", 
                    "language": "python", 
                    "outputs": [
                        {
                            "output_type": "pyout", 
                            "prompt_number": 28, 
                            "text": "   two  three\nd  4    NaN  \nb  2    NaN  \na  1    NaN  \n"
                        }
                    ], 
                    "collapsed": false, 
                    "prompt_number": 28, 
                    "input": "DataFrame(d, index=['d', 'b', 'a'], \n          columns=['two', 'three'])"
                }, 
                {
                    "cell_type": "code", 
                    "language": "python", 
                    "outputs": [
                        {
                            "output_type": "stream", 
                            "text": "&lt;class &apos;pandas.core.frame.DataFrame&apos;&gt;\nIndex: 407 entries, 2010-02-01 00:00:00 to 2011-09-09 00:00:00\nData columns:\nAAPL    406  non-null values\nGOOG    406  non-null values\nMSFT    406  non-null values\nYHOO    406  non-null values\ndtypes: float64(4)\n"
                        }
                    ], 
                    "collapsed": false, 
                    "prompt_number": 29, 
                    "input": "rets.info()"
                }, 
                {
                    "cell_type": "code", 
                    "language": "python", 
                    "outputs": [], 
                    "collapsed": true, 
                    "prompt_number": 30, 
                    "input": "def leave_one_out(data, yvar='GOOG'):\n    data = data.copy()\n    y = data.pop(yvar)\n    result = {}\n    for var in data.columns:\n        X = data.drop([var], axis=1)\n        model = ols(y=y, x=X)\n        result['ex-%s' % var] = model.beta\n\n    return result\n"
                }, 
                {
                    "cell_type": "code", 
                    "language": "python", 
                    "outputs": [
                        {
                            "output_type": "pyout", 
                            "prompt_number": 31, 
                            "text": "{&apos;ex-AAPL&apos;: MSFT         0.479254766122\nYHOO         0.266409420004\nintercept    0.000159904691267,\n &apos;ex-MSFT&apos;: AAPL         0.50705735262\nYHOO         0.255165768409\nintercept    -0.00080064768362,\n &apos;ex-YHOO&apos;: AAPL         0.476462585226\nMSFT         0.393100003453\nintercept    -0.000655374761738}"
                        }
                    ], 
                    "collapsed": false, 
                    "prompt_number": 31, 
                    "input": "leave_one_out(rets)"
                }, 
                {
                    "cell_type": "code", 
                    "language": "python", 
                    "outputs": [
                        {
                            "output_type": "pyout", 
                            "prompt_number": 32, 
                            "text": "           ex-AAPL    ex-MSFT    ex-YHOO  \nAAPL       NaN        0.5071     0.4765   \nMSFT       0.4793     NaN        0.3931   \nYHOO       0.2664     0.2552     NaN      \nintercept  0.0001599 -0.0008006 -0.0006554\n"
                        }
                    ], 
                    "collapsed": false, 
                    "prompt_number": 32, 
                    "input": "DataFrame(leave_one_out(rets))"
                }, 
                {
                    "source": "Transposing\n-----------", 
                    "cell_type": "markdown"
                }, 
                {
                    "cell_type": "code", 
                    "language": "python", 
                    "outputs": [
                        {
                            "output_type": "pyout", 
                            "prompt_number": 33, 
                            "text": "   foo     bar     baz     foo2  \na -0.4949  1.072   0.7216 -0.4949\nb -0.7068 -1.04    0.2719 -0.7068\nc -0.425   0.567   0.2762 -0.425 \nd -1.087  -0.6737  NaN     NaN   \ne -1.478   NaN     NaN     NaN   \n"
                        }
                    ], 
                    "collapsed": false, 
                    "prompt_number": 33, 
                    "input": "df.T.T"
                }, 
                {
                    "source": "Data alignment\n==============", 
                    "cell_type": "markdown"
                }, 
                {
                    "cell_type": "code", 
                    "language": "python", 
                    "outputs": [
                        {
                            "output_type": "stream", 
                            "text": "a    -0.173214649053    a    -0.173214649053\nb    0.119208711297     b    0.119208711297 \nc    -1.04423596628     c    -1.04423596628 \nd    -0.861848963348                        \ne    -2.10456921889                         \n\n"
                        }
                    ], 
                    "collapsed": false, 
                    "prompt_number": 34, 
                    "input": "side_by_side(s, s2)"
                }, 
                {
                    "cell_type": "code", 
                    "language": "python", 
                    "outputs": [
                        {
                            "output_type": "pyout", 
                            "prompt_number": 35, 
                            "text": "a    -0.346429298107\nb    0.238417422594\nc    -2.08847193256\nd    NaN\ne    NaN"
                        }
                    ], 
                    "collapsed": false, 
                    "prompt_number": 35, 
                    "input": "s + s2"
                }, 
                {
                    "cell_type": "code", 
                    "language": "python", 
                    "outputs": [
                        {
                            "output_type": "pyout", 
                            "prompt_number": 36, 
                            "text": "a    -0.173214649053\nb    0.119208711297\nc    -1.04423596628"
                        }
                    ], 
                    "collapsed": false, 
                    "prompt_number": 36, 
                    "input": "s.reindex(s2.index)"
                }, 
                {
                    "cell_type": "code", 
                    "language": "python", 
                    "outputs": [
                        {
                            "output_type": "pyout", 
                            "prompt_number": 37, 
                            "text": "a    -0.173214649053\nb    0.119208711297\nc    -1.04423596628\nd    NaN\ne    NaN"
                        }
                    ], 
                    "collapsed": false, 
                    "prompt_number": 37, 
                    "input": "s2.reindex(s.index)"
                }, 
                {
                    "cell_type": "code", 
                    "language": "python", 
                    "outputs": [
                        {
                            "output_type": "stream", 
                            "text": "   A       B         C       D             A       B        C      \n0  0.577  -1.715    -1.039  -0.3706     0  1.608   1.024    0.5696 \n1 -1.158  -1.344     0.8449  1.076      1  0.8759 -2.211    0.9745 \n2 -0.109   1.644    -1.469   0.357      2 -2.007  -0.41    -0.07864\n3 -0.6746 -1.777    -0.9689 -1.295      3  0.546  -1.219   -1.227  \n4  0.4137  0.2767   -0.472  -0.01396    4  0.7698 -1.281   -0.7277 \n5 -0.3625 -0.006154 -0.9231  0.8957     5 -0.1213 -0.09788  0.6958 \n6  0.8052 -1.206     2.566   1.431      6  0.3417  0.9597  -1.11   \n7  1.34   -1.17     -0.2262  0.4108                                \n8  0.8139  0.132    -0.8273 -0.07647                               \n9 -1.188   1.13     -1.437  -1.414                                 \n                                                                   \n\n"
                        }
                    ], 
                    "collapsed": false, 
                    "prompt_number": 38, 
                    "input": "df = DataFrame(randn(10, 4), columns=['A', 'B', 'C', 'D'])\ndf2 = DataFrame(randn(7, 3), columns=['A', 'B', 'C'])\n\nside_by_side(df, df2)"
                }, 
                {
                    "cell_type": "code", 
                    "language": "python", 
                    "outputs": [
                        {
                            "output_type": "pyout", 
                            "prompt_number": 39, 
                            "text": "   A       B       C       D  \n0  2.185  -0.6908 -0.4697  NaN\n1 -0.282  -3.556   1.819   NaN\n2 -2.116   1.234  -1.548   NaN\n3 -0.1286 -2.996  -2.196   NaN\n4  1.184  -1.005  -1.2     NaN\n5 -0.4838 -0.104  -0.2273  NaN\n6  1.147  -0.2467  1.455   NaN\n7  NaN     NaN     NaN     NaN\n8  NaN     NaN     NaN     NaN\n9  NaN     NaN     NaN     NaN\n"
                        }
                    ], 
                    "collapsed": false, 
                    "prompt_number": 39, 
                    "input": "df + df2"
                }, 
                {
                    "cell_type": "code", 
                    "language": "python", 
                    "outputs": [
                        {
                            "output_type": "pyout", 
                            "prompt_number": 40, 
                            "text": "            A       B        C        D      \n2000-01-03 -0.62   -0.9542   3.357    1.52   \n2000-01-04  0.1497  1.463   -0.3174  -0.4937 \n2000-01-05 -0.7323 -1.743   -1.236    0.6002 \n2000-01-06  0.6877 -0.8266   0.8962   0.2742 \n2000-01-07  0.1764 -0.3454  -0.4876   0.1329 \n2000-01-10  0.4033  1.314   -0.08224 -0.02369\n2000-01-11 -0.155   0.6906  -2.183    2.41   \n2000-01-12  0.3016  0.9958   0.3804   1.451  \n2000-01-13 -2.18    2.397    0.08484  0.2061 \n2000-01-14 -1.37    0.01487  0.4324  -0.2519 \n"
                        }
                    ], 
                    "collapsed": false, 
                    "prompt_number": 40, 
                    "input": "df = tm.makeTimeDataFrame()\ndf"
                }, 
                {
                    "cell_type": "code", 
                    "language": "python", 
                    "outputs": [
                        {
                            "output_type": "pyout", 
                            "prompt_number": 41, 
                            "text": "            A       B       C       D     \n2000-01-03 -1.023  -2.268   3.44    1.544 \n2000-01-04 -0.2536  0.1485 -0.2352 -0.47  \n2000-01-05 -1.136  -3.057  -1.154   0.6239\n2000-01-06  0.2844 -2.141   0.9784  0.2979\n2000-01-07 -0.2269 -1.66   -0.4054  0.1566\n2000-01-10  0       0       0       0     \n2000-01-11 -0.5583 -0.6237 -2.101   2.434 \n2000-01-12 -0.1017 -0.3185  0.4626  1.474 \n2000-01-13 -2.583   1.083   0.1671  0.2297\n2000-01-14 -1.773  -1.299   0.5146 -0.2282\n"
                        }
                    ], 
                    "collapsed": false, 
                    "prompt_number": 41, 
                    "input": "df - df.ix[5]"
                }, 
                {
                    "cell_type": "code", 
                    "language": "python", 
                    "outputs": [
                        {
                            "output_type": "pyout", 
                            "prompt_number": 42, 
                            "text": "            A       B       C          D     \n2000-01-03 -0.2862 -1.255   3.273      0.9375\n2000-01-04  0.4836  1.162  -0.4019    -1.076 \n2000-01-05 -0.3985 -2.044  -1.321      0.0177\n2000-01-06  1.022  -1.127   0.8117    -0.3082\n2000-01-07  0.5103 -0.6459 -0.5721    -0.4496\n2000-01-10  0.7371  1.014  -0.1667    -0.6062\n2000-01-11  0.1789  0.39   -2.267      1.828 \n2000-01-12  0.6354  0.6952  0.2959     0.868 \n2000-01-13 -1.846   2.096   0.0003703 -0.3764\n2000-01-14 -1.036  -0.2857  0.3479    -0.8344\n"
                        }
                    ], 
                    "collapsed": false, 
                    "prompt_number": 42, 
                    "input": "df - df.mean()"
                }, 
                {
                    "cell_type": "code", 
                    "language": "python", 
                    "outputs": [
                        {
                            "output_type": "pyout", 
                            "prompt_number": 43, 
                            "text": "            A  B       C        D      \n2000-01-03  0 -0.3342  3.977    2.14   \n2000-01-04  0  1.313  -0.4672  -0.6434 \n2000-01-05  0 -1.011  -0.5039   1.333  \n2000-01-06  0 -1.514   0.2084  -0.4135 \n2000-01-07  0 -0.5218 -0.664   -0.04356\n2000-01-10  0  0.9109 -0.4855  -0.427  \n2000-01-11  0  0.8455 -2.028    2.565  \n2000-01-12  0  0.6941  0.07877  1.149  \n2000-01-13  0  4.577   2.265    2.386  \n2000-01-14  0  1.385   1.802    1.118  \n"
                        }
                    ], 
                    "collapsed": false, 
                    "prompt_number": 43, 
                    "input": "df.sub(df['A'], axis=0)"
                }, 
                {
                    "cell_type": "code", 
                    "language": "python", 
                    "outputs": [
                        {
                            "output_type": "pyout", 
                            "prompt_number": 44, 
                            "text": "A    2.22044604925e-17\nB    -3.05311331772e-17\nC    0.0\nD    5.55111512313e-17"
                        }
                    ], 
                    "collapsed": false, 
                    "prompt_number": 44, 
                    "input": "stand_df = (df - df.mean()) / df.std()\nstand_df.mean()\n# stand_df.std()"
                }, 
                {
                    "source": "Reindex: core data alignment method\n===================================", 
                    "cell_type": "markdown"
                }, 
                {
                    "cell_type": "code", 
                    "language": "python", 
                    "outputs": [
                        {
                            "output_type": "stream", 
                            "text": "a    -0.173214649053    a    -0.173214649053\nb    0.119208711297     b    0.119208711297 \nc    -1.04423596628     c    -1.04423596628 \nd    -0.861848963348                        \ne    -2.10456921889                         \n\n"
                        }
                    ], 
                    "collapsed": false, 
                    "prompt_number": 45, 
                    "input": "side_by_side(s, s2)"
                }, 
                {
                    "cell_type": "code", 
                    "language": "python", 
                    "outputs": [
                        {
                            "output_type": "pyout", 
                            "prompt_number": 46, 
                            "text": "a    -0.173214649053\nb    0.119208711297\nc    -1.04423596628"
                        }
                    ], 
                    "collapsed": false, 
                    "prompt_number": 46, 
                    "input": "s.reindex(s2.index)\n"
                }, 
                {
                    "cell_type": "code", 
                    "language": "python", 
                    "outputs": [
                        {
                            "output_type": "pyout", 
                            "prompt_number": 47, 
                            "text": "a    -0.173214649053\nb    0.119208711297\nc    -1.04423596628\nd    NaN\ne    NaN"
                        }
                    ], 
                    "collapsed": false, 
                    "prompt_number": 47, 
                    "input": "s2.reindex(s.index) # .fillna(0)"
                }, 
                {
                    "cell_type": "code", 
                    "language": "python", 
                    "outputs": [
                        {
                            "output_type": "pyout", 
                            "prompt_number": 48, 
                            "text": "            A       B        C        D      \n2000-01-03 -0.62   -0.9542   3.357    1.52   \n2000-01-04  0.1497  1.463   -0.3174  -0.4937 \n2000-01-05 -0.7323 -1.743   -1.236    0.6002 \n2000-01-06  0.6877 -0.8266   0.8962   0.2742 \n2000-01-07  0.1764 -0.3454  -0.4876   0.1329 \n2000-01-10  0.4033  1.314   -0.08224 -0.02369\n2000-01-11 -0.155   0.6906  -2.183    2.41   \n2000-01-12  0.3016  0.9958   0.3804   1.451  \n2000-01-13 -2.18    2.397    0.08484  0.2061 \n2000-01-14 -1.37    0.01487  0.4324  -0.2519 \n"
                        }
                    ], 
                    "collapsed": false, 
                    "prompt_number": 48, 
                    "input": "df"
                }, 
                {
                    "cell_type": "code", 
                    "language": "python", 
                    "outputs": [
                        {
                            "output_type": "pyout", 
                            "prompt_number": 49, 
                            "text": "            B        D        A     \n2000-01-03 -0.9542   1.52    -0.62  \n2000-01-04  1.463   -0.4937   0.1497\n2000-01-05 -1.743    0.6002  -0.7323\n2000-01-06 -0.8266   0.2742   0.6877\n2000-01-07 -0.3454   0.1329   0.1764\n2000-01-10  1.314   -0.02369  0.4033\n2000-01-11  0.6906   2.41    -0.155 \n2000-01-12  0.9958   1.451    0.3016\n2000-01-13  2.397    0.2061  -2.18  \n2000-01-14  0.01487 -0.2519  -1.37  \n"
                        }
                    ], 
                    "collapsed": false, 
                    "prompt_number": 49, 
                    "input": "df.reindex(columns=['B', 'D', 'A'])"
                }, 
                {
                    "cell_type": "code", 
                    "language": "python", 
                    "outputs": [
                        {
                            "output_type": "pyout", 
                            "prompt_number": 50, 
                            "text": "            A       B      \n2000-01-07  0.1764 -0.3454 \n2000-01-10  0.4033  1.314  \n2000-01-11 -0.155   0.6906 \n2000-01-12  0.3016  0.9958 \n2000-01-13 -2.18    2.397  \n2000-01-14 -1.37    0.01487\n"
                        }
                    ], 
                    "collapsed": false, 
                    "prompt_number": 50, 
                    "input": "new_index = df.index[4:]\ndf.reindex(index=new_index, columns=['A', 'B'])"
                }, 
                {
                    "source": "Filling when reindexing\n-----------------------", 
                    "cell_type": "markdown"
                }, 
                {
                    "cell_type": "code", 
                    "language": "python", 
                    "outputs": [
                        {
                            "output_type": "pyout", 
                            "prompt_number": 51, 
                            "text": "2000-01-03    -2.21358753433\n2000-01-04    1.06332728023\n2000-01-05    1.26614294721\n2000-01-06    0.299367612698\n2000-01-07    -0.863838004683\n2000-01-10    0.408204012368\n2000-01-11    -1.04808926579\n2000-01-12    -0.0257474480326"
                        }
                    ], 
                    "collapsed": false, 
                    "prompt_number": 51, 
                    "input": "rng = DateRange('1/3/2000', periods=8)\nts = Series(randn(8), index=rng)\nts"
                }, 
                {
                    "cell_type": "code", 
                    "language": "python", 
                    "outputs": [
                        {
                            "output_type": "pyout", 
                            "prompt_number": 52, 
                            "text": "2000-01-03    -2.21358753433\n2000-01-06    0.299367612698\n2000-01-11    -1.04808926579"
                        }
                    ], 
                    "collapsed": false, 
                    "prompt_number": 52, 
                    "input": "ts2 = ts[[0, 3, 6]]\nts2"
                }, 
                {
                    "cell_type": "code", 
                    "language": "python", 
                    "outputs": [
                        {
                            "output_type": "pyout", 
                            "prompt_number": 53, 
                            "text": "2000-01-03    -2.21358753433\n2000-01-04    NaN\n2000-01-05    NaN\n2000-01-06    0.299367612698\n2000-01-07    NaN\n2000-01-10    NaN\n2000-01-11    -1.04808926579\n2000-01-12    NaN"
                        }
                    ], 
                    "collapsed": false, 
                    "prompt_number": 53, 
                    "input": "ts2.reindex(ts.index)"
                }, 
                {
                    "cell_type": "code", 
                    "language": "python", 
                    "outputs": [
                        {
                            "output_type": "pyout", 
                            "prompt_number": 54, 
                            "text": "2000-01-03    -2.21358753433\n2000-01-04    -2.21358753433\n2000-01-05    -2.21358753433\n2000-01-06    0.299367612698\n2000-01-07    0.299367612698\n2000-01-10    0.299367612698\n2000-01-11    -1.04808926579\n2000-01-12    -1.04808926579"
                        }
                    ], 
                    "collapsed": false, 
                    "prompt_number": 54, 
                    "input": "ts2.reindex(ts.index, method='ffill')"
                }, 
                {
                    "cell_type": "code", 
                    "language": "python", 
                    "outputs": [
                        {
                            "output_type": "pyout", 
                            "prompt_number": 55, 
                            "text": "2000-01-03    -2.21358753433\n2000-01-04    0.0\n2000-01-05    0.0\n2000-01-06    0.299367612698\n2000-01-07    0.0\n2000-01-10    0.0\n2000-01-11    -1.04808926579\n2000-01-12    0.0"
                        }
                    ], 
                    "collapsed": false, 
                    "prompt_number": 55, 
                    "input": "ts2.reindex(ts.index).fillna(0)"
                }, 
                {
                    "cell_type": "code", 
                    "language": "python", 
                    "outputs": [
                        {
                            "output_type": "pyout", 
                            "prompt_number": 56, 
                            "text": "2000-01-03    -2.21358753433\n2000-01-04    -2.21358753433\n2000-01-05    -2.21358753433\n2000-01-06    0.299367612698\n2000-01-07    0.299367612698\n2000-01-10    0.299367612698\n2000-01-11    -1.04808926579\n2000-01-12    -1.04808926579"
                        }
                    ], 
                    "collapsed": false, 
                    "prompt_number": 56, 
                    "input": "ts2.reindex(ts.index).fillna(method='ffill')"
                }, 
                {
                    "source": "Indexing\n========", 
                    "cell_type": "markdown"
                }, 
                {
                    "cell_type": "code", 
                    "language": "python", 
                    "outputs": [
                        {
                            "output_type": "pyout", 
                            "prompt_number": 57, 
                            "text": "a    -0.173214649053\nb    0.119208711297\nc    -1.04423596628\nd    -0.861848963348\ne    -2.10456921889"
                        }
                    ], 
                    "collapsed": false, 
                    "prompt_number": 57, 
                    "input": "s"
                }, 
                {
                    "cell_type": "code", 
                    "language": "python", 
                    "outputs": [
                        {
                            "output_type": "pyout", 
                            "prompt_number": 58, 
                            "text": "-1.0442359662799567"
                        }
                    ], 
                    "collapsed": false, 
                    "prompt_number": 58, 
                    "input": "s['c']"
                }, 
                {
                    "cell_type": "code", 
                    "language": "python", 
                    "outputs": [
                        {
                            "output_type": "pyout", 
                            "prompt_number": 59, 
                            "text": "a    -0.173214649053\nb    0.119208711297\nc    -1.04423596628"
                        }
                    ], 
                    "collapsed": false, 
                    "prompt_number": 59, 
                    "input": "s[:3]"
                }, 
                {
                    "cell_type": "code", 
                    "language": "python", 
                    "outputs": [
                        {
                            "output_type": "pyout", 
                            "prompt_number": 60, 
                            "text": "e    -2.10456921889\nc    -1.04423596628\na    -0.173214649053"
                        }
                    ], 
                    "collapsed": false, 
                    "prompt_number": 60, 
                    "input": "s[[4, 2, 0]]"
                }, 
                {
                    "cell_type": "code", 
                    "language": "python", 
                    "outputs": [
                        {
                            "output_type": "pyout", 
                            "prompt_number": 61, 
                            "text": "a    -0.173214649053\nb    0.119208711297"
                        }
                    ], 
                    "collapsed": false, 
                    "prompt_number": 61, 
                    "input": "s[(s < 0.5) & (s > -0.5)]"
                }, 
                {
                    "cell_type": "code", 
                    "language": "python", 
                    "outputs": [
                        {
                            "output_type": "pyout", 
                            "prompt_number": 62, 
                            "text": "            A       B        C        D      \n2000-01-03 -0.62   -0.9542   3.357    1.52   \n2000-01-04  0.1497  1.463   -0.3174  -0.4937 \n2000-01-05 -0.7323 -1.743   -1.236    0.6002 \n2000-01-06  0.6877 -0.8266   0.8962   0.2742 \n2000-01-07  0.1764 -0.3454  -0.4876   0.1329 \n2000-01-10  0.4033  1.314   -0.08224 -0.02369\n2000-01-11 -0.155   0.6906  -2.183    2.41   \n2000-01-12  0.3016  0.9958   0.3804   1.451  \n2000-01-13 -2.18    2.397    0.08484  0.2061 \n2000-01-14 -1.37    0.01487  0.4324  -0.2519 \n"
                        }
                    ], 
                    "collapsed": false, 
                    "prompt_number": 62, 
                    "input": "df"
                }, 
                {
                    "cell_type": "code", 
                    "language": "python", 
                    "outputs": [
                        {
                            "output_type": "pyout", 
                            "prompt_number": 63, 
                            "text": "2000-01-03    -0.619975919448\n2000-01-04    0.149748318563\n2000-01-05    -0.732339370509\n2000-01-06    0.68773838951\n2000-01-07    0.176444342581\n2000-01-10    0.403309523958\n2000-01-11    -0.154950774425\n2000-01-12    0.301624452319\n2000-01-13    -2.17986060539\n2000-01-14    -1.36984935765"
                        }
                    ], 
                    "collapsed": false, 
                    "prompt_number": 63, 
                    "input": "df['A']"
                }, 
                {
                    "cell_type": "code", 
                    "language": "python", 
                    "outputs": [
                        {
                            "output_type": "pyout", 
                            "prompt_number": 64, 
                            "text": "            A       B       C        D      \n2000-01-04  0.1497  1.463  -0.3174  -0.4937 \n2000-01-06  0.6877 -0.8266  0.8962   0.2742 \n2000-01-07  0.1764 -0.3454 -0.4876   0.1329 \n2000-01-10  0.4033  1.314  -0.08224 -0.02369\n2000-01-12  0.3016  0.9958  0.3804   1.451  \n"
                        }
                    ], 
                    "collapsed": false, 
                    "prompt_number": 64, 
                    "input": "df[df['A'] > 0]"
                }, 
                {
                    "cell_type": "code", 
                    "language": "python", 
                    "outputs": [
                        {
                            "output_type": "pyout", 
                            "prompt_number": 65, 
                            "text": "            A       B       C       D     \n2000-01-03 -0.62   -0.9542  3.357   1.52  \n2000-01-04  0.1497  1.463  -0.3174 -0.4937\n2000-01-05 -0.7323 -1.743  -1.236   0.6002\n2000-01-06  0.6877 -0.8266  0.8962  0.2742\n2000-01-07  0.1764 -0.3454 -0.4876  0.1329\n"
                        }
                    ], 
                    "collapsed": false, 
                    "prompt_number": 65, 
                    "input": "df[:5]"
                }, 
                {
                    "cell_type": "code", 
                    "language": "python", 
                    "outputs": [
                        {
                            "output_type": "pyout", 
                            "prompt_number": 66, 
                            "text": "datetime.datetime(2000, 1, 10, 0, 0)"
                        }
                    ], 
                    "collapsed": false, 
                    "prompt_number": 66, 
                    "input": "date = df.index[5]\ndate"
                }, 
                {
                    "cell_type": "code", 
                    "language": "python", 
                    "outputs": [
                        {
                            "output_type": "pyout", 
                            "prompt_number": 67, 
                            "text": "A    0.403309523958\nB    1.31423237961\nC    -0.0822403265439\nD    -0.0236884747158"
                        }
                    ], 
                    "collapsed": false, 
                    "prompt_number": 67, 
                    "input": "df.xs(date)"
                }, 
                {
                    "cell_type": "code", 
                    "language": "python", 
                    "outputs": [
                        {
                            "output_type": "pyout", 
                            "prompt_number": 68, 
                            "text": "            A      B      C      D    \n2000-01-03  False  False  True   True \n2000-01-04  True   True   False  False\n2000-01-05  False  False  False  True \n2000-01-06  True   False  True   True \n2000-01-07  True   False  False  True \n2000-01-10  True   True   False  False\n2000-01-11  False  True   False  True \n2000-01-12  True   True   True   True \n2000-01-13  False  True   True   True \n2000-01-14  False  True   True   False\n"
                        }
                    ], 
                    "collapsed": false, 
                    "prompt_number": 68, 
                    "input": "df2 = df.copy()\ndf2 > 0"
                }, 
                {
                    "cell_type": "code", 
                    "language": "python", 
                    "outputs": [
                        {
                            "output_type": "pyout", 
                            "prompt_number": 69, 
                            "text": "            A       B       C        D      \n2000-01-03 -0.62   -0.9542  0        0      \n2000-01-04  0       0      -0.3174  -0.4937 \n2000-01-05 -0.7323 -1.743  -1.236    0      \n2000-01-06  0      -0.8266  0        0      \n2000-01-07  0      -0.3454 -0.4876   0      \n2000-01-10  0       0      -0.08224 -0.02369\n2000-01-11 -0.155   0      -2.183    0      \n2000-01-12  0       0       0        0      \n2000-01-13 -2.18    0       0        0      \n2000-01-14 -1.37    0       0       -0.2519 \n"
                        }
                    ], 
                    "collapsed": false, 
                    "prompt_number": 69, 
                    "input": "df2[df2 > 0] = 0\ndf2"
                }, 
                {
                    "source": "\"Advanced\" Indexing\n-------------------", 
                    "cell_type": "markdown"
                }, 
                {
                    "cell_type": "code", 
                    "language": "python", 
                    "outputs": [
                        {
                            "output_type": "pyout", 
                            "prompt_number": 70, 
                            "text": "   foo     bar     baz    \na -1.197  -1.067  -0.3034 \nb -0.8584  0.307  -0.02867\nc  0.3843  1.574   1.589  \nd  0.4767  0.4734  NaN    \ne -0.0148  NaN     NaN    \n"
                        }
                    ], 
                    "collapsed": false, 
                    "prompt_number": 70, 
                    "input": "tm.N = 10\ntdf = tm.makeTimeDataFrame()\ndf = DataFrame(randn(5, 3), index=labels,\n               columns=['foo', 'bar', 'baz'])\ndf.ix[-1:, ['bar']] = nan\ndf.ix[-2:, ['baz']] = nan\ndf"
                }, 
                {
                    "cell_type": "code", 
                    "language": "python", 
                    "outputs": [
                        {
                            "output_type": "pyout", 
                            "prompt_number": 71, 
                            "text": "   bar    baz    \ne  NaN    NaN    \na -1.067 -0.3034 \nb  0.307 -0.02867\n"
                        }
                    ], 
                    "collapsed": false, 
                    "prompt_number": 71, 
                    "input": "df.ix[['e', 'a' ,'b'], ['bar', 'baz']]"
                }, 
                {
                    "cell_type": "code", 
                    "language": "python", 
                    "outputs": [
                        {
                            "output_type": "pyout", 
                            "prompt_number": 72, 
                            "text": "   foo     bar   \nc  0.3843  1.574 \nd  0.4767  0.4734\n"
                        }
                    ], 
                    "collapsed": false, 
                    "prompt_number": 72, 
                    "input": "df.ix[df['foo'] > 0, :2]"
                }, 
                {
                    "cell_type": "code", 
                    "language": "python", 
                    "outputs": [
                        {
                            "output_type": "pyout", 
                            "prompt_number": 73, 
                            "text": "            A        B        C       D     \n2000-01-03 -0.9884  -2.484   -1.071  -1.341 \n2000-01-04  0.09406 -0.2815   0.4412  1.847 \n2000-01-05  1.263    0.03071  2.354  -1.329 \n2000-01-06  1.29     0.1091   0.5838  1.683 \n2000-01-07  0.08242  1.126    0.2215 -1.718 \n2000-01-10 -0.05576 -0.9773  -0.7445  0.8888\n2000-01-11  0.5366   1.474    0.7585  0.2284\n2000-01-12 -0.4897  -0.06403  1.73    0.9018\n2000-01-13  0.3694  -1.283   -0.965   1.171 \n2000-01-14 -0.03457  0.7818  -0.8457  0.5203\n"
                        }
                    ], 
                    "collapsed": false, 
                    "prompt_number": 73, 
                    "input": "tdf"
                }, 
                {
                    "cell_type": "code", 
                    "language": "python", 
                    "outputs": [
                        {
                            "output_type": "pyout", 
                            "prompt_number": 74, 
                            "text": "2000-01-03    -0.988386920027\n2000-01-04    0.0940551647546\n2000-01-05    1.26273051255\n2000-01-06    1.2899970439\n2000-01-07    0.0824231830054"
                        }
                    ], 
                    "collapsed": false, 
                    "prompt_number": 74, 
                    "input": "tdf.ix[:5, 'A']"
                }, 
                {
                    "cell_type": "code", 
                    "language": "python", 
                    "outputs": [
                        {
                            "output_type": "pyout", 
                            "prompt_number": 75, 
                            "text": "            A        C     \n2000-01-03 -0.9884  -1.071 \n2000-01-04  0.09406  0.4412\n2000-01-05  1.263    2.354 \n2000-01-06  1.29     0.5838\n2000-01-07  0.08242  0.2215\n"
                        }
                    ], 
                    "collapsed": false, 
                    "prompt_number": 75, 
                    "input": "tdf.ix[:5, ['A', 'C']]"
                }, 
                {
                    "cell_type": "code", 
                    "language": "python", 
                    "outputs": [
                        {
                            "output_type": "pyout", 
                            "prompt_number": 76, 
                            "text": "A    -0.0557578105699\nB    -0.97734922988\nC    -0.744471379873\nD    0.888781790696"
                        }
                    ], 
                    "collapsed": false, 
                    "prompt_number": 76, 
                    "input": "date = tdf.index[5]\ntdf.xs(date)\ntdf.ix[5]"
                }, 
                {
                    "cell_type": "code", 
                    "language": "python", 
                    "outputs": [
                        {
                            "output_type": "pyout", 
                            "prompt_number": 77, 
                            "text": "datetime.datetime(2000, 1, 10, 0, 0)"
                        }
                    ], 
                    "collapsed": false, 
                    "prompt_number": 77, 
                    "input": "date"
                }, 
                {
                    "cell_type": "code", 
                    "language": "python", 
                    "outputs": [
                        {
                            "output_type": "pyout", 
                            "prompt_number": 78, 
                            "text": "            A        B        C       D     \n2000-01-10 -0.05576 -0.9773  -0.7445  0.8888\n2000-01-11  0.5366   1.474    0.7585  0.2284\n2000-01-12 -0.4897  -0.06403  1.73    0.9018\n2000-01-13  0.3694  -1.283   -0.965   1.171 \n2000-01-14 -0.03457  0.7818  -0.8457  0.5203\n"
                        }
                    ], 
                    "collapsed": false, 
                    "prompt_number": 78, 
                    "input": "tdf.ix[date:]"
                }, 
                {
                    "cell_type": "code", 
                    "language": "python", 
                    "outputs": [], 
                    "collapsed": true, 
                    "prompt_number": 79, 
                    "input": "# setting works too"
                }, 
                {
                    "cell_type": "code", 
                    "language": "python", 
                    "outputs": [
                        {
                            "output_type": "pyout", 
                            "prompt_number": 80, 
                            "text": "2010-02-01    192.37\n2010-02-02    195.91\n2010-02-03    195.17\n2010-02-04    196.73\n2010-02-05    192.63\n2010-02-08    195.69\n2010-02-09    196.42\n2010-02-10    195.89\n2010-02-11    194.88\n2010-02-12    198.11"
                        }
                    ], 
                    "collapsed": false, 
                    "prompt_number": 80, 
                    "input": "panel.ix['open', :, 'AAPL'][:10]"
                }, 
                {
                    "source": "Hierarchical indexing\n---------------------", 
                    "cell_type": "markdown"
                }, 
                {
                    "cell_type": "code", 
                    "language": "python", 
                    "outputs": [
                        {
                            "output_type": "pyout", 
                            "prompt_number": 81, 
                            "text": "            A       B        C       \nfoo  one   -1.462  -1.138   -0.8911  \n     two   -0.6939  1.614    0.464   \n     three  0.2274 -0.4969   0.3064  \nbar  one   -2.291  -1.135   -1.562   \n     two   -0.2608  0.282    1.524   \nbaz  two   -0.9029  0.06816 -0.05787 \n     three -0.3682 -1.144    0.8612  \nqux  one    0.8002  0.7821  -1.069   \n     two   -1.099   0.2553   0.00975 \n     three  0.6611  0.3793  -0.008434\n"
                        }
                    ], 
                    "collapsed": false, 
                    "prompt_number": 81, 
                    "input": "index = MultiIndex(levels=[['foo', 'bar', 'baz', 'qux'],\n                                   ['one', 'two', 'three']],\n                           labels=[[0, 0, 0, 1, 1, 2, 2, 3, 3, 3],\n                                   [0, 1, 2, 0, 1, 1, 2, 0, 1, 2]])\nhdf = DataFrame(np.random.randn(10, 3), index=index,\n                columns=['A', 'B', 'C'])\nhdf"
                }, 
                {
                    "source": "Function application\n====================", 
                    "cell_type": "markdown"
                }, 
                {
                    "cell_type": "code", 
                    "language": "python", 
                    "outputs": [
                        {
                            "output_type": "pyout", 
                            "prompt_number": 82, 
                            "text": "   foo     bar    baz   \na  0.3021  0.344  0.7383\nb  0.4238  1.359  0.9717\nc  1.469   4.827  4.899 \nd  1.611   1.605  NaN   \ne  0.9853  NaN    NaN   \n"
                        }
                    ], 
                    "collapsed": false, 
                    "prompt_number": 82, 
                    "input": "np.exp(df)"
                }, 
                {
                    "cell_type": "code", 
                    "language": "python", 
                    "outputs": [
                        {
                            "output_type": "pyout", 
                            "prompt_number": 83, 
                            "text": "foo    0.476720341835\nbar    1.5741593353\nbaz    1.58893092159"
                        }
                    ], 
                    "collapsed": false, 
                    "prompt_number": 83, 
                    "input": "df.apply(np.max, axis=0)"
                }, 
                {
                    "cell_type": "code", 
                    "language": "python", 
                    "outputs": [
                        {
                            "output_type": "pyout", 
                            "prompt_number": 84, 
                            "text": "foo    1.67379178868\nbar    2.64112835606\nbaz    1.89235197764"
                        }
                    ], 
                    "collapsed": false, 
                    "prompt_number": 84, 
                    "input": "df.apply(lambda x: x.max() - x.min()) # np.ptp"
                }, 
                {
                    "source": "Descriptive stats\n-----------------", 
                    "cell_type": "markdown"
                }, 
                {
                    "cell_type": "code", 
                    "language": "python", 
                    "outputs": [
                        {
                            "output_type": "pyout", 
                            "prompt_number": 86, 
                            "text": "            A       B       C       D      \n2000-01-03  NaN     1.489  -1.058  -1.834  \n2000-01-04  NaN    -0.8965  1.375   1.772  \n2000-01-05  NaN     0.5769 -0.9288 -0.67   \n2000-01-06  NaN     1.146  -0.3089  0.04931\n2000-01-07  NaN     1.487  -0.6811 -0.5215 \n2000-01-10 -0.5075  0.6046  0.378  -3.202  \n2000-01-11 -0.2301  2.121   0.4937  0.7927 \n2000-01-12  0.3945  0.5977  NaN     0.1461 \n2000-01-13 -1.934   0.5637  NaN     1.903  \n2000-01-14 -1.652   0.9677  2.016  -0.7472 \n"
                        }
                    ], 
                    "collapsed": false, 
                    "prompt_number": 86, 
                    "input": "df = tm.makeTimeDataFrame()\ndf.ix[:5, 'A'] = np.nan\ndf.ix[7:9, 'C'] = np.nan\ndf"
                }, 
                {
                    "cell_type": "code", 
                    "language": "python", 
                    "outputs": [
                        {
                            "output_type": "pyout", 
                            "prompt_number": 87, 
                            "text": "A    5\nB    10\nC    8\nD    10"
                        }
                    ], 
                    "collapsed": false, 
                    "prompt_number": 87, 
                    "input": "df.count(0)"
                }, 
                {
                    "cell_type": "code", 
                    "language": "python", 
                    "outputs": [
                        {
                            "output_type": "pyout", 
                            "prompt_number": 88, 
                            "text": "2000-01-03    -0.467625793454\n2000-01-04    0.750091742207\n2000-01-05    -0.340642188468\n2000-01-06    0.295484662183\n2000-01-07    0.0949228228313\n2000-01-10    -0.681677440339\n2000-01-11    0.794436538023\n2000-01-12    0.379437225359\n2000-01-13    0.177525712537\n2000-01-14    0.145879079656"
                        }
                    ], 
                    "collapsed": false, 
                    "prompt_number": 88, 
                    "input": "df.mean(1)"
                }, 
                {
                    "cell_type": "code", 
                    "language": "python", 
                    "outputs": [
                        {
                            "output_type": "pyout", 
                            "prompt_number": 89, 
                            "text": "       A       B       C        D     \ncount  5       10      8        10    \nmean  -0.786   0.8658  0.1607  -0.2311\nstd    0.981   0.8069  1.113    1.555 \nmin   -1.934  -0.8965 -1.058   -3.202 \n10%   -1.822   0.4177 -0.9675  -1.971 \n50%   -0.5075  0.7861  0.03455 -0.2361\n90%    0.1447  1.552   1.567    1.785 \nmax    0.3945  2.121   2.016    1.903 \n"
                        }
                    ], 
                    "collapsed": false, 
                    "prompt_number": 89, 
                    "input": "df.describe()"
                }, 
                {
                    "cell_type": "code", 
                    "language": "python", 
                    "outputs": [], 
                    "collapsed": true, 
                    "prompt_number": 90, 
                    "input": "# df.describe??"
                }, 
                {
                    "cell_type": "code", 
                    "language": "python", 
                    "outputs": [
                        {
                            "output_type": "pyout", 
                            "prompt_number": 91, 
                            "text": "            AAPL      GOOG     MSFT      YHOO   \n2010-02-26  NaN       NaN      NaN       NaN    \n2010-03-31  0.1485    0.07654  0.02163   0.07969\n2010-04-30  0.111    -0.07304  0.04268   0      \n2010-05-31 -0.01612  -0.07622 -0.1552   -0.07199\n2010-06-30 -0.02083  -0.08377 -0.1081   -0.09778\n2010-07-30  0.02274   0.08967  0.1217    0.00289\n2010-08-31 -0.055    -0.07184 -0.09066  -0.05548\n2010-09-30  0.1672    0.1684   0.04346   0.08085\n2010-10-29  0.06072   0.1672   0.08902   0.1637 \n2010-11-30  0.03379  -0.09449 -0.05287  -0.04063\n2010-12-31  0.03667   0.06885  0.1049    0.0512 \n2011-01-31  0.05196   0.01076 -0.006449 -0.03067\n2011-02-28  0.04093   0.02172 -0.04147   0.01737\n2011-03-31 -0.01331  -0.04343 -0.04477   0.01707\n2011-04-29  0.004648 -0.0727   0.02087   0.06115\n2011-05-31 -0.006569 -0.02772 -0.03511  -0.06497\n2011-06-30 -0.03496  -0.0428   0.03958  -0.09124\n2011-07-29  0.1633    0.1922   0.05385  -0.129  \n2011-08-31 -0.01447  -0.1039  -0.0292    0.03893\n"
                        }
                    ], 
                    "collapsed": false, 
                    "prompt_number": 91, 
                    "input": "monthly = (1 + rets).cumprod().asfreq('EOM', method='pad')\nmrets = monthly / monthly.shift(1) - 1\nmrets\n# mrets.corr()"
                }, 
                {
                    "cell_type": "code", 
                    "language": "python", 
                    "outputs": [
                        {
                            "output_type": "pyout", 
                            "prompt_number": 92, 
                            "text": "A    0.41086302056\nB    0.165947864961\nC    0.401246842979\nD    -0.229911782108"
                        }
                    ], 
                    "collapsed": false, 
                    "prompt_number": 92, 
                    "input": "df1 = tm.makeTimeDataFrame()\ndf2 = tm.makeTimeDataFrame()\ndf1.corrwith(df2)"
                }, 
                {
                    "source": "Missing Data\n============", 
                    "cell_type": "markdown"
                }, 
                {
                    "source": "Time Series Functionality\n=========================", 
                    "cell_type": "markdown"
                }, 
                {
                    "cell_type": "code", 
                    "language": "python", 
                    "outputs": [
                        {
                            "output_type": "pyout", 
                            "prompt_number": 93, 
                            "text": "&lt;class &apos;pandas.core.daterange.DateRange&apos;&gt;\noffset: &lt;1 BusinessDay&gt;, tzinfo: None\n[2000-01-03 00:00:00, ..., 2000-01-28 00:00:00]\nlength: 20"
                        }
                    ], 
                    "collapsed": false, 
                    "prompt_number": 93, 
                    "input": "DateRange('1/1/2000', periods=20)"
                }, 
                {
                    "cell_type": "code", 
                    "language": "python", 
                    "outputs": [
                        {
                            "output_type": "pyout", 
                            "prompt_number": 94, 
                            "text": "&lt;class &apos;pandas.core.daterange.DateRange&apos;&gt;\noffset: &lt;1 BusinessMonthEnd&gt;, tzinfo: None\n[2000-01-31 00:00:00, ..., 2001-08-31 00:00:00]\nlength: 20"
                        }
                    ], 
                    "collapsed": false, 
                    "prompt_number": 94, 
                    "input": "DateRange('1/1/2000', periods=20, \n          offset=datetools.BMonthEnd())"
                }, 
                {
                    "cell_type": "code", 
                    "language": "python", 
                    "outputs": [
                        {
                            "output_type": "pyout", 
                            "prompt_number": 95, 
                            "text": "&lt;class &apos;pandas.core.daterange.DateRange&apos;&gt;\noffset: &lt;5 Minutes&gt;, tzinfo: None\n[2000-01-01 12:00:00, ..., 2000-01-01 13:00:00]\nlength: 13"
                        }
                    ], 
                    "collapsed": false, 
                    "prompt_number": 95, 
                    "input": "rng = DateRange('1/1/2000 12:00', '1/1/2000 13:00',\n                offset=datetools.Minute(5))\nrng"
                }, 
                {
                    "cell_type": "code", 
                    "language": "python", 
                    "outputs": [
                        {
                            "output_type": "pyout", 
                            "prompt_number": 96, 
                            "text": "2000-01-01 12:00:00    1.10601018269\n2000-01-01 12:05:00    -0.199233968307\n2000-01-01 12:10:00    0.458264745615\n2000-01-01 12:15:00    0.491047650754\n2000-01-01 12:20:00    0.128593642624\n2000-01-01 12:25:00    1.14786215895\n2000-01-01 12:30:00    -1.25686039626\n2000-01-01 12:35:00    0.563636506936\n2000-01-01 12:40:00    -2.41731193518\n2000-01-01 12:45:00    0.972826870526\n2000-01-01 12:50:00    0.0412931901289\n2000-01-01 12:55:00    1.129658991\n2000-01-01 13:00:00    0.0869263572379"
                        }
                    ], 
                    "collapsed": false, 
                    "prompt_number": 96, 
                    "input": "ts = Series(randn(len(rng)), rng)\nts"
                }, 
                {
                    "cell_type": "code", 
                    "language": "python", 
                    "outputs": [
                        {
                            "output_type": "pyout", 
                            "prompt_number": 97, 
                            "text": "2000-01-01 12:00:00    1.10601018269\n2000-01-01 12:10:00    0.458264745615\n2000-01-01 12:20:00    0.128593642624\n2000-01-01 12:30:00    -1.25686039626\n2000-01-01 12:40:00    -2.41731193518\n2000-01-01 12:50:00    0.0412931901289\n2000-01-01 13:00:00    0.0869263572379"
                        }
                    ], 
                    "collapsed": false, 
                    "prompt_number": 97, 
                    "input": "ts.asfreq(datetools.Minute(10))"
                }, 
                {
                    "source": "Plotting\n========", 
                    "cell_type": "markdown"
                }, 
                {
                    "cell_type": "code", 
                    "language": "python", 
                    "outputs": [
                        {
                            "output_type": "display_data", 
                            "png": "[encoded data removed]"
                        }
                    ], 
                    "collapsed": false, 
                    "prompt_number": 98, 
                    "input": "s.plot(kind='bar')"
                }, 
                {
                    "cell_type": "code", 
                    "language": "python", 
                    "outputs": [
                        {
                            "output_type": "pyout", 
                            "prompt_number": 99, 
                            "text": "&lt;matplotlib.legend.Legend at 0x7f3fcc0ed1d0&gt;"
                        }, 
                        {
                            "output_type": "display_data", 
                            "png": "[encoded data removed]"
                        }
                    ], 
                    "collapsed": false, 
                    "prompt_number": 99, 
                    "input": "rets.ix[:, ['AAPL']].cumsum().plot()\n# rets.cumsum().plot()\nplt.legend(loc='best')\n"
                }, 
                {
                    "cell_type": "code", 
                    "language": "python", 
                    "outputs": [
                        {
                            "output_type": "display_data", 
                            "png": "[encoded data removed]"
                        }
                    ], 
                    "collapsed": false, 
                    "prompt_number": 100, 
                    "input": "rets.hist(bins=50)"
                }, 
                {
                    "cell_type": "code", 
                    "language": "python", 
                    "outputs": [], 
                    "collapsed": true, 
                    "prompt_number": 100, 
                    "input": ""
                }, 
                {
                    "source": "Pivoting and reshaping\n======================", 
                    "cell_type": "markdown"
                }, 
                {
                    "cell_type": "code", 
                    "language": "python", 
                    "outputs": [
                        {
                            "output_type": "pyout", 
                            "prompt_number": 101, 
                            "text": "    date                 variable  value \n0   2000-01-03 00:00:00  A        -0.4456\n1   2000-01-04 00:00:00  A        -0.2175\n2   2000-01-05 00:00:00  A        -1.42  \n3   2000-01-03 00:00:00  B        -0.0156\n4   2000-01-04 00:00:00  B        -1.151 \n5   2000-01-05 00:00:00  B        -0.7983\n6   2000-01-03 00:00:00  C        -0.5577\n7   2000-01-04 00:00:00  C         0.3814\n8   2000-01-05 00:00:00  C         1.337 \n9   2000-01-03 00:00:00  D        -1.531 \n10  2000-01-04 00:00:00  D         1.331 \n11  2000-01-05 00:00:00  D        -0.5713\n"
                        }
                    ], 
                    "collapsed": false, 
                    "prompt_number": 101, 
                    "input": "import pandas.util.testing as tm; tm.N = 3\ndef unpivot(frame):\n    N, K = frame.shape\n    data = {'value' : frame.values.ravel('F'),\n            'variable' : np.asarray(frame.columns).repeat(N),\n            'date' : np.tile(np.asarray(frame.index), K)}\n    return DataFrame(data, columns=['date', 'variable', 'value'])\ndf = unpivot(tm.makeTimeDataFrame())\ndf"
                }, 
                {
                    "cell_type": "code", 
                    "language": "python", 
                    "outputs": [
                        {
                            "output_type": "pyout", 
                            "prompt_number": 102, 
                            "text": "            value                         \n            A       B       C       D     \n2000-01-03 -0.4456 -0.0156 -0.5577 -1.531 \n2000-01-04 -0.2175 -1.151   0.3814  1.331 \n2000-01-05 -1.42   -0.7983  1.337  -0.5713\n"
                        }
                    ], 
                    "collapsed": false, 
                    "prompt_number": 102, 
                    "input": "df.pivot('date', 'variable')"
                }, 
                {
                    "cell_type": "code", 
                    "language": "python", 
                    "outputs": [
                        {
                            "output_type": "pyout", 
                            "prompt_number": 103, 
                            "text": "    date                 variable  value   value2\n0   2000-01-03 00:00:00  A        -0.4456 -0.8913\n1   2000-01-04 00:00:00  A        -0.2175 -0.435 \n2   2000-01-05 00:00:00  A        -1.42   -2.841 \n3   2000-01-03 00:00:00  B        -0.0156 -0.0312\n4   2000-01-04 00:00:00  B        -1.151  -2.301 \n5   2000-01-05 00:00:00  B        -0.7983 -1.597 \n6   2000-01-03 00:00:00  C        -0.5577 -1.115 \n7   2000-01-04 00:00:00  C         0.3814  0.7627\n8   2000-01-05 00:00:00  C         1.337   2.674 \n9   2000-01-03 00:00:00  D        -1.531  -3.062 \n10  2000-01-04 00:00:00  D         1.331   2.663 \n11  2000-01-05 00:00:00  D        -0.5713 -1.143 \n"
                        }
                    ], 
                    "collapsed": false, 
                    "prompt_number": 103, 
                    "input": "df['value2'] = df['value'] * 2\ndf"
                }, 
                {
                    "cell_type": "code", 
                    "language": "python", 
                    "outputs": [
                        {
                            "output_type": "pyout", 
                            "prompt_number": 104, 
                            "text": "            value                           value2                       \n            A       B       C       D       A       B       C       D    \n2000-01-03 -0.4456 -0.0156 -0.5577 -1.531  -0.8913 -0.0312 -1.115  -3.062\n2000-01-04 -0.2175 -1.151   0.3814  1.331  -0.435  -2.301   0.7627  2.663\n2000-01-05 -1.42   -0.7983  1.337  -0.5713 -2.841  -1.597   2.674  -1.143\n"
                        }
                    ], 
                    "collapsed": false, 
                    "prompt_number": 104, 
                    "input": "pivoted = df.pivot('date', 'variable')\npivoted"
                }, 
                {
                    "source": "Stacking and unstacking\n-----------------------", 
                    "cell_type": "markdown"
                }, 
                {
                    "cell_type": "code", 
                    "language": "python", 
                    "outputs": [
                        {
                            "output_type": "pyout", 
                            "prompt_number": 105, 
                            "text": "               value   value2\n2000-01-03  A -0.4456 -0.8913\n            B -0.0156 -0.0312\n            C -0.5577 -1.115 \n            D -1.531  -3.062 \n2000-01-04  A -0.2175 -0.435 \n            B -1.151  -2.301 \n            C  0.3814  0.7627\n            D  1.331   2.663 \n2000-01-05  A -1.42   -2.841 \n            B -0.7983 -1.597 \n            C  1.337   2.674 \n            D -0.5713 -1.143 \n"
                        }
                    ], 
                    "collapsed": false, 
                    "prompt_number": 105, 
                    "input": "pivoted.stack()"
                }, 
                {
                    "cell_type": "code", 
                    "language": "python", 
                    "outputs": [
                        {
                            "output_type": "pyout", 
                            "prompt_number": 106, 
                            "text": "          A        B                A      \n          cat      dog      cat     dog    \nbar  one -0.02667 -1.086   -1.115  -0.05822\n     two -0.4868   1.685    0.1126 -1.495  \nbaz  one  0.8984  -0.1482  -1.596   0.1597 \n     two  0.2621   0.03622  0.1847 -0.2551 \nfoo  one -0.271    1.288    0.2946 -1.166  \n     two  0.847   -0.6856   0.6091 -0.304  \nqux  one  0.6256  -0.05927  0.2497  1.104  \n     two -1.088    1.998   -0.2445  0.1362 \n"
                        }
                    ], 
                    "collapsed": false, 
                    "prompt_number": 106, 
                    "input": "tuples = zip(*[['bar', 'bar', 'baz', 'baz',\n                'foo', 'foo', 'qux', 'qux'],\n               ['one', 'two', 'one', 'two',\n                'one', 'two', 'one', 'two']])\nindex = MultiIndex.from_tuples(tuples)\ncolumns = MultiIndex.from_tuples([('A', 'cat'), ('B', 'dog'),\n                                  ('B', 'cat'), ('A', 'dog')])\ndf = DataFrame(randn(8, 4), index=index, columns=columns)\ndf"
                }, 
                {
                    "cell_type": "code", 
                    "language": "python", 
                    "outputs": [
                        {
                            "output_type": "pyout", 
                            "prompt_number": 107, 
                            "text": "          A        B               A      \n          cat      dog     cat     dog    \nbar  one -0.02667 -1.086  -1.115  -0.05822\n     two -0.4868   1.685   0.1126 -1.495  \nbaz  one  0.8984  -0.1482 -1.596   0.1597 \nfoo  one -0.271    1.288   0.2946 -1.166  \n     two  0.847   -0.6856  0.6091 -0.304  \nqux  two -1.088    1.998  -0.2445  0.1362 \n"
                        }
                    ], 
                    "collapsed": false, 
                    "prompt_number": 107, 
                    "input": "df2 = df.ix[[0, 1, 2, 4, 5, 7]]\ndf2"
                }, 
                {
                    "cell_type": "code", 
                    "language": "python", 
                    "outputs": [
                        {
                            "output_type": "pyout", 
                            "prompt_number": 108, 
                            "text": "     dog               cat           \n     one      two      one     two   \nbar -1.086    1.685   -1.115   0.1126\nbaz -0.1482   0.03622 -1.596   0.1847\nfoo  1.288   -0.6856   0.2946  0.6091\nqux -0.05927  1.998    0.2497 -0.2445\n"
                        }
                    ], 
                    "collapsed": false, 
                    "prompt_number": 108, 
                    "input": "df.unstack()['B']"
                }, 
                {
                    "source": "Lexsort depth\n-------------", 
                    "cell_type": "markdown"
                }, 
                {
                    "cell_type": "code", 
                    "language": "python", 
                    "outputs": [
                        {
                            "output_type": "pyout", 
                            "prompt_number": 109, 
                            "text": "          A        B                A      \n          cat      dog      cat     dog    \nbar  one -0.02667 -1.086   -1.115  -0.05822\n     two -0.4868   1.685    0.1126 -1.495  \nbaz  one  0.8984  -0.1482  -1.596   0.1597 \n     two  0.2621   0.03622  0.1847 -0.2551 \nfoo  one -0.271    1.288    0.2946 -1.166  \n     two  0.847   -0.6856   0.6091 -0.304  \nqux  one  0.6256  -0.05927  0.2497  1.104  \n     two -1.088    1.998   -0.2445  0.1362 \n"
                        }
                    ], 
                    "collapsed": false, 
                    "prompt_number": 109, 
                    "input": "df\n"
                }, 
                {
                    "cell_type": "code", 
                    "language": "python", 
                    "outputs": [], 
                    "collapsed": true, 
                    "prompt_number": 110, 
                    "input": "# df.unstack()['B', 'dog']"
                }, 
                {
                    "cell_type": "code", 
                    "language": "python", 
                    "outputs": [
                        {
                            "output_type": "pyout", 
                            "prompt_number": 111, 
                            "text": "     A                A                B               B               \n     cat              dog              cat             dog             \n     one      two     one      two     one     two     one      two    \nbar -0.02667 -0.4868 -0.05822 -1.495  -1.115   0.1126 -1.086    1.685  \nbaz  0.8984   0.2621  0.1597  -0.2551 -1.596   0.1847 -0.1482   0.03622\nfoo -0.271    0.847  -1.166   -0.304   0.2946  0.6091  1.288   -0.6856 \nqux  0.6256  -1.088   1.104    0.1362  0.2497 -0.2445 -0.05927  1.998  \n"
                        }
                    ], 
                    "collapsed": false, 
                    "prompt_number": 111, 
                    "input": "dfsorted = df.unstack().sortlevel(axis=1)\ndfsorted"
                }, 
                {
                    "cell_type": "code", 
                    "language": "python", 
                    "outputs": [
                        {
                            "output_type": "pyout", 
                            "prompt_number": 112, 
                            "text": "     one      two    \nbar -1.086    1.685  \nbaz -0.1482   0.03622\nfoo  1.288   -0.6856 \nqux -0.05927  1.998  \n"
                        }
                    ], 
                    "collapsed": false, 
                    "prompt_number": 112, 
                    "input": "dfsorted['B', 'dog']"
                }, 
                {
                    "source": "GroupBy\n=======", 
                    "cell_type": "markdown"
                }, 
                {
                    "cell_type": "code", 
                    "language": "python", 
                    "outputs": [
                        {
                            "output_type": "pyout", 
                            "prompt_number": 113, 
                            "text": "   A    B      C       D     \n0  foo  one    0.8863  0.4026\n1  bar  one   -1.351   0.3996\n2  foo  two   -0.8863 -1.766 \n3  bar  three -1.013   0.8504\n4  foo  two    1.921   0.3881\n5  bar  two   -0.3882  0.9923\n6  foo  one   -2.314   0.7441\n7  foo  three  0.6655 -0.7398\n"
                        }
                    ], 
                    "collapsed": false, 
                    "prompt_number": 113, 
                    "input": "df = DataFrame({'A' : ['foo', 'bar', 'foo', 'bar',\n                       'foo', 'bar', 'foo', 'foo'],\n                'B' : ['one', 'one', 'two', 'three',\n                       'two', 'two', 'one', 'three'],\n                'C' : np.random.randn(8),\n                'D' : np.random.randn(8)})\ndf"
                }, 
                {
                    "cell_type": "code", 
                    "language": "python", 
                    "outputs": [
                        {
                            "output_type": "stream", 
                            "text": "2010\n            AAPL      GOOG      MSFT      YHOO    \n2010-02-01  NaN       NaN       NaN       NaN     \n2010-02-02  0.005803 -0.003565  0.00176   0.007973\n2010-02-03  0.01721   0.01826   0.005973  0.01912 \n2010-02-04 -0.03604  -0.02596  -0.02759  -0.02911 \n2010-02-05  0.01776   0.008561  0.006466  0.01199 \n\n2011\n            AAPL       GOOG      MSFT      YHOO    \n2011-01-03  0.02173    0.01748   0.002508  0.007216\n2011-01-04  0.005219  -0.00369   0.003931 -0.009552\n2011-01-05  0.00818    0.01154  -0.003204  0.01929 \n2011-01-06 -0.0008084  0.007273  0.02929   0.00887 \n2011-01-07  0.007161   0.004792 -0.007634 -0.009379\n\n\n"
                        }
                    ], 
                    "collapsed": false, 
                    "prompt_number": 114, 
                    "input": "grouped = rets.groupby(lambda x: x.year)\nfor year, group in grouped:\n    print year\n    print group[:5]"
                }, 
                {
                    "cell_type": "code", 
                    "language": "python", 
                    "outputs": [
                        {
                            "output_type": "pyout", 
                            "prompt_number": 115, 
                            "text": "&lt;class &apos;pandas.core.frame.DataFrame&apos;&gt;\nIndex: 137 entries, 1871 to 2007\nData columns:\nX2b      137  non-null values\nX3b      137  non-null values\nab       137  non-null values\nbb       137  non-null values\ncs       104  non-null values\ng        137  non-null values\ngidp     89  non-null values\nh        137  non-null values\nhbp      125  non-null values\nhr       137  non-null values\nibb      88  non-null values\nr        137  non-null values\nrbi      137  non-null values\nsb       132  non-null values\nsf       88  non-null values\nsh       115  non-null values\nso       124  non-null values\nstint    137  non-null values\ndtypes: float64(18)"
                        }
                    ], 
                    "collapsed": false, 
                    "prompt_number": 115, 
                    "input": "grouped = baseball.groupby('year')\ntot_by_year = grouped.sum()\ntot_by_year"
                }, 
                {
                    "cell_type": "code", 
                    "language": "python", 
                    "outputs": [
                        {
                            "output_type": "display_data", 
                            "png": "[encoded data removed]"
                        }
                    ], 
                    "collapsed": false, 
                    "prompt_number": 116, 
                    "input": "(tot_by_year['hbp'] / tot_by_year['ab']).plot()"
                }, 
                {
                    "source": "GroupBy: auto-dispatching\n-------------------------", 
                    "cell_type": "markdown"
                }, 
                {
                    "source": "GroupBy example: linear regression by group\n-------------------------------------------", 
                    "cell_type": "markdown"
                }, 
                {
                    "cell_type": "code", 
                    "language": "python", 
                    "outputs": [
                        {
                            "output_type": "pyout", 
                            "prompt_number": 117, 
                            "text": "AAPL         0.669338584432\nintercept    -0.00105163892325"
                        }
                    ], 
                    "collapsed": false, 
                    "prompt_number": 117, 
                    "input": "def get_beta(rets):\n    rets = rets.dropna()\n    rets['intercept'] = 1.\n    model = sm.OLS(rets['GOOG'], rets.ix[:, ['AAPL', 'intercept']]).fit()\n    return model.params\n\nget_beta(rets)"
                }, 
                {
                    "cell_type": "code", 
                    "language": "python", 
                    "outputs": [
                        {
                            "output_type": "pyout", 
                            "prompt_number": 118, 
                            "text": "          AAPL    intercept\n2010  2   0.5122 -0.002061 \n      3   0.3212  0.001323 \n      4   0.163  -0.004264 \n      5   0.6095 -0.003457 \n      6   0.7179 -0.003257 \n      7   0.5159  0.003726 \n      8   0.7525 -0.001398 \n      9   0.5904  0.003099 \n      10  1.338   0.003786 \n      11  0.8295 -0.006007 \n      12  0.6607  0.001962 \n2011  1   0.2963 -0.0001708\n      2   0.4531  0.0001798\n      3   0.4541 -0.001648 \n      4   0.4919 -0.003683 \n      5   0.6716 -0.00112  \n      6   0.5026 -0.001145 \n      7   0.9785  0.001788 \n      8   0.9558 -0.004106 \n      9   0.8045 -0.002413 \n"
                        }
                    ], 
                    "collapsed": false, 
                    "prompt_number": 118, 
                    "input": "grouped = rets.groupby([lambda x: x.year, lambda x: x.month])\nbeta_by_ym = grouped.apply(get_beta)\nbeta_by_ym"
                }, 
                {
                    "cell_type": "code", 
                    "language": "python", 
                    "outputs": [
                        {
                            "output_type": "pyout", 
                            "prompt_number": 119, 
                            "text": "    2010    2011  \n1   NaN     0.2963\n2   0.5122  0.4531\n3   0.3212  0.4541\n4   0.163   0.4919\n5   0.6095  0.6716\n6   0.7179  0.5026\n7   0.5159  0.9785\n8   0.7525  0.9558\n9   0.5904  0.8045\n10  1.338   NaN   \n11  0.8295  NaN   \n12  0.6607  NaN   \n"
                        }
                    ], 
                    "collapsed": false, 
                    "prompt_number": 119, 
                    "input": "beta_by_ym.unstack(0)['AAPL']"
                }, 
                {
                    "cell_type": "code", 
                    "language": "python", 
                    "outputs": [], 
                    "collapsed": true, 
                    "prompt_number": 119, 
                    "input": ""
                }, 
                {
                    "source": "GroupBy with hierarchical indexing\n----------------------------------", 
                    "cell_type": "markdown"
                }, 
                {
                    "cell_type": "code", 
                    "language": "python", 
                    "outputs": [
                        {
                            "output_type": "pyout", 
                            "prompt_number": 120, 
                            "text": "          A       B                A      \n          cat     dog      cat     dog    \nbar  one -1.055  -0.1796   0.6396  1.585  \n     two  1.907   0.104    0.1741 -0.4395 \nbaz  one -0.7413 -0.07967 -0.9229  0.3036 \n     two -0.9174 -1.624   -0.7585 -0.5609 \nfoo  one -0.589  -1.071   -1.681   0.4038 \n     two  0.6099  0.3879   1.815   0.7052 \nqux  one -0.668   0.2425   0.3134  0.1209 \n     two -0.2105 -0.9312   0.2406 -0.02746\n"
                        }
                    ], 
                    "collapsed": false, 
                    "prompt_number": 120, 
                    "input": "tuples = zip(*[['bar', 'bar', 'baz', 'baz',\n                'foo', 'foo', 'qux', 'qux'],\n               ['one', 'two', 'one', 'two',\n                'one', 'two', 'one', 'two']])\nindex = MultiIndex.from_tuples(tuples)\ncolumns = MultiIndex.from_tuples([('A', 'cat'), ('B', 'dog'),\n                                  ('B', 'cat'), ('A', 'dog')])\ndf = DataFrame(randn(8, 4), index=index, columns=columns)\ndf"
                }, 
                {
                    "cell_type": "code", 
                    "language": "python", 
                    "outputs": [
                        {
                            "output_type": "pyout", 
                            "prompt_number": 121, 
                            "text": "     A        B                A      \n     cat      dog     cat      dog    \nbar  0.4259  -0.0378  0.4068   0.5728 \nbaz -0.8294  -0.8519 -0.8407  -0.1286 \nfoo  0.01043 -0.3414  0.06698  0.5545 \nqux -0.4393  -0.3443  0.277    0.04673\n"
                        }
                    ], 
                    "collapsed": false, 
                    "prompt_number": 121, 
                    "input": "df.groupby(level=0, axis=0).mean()"
                }, 
                {
                    "cell_type": "code", 
                    "language": "python", 
                    "outputs": [
                        {
                            "output_type": "pyout", 
                            "prompt_number": 122, 
                            "text": "               A        B      \nbar  one  cat -1.055    0.6396 \n          dog  1.585   -0.1796 \nbar  two  cat  1.907    0.1741 \n          dog -0.4395   0.104  \nbaz  one  cat -0.7413  -0.9229 \n          dog  0.3036  -0.07967\nbaz  two  cat -0.9174  -0.7585 \n          dog -0.5609  -1.624  \nfoo  one  cat -0.589   -1.681  \n          dog  0.4038  -1.071  \nfoo  two  cat  0.6099   1.815  \n          dog  0.7052   0.3879 \nqux  one  cat -0.668    0.3134 \n          dog  0.1209   0.2425 \nqux  two  cat -0.2105   0.2406 \n          dog -0.02746 -0.9312 \n"
                        }
                    ], 
                    "collapsed": false, 
                    "prompt_number": 122, 
                    "input": "df.stack()"
                }, 
                {
                    "cell_type": "code", 
                    "language": "python", 
                    "outputs": [
                        {
                            "output_type": "pyout", 
                            "prompt_number": 123, 
                            "text": "          cat      dog   \nbar  one -0.2076   0.7027\n     two  1.04    -0.1677\nbaz  one -0.8321   0.112 \n     two -0.8379  -1.092 \nfoo  one -1.135   -0.3335\n     two  1.212    0.5466\nqux  one -0.1773   0.1817\n     two  0.01506 -0.4793\n"
                        }
                    ], 
                    "collapsed": false, 
                    "prompt_number": 123, 
                    "input": "df.stack().mean(1).unstack()"
                }, 
                {
                    "cell_type": "code", 
                    "language": "python", 
                    "outputs": [
                        {
                            "output_type": "pyout", 
                            "prompt_number": 124, 
                            "text": "          cat      dog   \nbar  one -0.2076   0.7027\n     two  1.04    -0.1677\nbaz  one -0.8321   0.112 \n     two -0.8379  -1.092 \nfoo  one -1.135   -0.3335\n     two  1.212    0.5466\nqux  one -0.1773   0.1817\n     two  0.01506 -0.4793\n"
                        }
                    ], 
                    "collapsed": false, 
                    "prompt_number": 124, 
                    "input": "# could also have done\ndf.groupby(level=1, axis=1).mean()"
                }, 
                {
                    "source": "Merging and joining data sets\n=============================", 
                    "cell_type": "markdown"
                }, 
                {
                    "cell_type": "code", 
                    "language": "python", 
                    "outputs": [
                        {
                            "output_type": "stream", 
                            "text": "   one      two           three   four  \nb -0.582   -1.234      a  0.3241 -1.403 \nc  0.3431   2.138      b -3.521   0.5169\nd  0.0615   0.2408     c  0.4524  0.4831\ne -0.8806   0.7776     d  0.7824  0.6285\nf -0.04295 -0.01029    e -0.7794  0.3168\n                                        \n\n"
                        }
                    ], 
                    "collapsed": false, 
                    "prompt_number": 125, 
                    "input": "df = DataFrame(randn(6, 4), index=list('abcdef'),\n               columns=['one', 'two', 'three', 'four'])\ndf1 = df.ix[1:, ['one', 'two']]\ndf2 = df.ix[:5, ['three', 'four']]\nside_by_side(df1, df2)"
                }, 
                {
                    "cell_type": "code", 
                    "language": "python", 
                    "outputs": [
                        {
                            "output_type": "pyout", 
                            "prompt_number": 126, 
                            "text": "   four    one      three   two    \nb  0.5169 -0.582   -3.521  -1.234  \nc  0.4831  0.3431   0.4524  2.138  \nd  0.6285  0.0615   0.7824  0.2408 \ne  0.3168 -0.8806  -0.7794  0.7776 \nf  NaN    -0.04295  NaN    -0.01029\n"
                        }
                    ], 
                    "collapsed": false, 
                    "prompt_number": 126, 
                    "input": "df1.join(df2)"
                }, 
                {
                    "cell_type": "code", 
                    "language": "python", 
                    "outputs": [
                        {
                            "output_type": "pyout", 
                            "prompt_number": 127, 
                            "text": "   four    one      three   two    \na -1.403   NaN      0.3241  NaN    \nb  0.5169 -0.582   -3.521  -1.234  \nc  0.4831  0.3431   0.4524  2.138  \nd  0.6285  0.0615   0.7824  0.2408 \ne  0.3168 -0.8806  -0.7794  0.7776 \nf  NaN    -0.04295  NaN    -0.01029\n"
                        }
                    ], 
                    "collapsed": false, 
                    "prompt_number": 127, 
                    "input": "df1.join(df2, how='outer')"
                }, 
                {
                    "source": "Joining on a key\n----------------", 
                    "cell_type": "markdown"
                }, 
                {
                    "cell_type": "code", 
                    "language": "python", 
                    "outputs": [
                        {
                            "output_type": "pyout", 
                            "prompt_number": 128, 
                            "text": "   one      two      three   four    key\na  0.03311 -0.6584   0.3241 -1.403   foo\nb -0.582   -1.234   -3.521   0.5169  bar\nc  0.3431   2.138    0.4524  0.4831  foo\nd  0.0615   0.2408   0.7824  0.6285  bar\ne -0.8806   0.7776  -0.7794  0.3168  foo\nf -0.04295 -0.01029  2.066   1.198   bar\n"
                        }
                    ], 
                    "collapsed": false, 
                    "prompt_number": 128, 
                    "input": "df['key'] = ['foo', 'bar'] * 3\ndf"
                }, 
                {
                    "cell_type": "code", 
                    "language": "python", 
                    "outputs": [
                        {
                            "output_type": "pyout", 
                            "prompt_number": 129, 
                            "text": "     j1     j2    \nbar -2.2   -0.8309\nfoo -1.647 -0.4728\n"
                        }
                    ], 
                    "collapsed": false, 
                    "prompt_number": 129, 
                    "input": "to_join = DataFrame(randn(2, 2), index=['bar', 'foo'],\n                    columns=['j1', 'j2'])\nto_join"
                }, 
                {
                    "cell_type": "code", 
                    "language": "python", 
                    "outputs": [
                        {
                            "output_type": "pyout", 
                            "prompt_number": 130, 
                            "text": "   four    j1     j2      key  one      three   two    \na -1.403  -1.647 -0.4728  foo  0.03311  0.3241 -0.6584 \nb  0.5169 -2.2   -0.8309  bar -0.582   -3.521  -1.234  \nc  0.4831 -1.647 -0.4728  foo  0.3431   0.4524  2.138  \nd  0.6285 -2.2   -0.8309  bar  0.0615   0.7824  0.2408 \ne  0.3168 -1.647 -0.4728  foo -0.8806  -0.7794  0.7776 \nf  1.198  -2.2   -0.8309  bar -0.04295  2.066  -0.01029\n"
                        }
                    ], 
                    "collapsed": false, 
                    "prompt_number": 130, 
                    "input": "df.join(to_join, on='key')"
                }, 
                {
                    "source": "Moving Window Regression\n========================", 
                    "cell_type": "markdown"
                }, 
                {
                    "cell_type": "code", 
                    "language": "python", 
                    "outputs": [
                        {
                            "output_type": "display_data", 
                            "png": "[encoded data removed]"
                        }
                    ], 
                    "collapsed": false, 
                    "prompt_number": 131, 
                    "input": "close_px['AAPL'].plot()"
                }, 
                {
                    "cell_type": "code", 
                    "language": "python", 
                    "outputs": [], 
                    "collapsed": true, 
                    "prompt_number": 132, 
                    "input": "rets = close_px / close_px.shift(1) - 1"
                }, 
                {
                    "cell_type": "code", 
                    "language": "python", 
                    "outputs": [
                        {
                            "output_type": "pyout", 
                            "prompt_number": 133, 
                            "text": "            AAPL      GOOG      MSFT      YHOO    \n2010-02-01  NaN       NaN       NaN       NaN     \n2010-02-02  0.005803 -0.003565  0.00176   0.007973\n2010-02-03  0.01721   0.01826   0.005973  0.01912 \n2010-02-04 -0.03604  -0.02596  -0.02759  -0.02911 \n2010-02-05  0.01776   0.008561  0.006466  0.01199 \n"
                        }
                    ], 
                    "collapsed": false, 
                    "prompt_number": 133, 
                    "input": "rets.head()"
                }, 
                {
                    "cell_type": "code", 
                    "language": "python", 
                    "outputs": [
                        {
                            "output_type": "pyout", 
                            "prompt_number": 134, 
                            "text": "\n-------------------------Summary of Regression Analysis-------------------------\n\nFormula: Y ~ &lt;GOOG&gt; + &lt;intercept&gt;\n\nNumber of Observations:         406\nNumber of Degrees of Freedom:   2\n\nR-squared:         0.3500\nAdj R-squared:     0.3484\n\nRmse:              0.0130\n\nF-stat (1, 404):   217.5243, p-value:     0.0000\n\nDegrees of Freedom: model 1, resid 404\n\n-----------------------Summary of Estimated Coefficients------------------------\n      Variable       Coef    Std Err     t-stat    p-value    CI 2.5%   CI 97.5%\n--------------------------------------------------------------------------------\n          GOOG     0.5229     0.0355      14.75     0.0000     0.4534     0.5924\n     intercept     0.0017     0.0006       2.62     0.0092     0.0004     0.0030\n---------------------------------End of Summary---------------------------------\n"
                        }
                    ], 
                    "collapsed": false, 
                    "prompt_number": 134, 
                    "input": "y = rets['AAPL']\nx = rets.ix[:, ['GOOG']]\nmodel = ols(y=y, x=x)\nmodel"
                }, 
                {
                    "cell_type": "code", 
                    "language": "python", 
                    "outputs": [
                        {
                            "output_type": "stream", 
                            "text": "&lt;class &apos;pandas.core.frame.DataFrame&apos;&gt;\nIndex: 157 entries, 2011-01-27 00:00:00 to 2011-09-09 00:00:00\nData columns:\nGOOG         157  non-null values\nintercept    157  non-null values\ndtypes: float64(2)\n"
                        }
                    ], 
                    "collapsed": false, 
                    "prompt_number": 135, 
                    "input": "model = ols(y=y, x=x, window=250)\nmodel.beta.info()"
                }, 
                {
                    "cell_type": "code", 
                    "language": "python", 
                    "outputs": [
                        {
                            "output_type": "display_data", 
                            "png": "[encoded data removed]"
                        }
                    ], 
                    "collapsed": false, 
                    "prompt_number": 136, 
                    "input": "model.beta['GOOG'].plot()"
                }, 
                {
                    "cell_type": "code", 
                    "language": "python", 
                    "outputs": [
                        {
                            "output_type": "pyout", 
                            "prompt_number": 137, 
                            "text": "&lt;matplotlib.legend.Legend at 0x7f3fcc0cd490&gt;"
                        }, 
                        {
                            "output_type": "display_data", 
                            "png": "[encoded data removed]"
                        }
                    ], 
                    "collapsed": false, 
                    "prompt_number": 137, 
                    "input": "def winsorize(data, std_level=3, window=250, min_periods=20):\n    result = data.copy()\n    std = rolling_std(rets, window, min_periods=min_periods)\n    cap_level = std_level * np.sign(data) * std\n    result[np.abs(data) > std_level * std] = cap_level\n    return result\n\nwinz = winsorize(rets)\nwinz_model = ols(y=winz['AAPL'], x=winz.ix[:, ['GOOG']],\n                 window=250)\nmodel.beta['GOOG'].plot(label=\"With outliers\")\nwinz_model.beta['GOOG'].plot(label=\"Winsorized\")\nplt.legend(loc='best')"
                }, 
                {
                    "input": "", 
                    "cell_type": "code", 
                    "collapsed": true, 
                    "language": "python", 
                    "outputs": []
                }
            ]
        }
    ], 
    "metadata": {
        "name": "PandasDemo"
    }, 
    "nbformat": 2
}