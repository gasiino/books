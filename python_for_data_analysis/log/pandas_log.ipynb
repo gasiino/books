{
 "metadata": {
  "name": "pandasAuthLogAnalysis"
 }, 
 "nbformat": 2, 
 "worksheets": [
  {
   "cells": [
    {
     "cell_type": "code", 
     "collapsed": false, 
     "input": [
      "# this program takes the auth.log and gives you a report with ipython and pandas"
     ], 
     "language": "python", 
     "outputs": [], 
     "prompt_number": 47
    }, 
    {
     "cell_type": "code", 
     "collapsed": false, 
     "input": [
      "# read contents of auth.log line by line into 'data' variable"
     ], 
     "language": "python", 
     "outputs": [], 
     "prompt_number": 14
    }, 
    {
     "cell_type": "code", 
     "collapsed": false, 
     "input": [
      "# import pandas"
     ], 
     "language": "python", 
     "outputs": [], 
     "prompt_number": 14
    }, 
    {
     "cell_type": "code", 
     "collapsed": false, 
     "input": [
      "# create pandas DataFrame with 'data'"
     ], 
     "language": "python", 
     "outputs": [], 
     "prompt_number": 14
    }, 
    {
     "cell_type": "code", 
     "collapsed": true, 
     "input": [
      "data = open('auth.log').readlines()"
     ], 
     "language": "python", 
     "outputs": [], 
     "prompt_number": 5
    }, 
    {
     "cell_type": "code", 
     "collapsed": true, 
     "input": [
      "import pandas"
     ], 
     "language": "python", 
     "outputs": [], 
     "prompt_number": 6
    }, 
    {
     "cell_type": "code", 
     "collapsed": true, 
     "input": [
      "frame = pandas.DataFrame([x.split() for x in data])"
     ], 
     "language": "python", 
     "outputs": [], 
     "prompt_number": 15
    }, 
    {
     "cell_type": "code", 
     "collapsed": false, 
     "input": [
      "# looks for all logs with 'Failed password for root'"
     ], 
     "language": "python", 
     "outputs": [], 
     "prompt_number": 48
    }, 
    {
     "cell_type": "code", 
     "collapsed": true, 
     "input": [
      "mylist=[]", 
      "def get_bruteRoot(data):", 
      "\tfor line in data:", 
      "\t\tif 'Failed password for root' in line:", 
      "\t\t\tmylist.append(line)", 
      "\tframe = pandas.DataFrame([x.split() for x in mylist])", 
      "\treturn frame[10].value_counts()"
     ], 
     "language": "python", 
     "outputs": [], 
     "prompt_number": 16
    }, 
    {
     "cell_type": "code", 
     "collapsed": false, 
     "input": [
      "mylist=[]", 
      "get_bruteRoot(data).plot(kind='bar')"
     ], 
     "language": "python", 
     "outputs": [
      {
       "output_type": "pyout", 
       "prompt_number": 37, 
       "text": [
        "&lt;matplotlib.axes.AxesSubplot at 0xb6d638c&gt;"
       ]
      }, 
      {
       "output_type": "display_data", 
       "png": "[encoded data removed]"
      }
     ], 
     "prompt_number": 37
    }, 
    {
     "cell_type": "code", 
     "collapsed": true, 
     "input": [
      "mylist=[]", 
      "def get_failedPasswordInvalidUser(data):", 
      "\tfor line in data:", 
      "\t\tif 'Failed password for invalid user' in line:", 
      "\t\t\tmylist.append(line)", 
      "\tfailedframe = pandas.DataFrame([x.split() for x in mylist])", 
      "\treturn failedframe[10].value_counts()"
     ], 
     "language": "python", 
     "outputs": [], 
     "prompt_number": 18
    }, 
    {
     "cell_type": "code", 
     "collapsed": false, 
     "input": [
      "mylist=[]", 
      "get_failedPasswordInvalidUser(data) #.plot(kind='bar')"
     ], 
     "language": "python", 
     "outputs": [
      {
       "output_type": "pyout", 
       "prompt_number": 50, 
       "text": [
        "test          75", 
        "admin         59", 
        "alex          43", 
        "sarah         36", 
        "cyrus         34", 
        "guest         32", 
        "emma          32", 
        "user          30", 
        "sabine        30", 
        "renee         30", 
        "philippine    30", 
        "pauline       30", 
        "olivia        30", 
        "madison       30", 
        "madeline      30", 
        "...", 
        "bthadm          1", 
        "boavista        1", 
        "bluetulippon    1", 
        "asterisk        1", 
        "anonftproot     1", 
        "anita           1", 
        "anda            1", 
        "anamaria        1", 
        "alien           1", 
        "ale             1", 
        "admosfer        1", 
        "admins          1", 
        "accounts        1", 
        "LK              1", 
        "Horizon         1", 
        "Length: 903"
       ]
      }
     ], 
     "prompt_number": 50
    }, 
    {
     "cell_type": "code", 
     "collapsed": true, 
     "input": [
      "def get_loginHistory(data):", 
      "\tfor line in data:", 
      "\t\tif 'Failed password for' in line:", 
      "\t\t\tmylist.append(line)", 
      "\tframe = pandas.DataFrame([x.split() for x in mylist])", 
      "\treturn frame[8].value_counts()"
     ], 
     "language": "python", 
     "outputs": [], 
     "prompt_number": 51
    }, 
    {
     "cell_type": "code", 
     "collapsed": false, 
     "input": [
      "mylist=[]", 
      "get_loginHistory(data).plot(kind='bar')"
     ], 
     "language": "python", 
     "outputs": [
      {
       "output_type": "pyout", 
       "prompt_number": 52, 
       "text": [
        "&lt;matplotlib.axes.AxesSubplot at 0xb6165d4c&gt;"
       ]
      }, 
      {
       "output_type": "display_data", 
       "png": "[encoded data removed]"
      }
     ], 
     "prompt_number": 52
    }, 
    {
     "cell_type": "code", 
     "collapsed": false, 
     "input": [
      "mylist=[]", 
      "get_loginHistory(data)"
     ], 
     "language": "python", 
     "outputs": [
      {
       "output_type": "pyout", 
       "prompt_number": 53, 
       "text": [
        "invalid    2708", 
        "root       1894", 
        "mysql      15", 
        "backup     8", 
        "user2      4", 
        "user3      2", 
        "proxy      2", 
        "news       2", 
        "mail       2", 
        "games      2", 
        "user1      1"
       ]
      }
     ], 
     "prompt_number": 53
    }, 
    {
     "cell_type": "code", 
     "collapsed": false, 
     "input": [
      "mylist=[]", 
      "get_failedPasswordInvalidUser(data)"
     ], 
     "language": "python", 
     "outputs": [
      {
       "output_type": "pyout", 
       "prompt_number": 44, 
       "text": [
        "test          75", 
        "admin         59", 
        "alex          43", 
        "sarah         36", 
        "cyrus         34", 
        "guest         32", 
        "emma          32", 
        "user          30", 
        "sabine        30", 
        "renee         30", 
        "philippine    30", 
        "pauline       30", 
        "olivia        30", 
        "madison       30", 
        "madeline      30", 
        "...", 
        "bthadm          1", 
        "boavista        1", 
        "bluetulippon    1", 
        "asterisk        1", 
        "anonftproot     1", 
        "anita           1", 
        "anda            1", 
        "anamaria        1", 
        "alien           1", 
        "ale             1", 
        "admosfer        1", 
        "admins          1", 
        "accounts        1", 
        "LK              1", 
        "Horizon         1", 
        "Length: 903"
       ]
      }
     ], 
     "prompt_number": 44
    }, 
    {
     "cell_type": "code", 
     "collapsed": true, 
     "input": [
      "# end of tutorial"
     ], 
     "language": "python", 
     "outputs": [], 
     "prompt_number": "&nbsp;"
    }
   ]
  }
 ]
}