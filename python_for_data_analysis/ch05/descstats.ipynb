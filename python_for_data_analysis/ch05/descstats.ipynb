{
 "metadata": {
  "name": "descstats"
 },
 "nbformat": 3,
 "nbformat_minor": 0,
 "worksheets": [
  {
   "cells": [
    {
     "cell_type": "code",
     "collapsed": false,
     "input": [
      "from pandas import *\n",
      "price = read_csv(\"price.csv\",index_col=0)\n",
      "volume = read_csv(\"volume.csv\",index_col=0)\n"
     ],
     "language": "python",
     "outputs": [],
     "prompt_number": 1
    },
    {
     "cell_type": "code",
     "collapsed": false,
     "input": [
      "price"
     ],
     "language": "python",
     "outputs": [
      {
       "output_type": "pyout",
       "prompt_number": 2,
       "text": [
        "<class 'pandas.core.frame.DataFrame'>\n",
        "Index: 2515 entries, 2000-01-03 00:00:00 to 2009-12-31 00:00:00\n",
        "Data columns:\n",
        "AAPL    2515  non-null values\n",
        "GOOG    1353  non-null values\n",
        "IBM     2515  non-null values\n",
        "MSFT    2515  non-null values\n",
        "dtypes: float64(4)"
       ]
      }
     ],
     "prompt_number": 2
    },
    {
     "cell_type": "code",
     "collapsed": false,
     "input": [
      "price['GOOG'][:20]"
     ],
     "language": "python",
     "outputs": [
      {
       "output_type": "pyout",
       "prompt_number": 3,
       "text": [
        "Date\n",
        "2000-01-03 00:00:00   NaN\n",
        "2000-01-04 00:00:00   NaN\n",
        "2000-01-05 00:00:00   NaN\n",
        "2000-01-06 00:00:00   NaN\n",
        "2000-01-07 00:00:00   NaN\n",
        "2000-01-10 00:00:00   NaN\n",
        "2000-01-11 00:00:00   NaN\n",
        "2000-01-12 00:00:00   NaN\n",
        "2000-01-13 00:00:00   NaN\n",
        "2000-01-14 00:00:00   NaN\n",
        "2000-01-18 00:00:00   NaN\n",
        "2000-01-19 00:00:00   NaN\n",
        "2000-01-20 00:00:00   NaN\n",
        "2000-01-21 00:00:00   NaN\n",
        "2000-01-24 00:00:00   NaN\n",
        "2000-01-25 00:00:00   NaN\n",
        "2000-01-26 00:00:00   NaN\n",
        "2000-01-27 00:00:00   NaN\n",
        "2000-01-28 00:00:00   NaN\n",
        "2000-01-31 00:00:00   NaN\n",
        "Name: GOOG"
       ]
      }
     ],
     "prompt_number": 3
    },
    {
     "cell_type": "code",
     "collapsed": false,
     "input": [
      "price.describe()"
     ],
     "language": "python",
     "outputs": [
      {
       "html": [
        "<div style=\"max-height:1000px;max-width:1500px;overflow:auto;\">\n",
        "<table border=\"1\" class=\"dataframe\">\n",
        "  <thead>\n",
        "    <tr style=\"text-align: right;\">\n",
        "      <th></th>\n",
        "      <th>AAPL</th>\n",
        "      <th>GOOG</th>\n",
        "      <th>IBM</th>\n",
        "      <th>MSFT</th>\n",
        "    </tr>\n",
        "  </thead>\n",
        "  <tbody>\n",
        "    <tr>\n",
        "      <td><strong>count</strong></td>\n",
        "      <td> 2515.000000</td>\n",
        "      <td> 1353.000000</td>\n",
        "      <td> 2515.000000</td>\n",
        "      <td> 2515.000000</td>\n",
        "    </tr>\n",
        "    <tr>\n",
        "      <td><strong>mean</strong></td>\n",
        "      <td>   59.613753</td>\n",
        "      <td>  407.322616</td>\n",
        "      <td>   85.920135</td>\n",
        "      <td>   22.952636</td>\n",
        "    </tr>\n",
        "    <tr>\n",
        "      <td><strong>std</strong></td>\n",
        "      <td>   57.732374</td>\n",
        "      <td>  133.430545</td>\n",
        "      <td>   14.945741</td>\n",
        "      <td>    4.065664</td>\n",
        "    </tr>\n",
        "    <tr>\n",
        "      <td><strong>min</strong></td>\n",
        "      <td>    6.460000</td>\n",
        "      <td>  100.010000</td>\n",
        "      <td>   47.520000</td>\n",
        "      <td>   13.720000</td>\n",
        "    </tr>\n",
        "    <tr>\n",
        "      <td><strong>25%</strong></td>\n",
        "      <td>   10.975000</td>\n",
        "      <td>  315.070000</td>\n",
        "      <td>   73.750000</td>\n",
        "      <td>   20.290000</td>\n",
        "    </tr>\n",
        "    <tr>\n",
        "      <td><strong>50%</strong></td>\n",
        "      <td>   33.720000</td>\n",
        "      <td>  417.810000</td>\n",
        "      <td>   83.450000</td>\n",
        "      <td>   22.350000</td>\n",
        "    </tr>\n",
        "    <tr>\n",
        "      <td><strong>75%</strong></td>\n",
        "      <td>   92.340000</td>\n",
        "      <td>  492.470000</td>\n",
        "      <td>   96.965000</td>\n",
        "      <td>   25.180000</td>\n",
        "    </tr>\n",
        "    <tr>\n",
        "      <td><strong>max</strong></td>\n",
        "      <td>  208.560000</td>\n",
        "      <td>  741.790000</td>\n",
        "      <td>  125.270000</td>\n",
        "      <td>   43.840000</td>\n",
        "    </tr>\n",
        "  </tbody>\n",
        "</table>\n",
        "</div>"
       ],
       "output_type": "pyout",
       "prompt_number": 4,
       "text": [
        "              AAPL         GOOG          IBM         MSFT\n",
        "count  2515.000000  1353.000000  2515.000000  2515.000000\n",
        "mean     59.613753   407.322616    85.920135    22.952636\n",
        "std      57.732374   133.430545    14.945741     4.065664\n",
        "min       6.460000   100.010000    47.520000    13.720000\n",
        "25%      10.975000   315.070000    73.750000    20.290000\n",
        "50%      33.720000   417.810000    83.450000    22.350000\n",
        "75%      92.340000   492.470000    96.965000    25.180000\n",
        "max     208.560000   741.790000   125.270000    43.840000"
       ]
      }
     ],
     "prompt_number": 4
    },
    {
     "cell_type": "code",
     "collapsed": false,
     "input": [
      "returns = price.pct_change()\n",
      "returns.tail()\n"
     ],
     "language": "python",
     "outputs": [
      {
       "html": [
        "<div style=\"max-height:1000px;max-width:1500px;overflow:auto;\">\n",
        "<table border=\"1\" class=\"dataframe\">\n",
        "  <thead>\n",
        "    <tr style=\"text-align: right;\">\n",
        "      <th></th>\n",
        "      <th>AAPL</th>\n",
        "      <th>GOOG</th>\n",
        "      <th>IBM</th>\n",
        "      <th>MSFT</th>\n",
        "    </tr>\n",
        "    <tr>\n",
        "      <th>Date</th>\n",
        "      <th></th>\n",
        "      <th></th>\n",
        "      <th></th>\n",
        "      <th></th>\n",
        "    </tr>\n",
        "  </thead>\n",
        "  <tbody>\n",
        "    <tr>\n",
        "      <td><strong>2009-12-24 00:00:00</strong></td>\n",
        "      <td> 0.034344</td>\n",
        "      <td> 0.011117</td>\n",
        "      <td> 0.004396</td>\n",
        "      <td> 0.002460</td>\n",
        "    </tr>\n",
        "    <tr>\n",
        "      <td><strong>2009-12-28 00:00:00</strong></td>\n",
        "      <td> 0.012282</td>\n",
        "      <td> 0.007098</td>\n",
        "      <td> 0.013373</td>\n",
        "      <td> 0.005608</td>\n",
        "    </tr>\n",
        "    <tr>\n",
        "      <td><strong>2009-12-29 00:00:00</strong></td>\n",
        "      <td>-0.011845</td>\n",
        "      <td>-0.005571</td>\n",
        "      <td>-0.003519</td>\n",
        "      <td> 0.006971</td>\n",
        "    </tr>\n",
        "    <tr>\n",
        "      <td><strong>2009-12-30 00:00:00</strong></td>\n",
        "      <td> 0.012132</td>\n",
        "      <td> 0.005376</td>\n",
        "      <td> 0.005458</td>\n",
        "      <td>-0.013499</td>\n",
        "    </tr>\n",
        "    <tr>\n",
        "      <td><strong>2009-12-31 00:00:00</strong></td>\n",
        "      <td>-0.004315</td>\n",
        "      <td>-0.004416</td>\n",
        "      <td>-0.012613</td>\n",
        "      <td>-0.015789</td>\n",
        "    </tr>\n",
        "  </tbody>\n",
        "</table>\n",
        "</div>"
       ],
       "output_type": "pyout",
       "prompt_number": 5,
       "text": [
        "                         AAPL      GOOG       IBM      MSFT\n",
        "Date                                                       \n",
        "2009-12-24 00:00:00  0.034344  0.011117  0.004396  0.002460\n",
        "2009-12-28 00:00:00  0.012282  0.007098  0.013373  0.005608\n",
        "2009-12-29 00:00:00 -0.011845 -0.005571 -0.003519  0.006971\n",
        "2009-12-30 00:00:00  0.012132  0.005376  0.005458 -0.013499\n",
        "2009-12-31 00:00:00 -0.004315 -0.004416 -0.012613 -0.015789"
       ]
      }
     ],
     "prompt_number": 5
    },
    {
     "cell_type": "code",
     "collapsed": false,
     "input": [],
     "language": "python",
     "outputs": []
    }
   ]
  }
 ]
}