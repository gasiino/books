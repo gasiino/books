{
 "metadata": {
  "name": "apply"
 },
 "nbformat": 3,
 "nbformat_minor": 0,
 "worksheets": [
  {
   "cells": [
    {
     "cell_type": "code",
     "collapsed": false,
     "input": [
      "from pandas import *\n",
      "frame = DataFrame(np.random.randn(4, 3), columns=list('bde'),\n",
      "index=['Utah', 'Ohio', 'Texas', 'Oregon'])\n",
      "frame\n"
     ],
     "language": "python",
     "outputs": [
      {
       "html": [
        "<div style=\"max-height:1000px;max-width:1500px;overflow:auto;\">\n",
        "<table border=\"1\" class=\"dataframe\">\n",
        "  <thead>\n",
        "    <tr style=\"text-align: right;\">\n",
        "      <th></th>\n",
        "      <th>b</th>\n",
        "      <th>d</th>\n",
        "      <th>e</th>\n",
        "    </tr>\n",
        "  </thead>\n",
        "  <tbody>\n",
        "    <tr>\n",
        "      <td><strong>Utah</strong></td>\n",
        "      <td>-1.939192</td>\n",
        "      <td>-0.131734</td>\n",
        "      <td> 0.774437</td>\n",
        "    </tr>\n",
        "    <tr>\n",
        "      <td><strong>Ohio</strong></td>\n",
        "      <td>-0.590389</td>\n",
        "      <td>-0.976401</td>\n",
        "      <td> 0.875310</td>\n",
        "    </tr>\n",
        "    <tr>\n",
        "      <td><strong>Texas</strong></td>\n",
        "      <td>-0.213802</td>\n",
        "      <td> 0.737972</td>\n",
        "      <td> 0.234070</td>\n",
        "    </tr>\n",
        "    <tr>\n",
        "      <td><strong>Oregon</strong></td>\n",
        "      <td>-1.022964</td>\n",
        "      <td>-0.505375</td>\n",
        "      <td> 1.171023</td>\n",
        "    </tr>\n",
        "  </tbody>\n",
        "</table>\n",
        "</div>"
       ],
       "output_type": "pyout",
       "prompt_number": 3,
       "text": [
        "               b         d         e\n",
        "Utah   -1.939192 -0.131734  0.774437\n",
        "Ohio   -0.590389 -0.976401  0.875310\n",
        "Texas  -0.213802  0.737972  0.234070\n",
        "Oregon -1.022964 -0.505375  1.171023"
       ]
      }
     ],
     "prompt_number": 3
    },
    {
     "cell_type": "code",
     "collapsed": false,
     "input": [
      "np.abs(frame)\n"
     ],
     "language": "python",
     "outputs": [
      {
       "html": [
        "<div style=\"max-height:1000px;max-width:1500px;overflow:auto;\">\n",
        "<table border=\"1\" class=\"dataframe\">\n",
        "  <thead>\n",
        "    <tr style=\"text-align: right;\">\n",
        "      <th></th>\n",
        "      <th>b</th>\n",
        "      <th>d</th>\n",
        "      <th>e</th>\n",
        "    </tr>\n",
        "  </thead>\n",
        "  <tbody>\n",
        "    <tr>\n",
        "      <td><strong>Utah</strong></td>\n",
        "      <td> 0.790031</td>\n",
        "      <td> 0.178236</td>\n",
        "      <td> 0.025691</td>\n",
        "    </tr>\n",
        "    <tr>\n",
        "      <td><strong>Ohio</strong></td>\n",
        "      <td> 0.183670</td>\n",
        "      <td> 0.452752</td>\n",
        "      <td> 2.074796</td>\n",
        "    </tr>\n",
        "    <tr>\n",
        "      <td><strong>Texas</strong></td>\n",
        "      <td> 0.249244</td>\n",
        "      <td> 0.255357</td>\n",
        "      <td> 0.279192</td>\n",
        "    </tr>\n",
        "    <tr>\n",
        "      <td><strong>Oregon</strong></td>\n",
        "      <td> 0.013012</td>\n",
        "      <td> 0.936404</td>\n",
        "      <td> 0.137199</td>\n",
        "    </tr>\n",
        "  </tbody>\n",
        "</table>\n",
        "</div>"
       ],
       "output_type": "pyout",
       "prompt_number": 5,
       "text": [
        "               b         d         e\n",
        "Utah    0.790031  0.178236  0.025691\n",
        "Ohio    0.183670  0.452752  2.074796\n",
        "Texas   0.249244  0.255357  0.279192\n",
        "Oregon  0.013012  0.936404  0.137199"
       ]
      }
     ],
     "prompt_number": 5
    },
    {
     "cell_type": "code",
     "collapsed": false,
     "input": [
      "f = lambda x: x.max() - x.min()\n",
      "frame.apply(f)\n"
     ],
     "language": "python",
     "outputs": [
      {
       "output_type": "pyout",
       "prompt_number": 7,
       "text": [
        "b    0.777019\n",
        "d    1.114640\n",
        "e    2.353989"
       ]
      }
     ],
     "prompt_number": 7
    },
    {
     "cell_type": "code",
     "collapsed": false,
     "input": [
      "def f(x):\n",
      "   return Series([x.min(), x.max()], index=['min', 'max'])\n",
      "frame.apply(f)\n"
     ],
     "language": "python",
     "outputs": [
      {
       "html": [
        "<div style=\"max-height:1000px;max-width:1500px;overflow:auto;\">\n",
        "<table border=\"1\" class=\"dataframe\">\n",
        "  <thead>\n",
        "    <tr style=\"text-align: right;\">\n",
        "      <th></th>\n",
        "      <th>b</th>\n",
        "      <th>d</th>\n",
        "      <th>e</th>\n",
        "    </tr>\n",
        "  </thead>\n",
        "  <tbody>\n",
        "    <tr>\n",
        "      <td><strong>min</strong></td>\n",
        "      <td> 0.013012</td>\n",
        "      <td>-0.936404</td>\n",
        "      <td>-2.074796</td>\n",
        "    </tr>\n",
        "    <tr>\n",
        "      <td><strong>max</strong></td>\n",
        "      <td> 0.790031</td>\n",
        "      <td> 0.178236</td>\n",
        "      <td> 0.279192</td>\n",
        "    </tr>\n",
        "  </tbody>\n",
        "</table>\n",
        "</div>"
       ],
       "output_type": "pyout",
       "prompt_number": 8,
       "text": [
        "            b         d         e\n",
        "min  0.013012 -0.936404 -2.074796\n",
        "max  0.790031  0.178236  0.279192"
       ]
      }
     ],
     "prompt_number": 8
    },
    {
     "cell_type": "code",
     "collapsed": false,
     "input": [
      "format = lambda x: '%.2f' % x\n"
     ],
     "language": "python",
     "outputs": [],
     "prompt_number": 4
    },
    {
     "cell_type": "code",
     "collapsed": false,
     "input": [
      "frame.applymap(format)\n"
     ],
     "language": "python",
     "outputs": [
      {
       "html": [
        "<div style=\"max-height:1000px;max-width:1500px;overflow:auto;\">\n",
        "<table border=\"1\" class=\"dataframe\">\n",
        "  <thead>\n",
        "    <tr style=\"text-align: right;\">\n",
        "      <th></th>\n",
        "      <th>b</th>\n",
        "      <th>d</th>\n",
        "      <th>e</th>\n",
        "    </tr>\n",
        "  </thead>\n",
        "  <tbody>\n",
        "    <tr>\n",
        "      <td><strong>Utah</strong></td>\n",
        "      <td> -1.94</td>\n",
        "      <td> -0.13</td>\n",
        "      <td> 0.77</td>\n",
        "    </tr>\n",
        "    <tr>\n",
        "      <td><strong>Ohio</strong></td>\n",
        "      <td> -0.59</td>\n",
        "      <td> -0.98</td>\n",
        "      <td> 0.88</td>\n",
        "    </tr>\n",
        "    <tr>\n",
        "      <td><strong>Texas</strong></td>\n",
        "      <td> -0.21</td>\n",
        "      <td>  0.74</td>\n",
        "      <td> 0.23</td>\n",
        "    </tr>\n",
        "    <tr>\n",
        "      <td><strong>Oregon</strong></td>\n",
        "      <td> -1.02</td>\n",
        "      <td> -0.51</td>\n",
        "      <td> 1.17</td>\n",
        "    </tr>\n",
        "  </tbody>\n",
        "</table>\n",
        "</div>"
       ],
       "output_type": "pyout",
       "prompt_number": 5,
       "text": [
        "            b      d     e\n",
        "Utah    -1.94  -0.13  0.77\n",
        "Ohio    -0.59  -0.98  0.88\n",
        "Texas   -0.21   0.74  0.23\n",
        "Oregon  -1.02  -0.51  1.17"
       ]
      }
     ],
     "prompt_number": 5
    },
    {
     "cell_type": "code",
     "collapsed": false,
     "input": [],
     "language": "python",
     "outputs": []
    }
   ]
  }
 ]
}