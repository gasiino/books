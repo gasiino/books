{
 "metadata": {
  "name": "getdata"
 },
 "nbformat": 3,
 "nbformat_minor": 0,
 "worksheets": [
  {
   "cells": [
    {
     "cell_type": "code",
     "collapsed": false,
     "input": [
      "from pandas import *\n",
      "import pandas.io.data as web\n",
      "all_data = {}\n",
      "for ticker in ['AAPL', 'IBM', 'MSFT', 'GOOG']:\n",
      "   all_data[ticker] = web.get_data_yahoo(ticker, '1/1/2000', '1/1/2010')\n",
      "price = DataFrame({tic: data['Adj Close'] for tic, data in all_data.iteritems()})\n",
      "volume = DataFrame({tic: data['Volume'] for tic, data in all_data.iteritems()})\n"
     ],
     "language": "python",
     "outputs": [],
     "prompt_number": 5
    },
    {
     "cell_type": "code",
     "collapsed": false,
     "input": [
      "price.to_csv(\"price.csv\")\n",
      "volume.to_csv(\"volume.csv\")\n"
     ],
     "language": "python",
     "outputs": [],
     "prompt_number": 6
    },
    {
     "cell_type": "code",
     "collapsed": false,
     "input": [
      "price"
     ],
     "language": "python",
     "outputs": [
      {
       "output_type": "pyout",
       "prompt_number": 12,
       "text": [
        "<class 'pandas.core.frame.DataFrame'>\n",
        "DatetimeIndex: 2515 entries, 2000-01-03 00:00:00 to 2009-12-31 00:00:00\n",
        "Data columns:\n",
        "AAPL    2515  non-null values\n",
        "GOOG    1353  non-null values\n",
        "IBM     2515  non-null values\n",
        "MSFT    2515  non-null values\n",
        "dtypes: float64(4)"
       ]
      }
     ],
     "prompt_number": 12
    },
    {
     "cell_type": "code",
     "collapsed": false,
     "input": [
      "price['GOOG'][:20]"
     ],
     "language": "python",
     "outputs": [
      {
       "output_type": "pyout",
       "prompt_number": 11,
       "text": [
        "Date\n",
        "2000-01-03   NaN\n",
        "2000-01-04   NaN\n",
        "2000-01-05   NaN\n",
        "2000-01-06   NaN\n",
        "2000-01-07   NaN\n",
        "2000-01-10   NaN\n",
        "2000-01-11   NaN\n",
        "2000-01-12   NaN\n",
        "2000-01-13   NaN\n",
        "2000-01-14   NaN\n",
        "2000-01-18   NaN\n",
        "2000-01-19   NaN\n",
        "2000-01-20   NaN\n",
        "2000-01-21   NaN\n",
        "2000-01-24   NaN\n",
        "2000-01-25   NaN\n",
        "2000-01-26   NaN\n",
        "2000-01-27   NaN\n",
        "2000-01-28   NaN\n",
        "2000-01-31   NaN\n",
        "Name: GOOG"
       ]
      }
     ],
     "prompt_number": 11
    },
    {
     "cell_type": "code",
     "collapsed": false,
     "input": [
      "returns = price.pct_change()\n",
      "returns"
     ],
     "language": "python",
     "outputs": [
      {
       "output_type": "pyout",
       "prompt_number": 10,
       "text": [
        "<class 'pandas.core.frame.DataFrame'>\n",
        "DatetimeIndex: 2515 entries, 2000-01-03 00:00:00 to 2009-12-31 00:00:00\n",
        "Data columns:\n",
        "AAPL    2514  non-null values\n",
        "GOOG    1352  non-null values\n",
        "IBM     2514  non-null values\n",
        "MSFT    2514  non-null values\n",
        "dtypes: float64(4)"
       ]
      }
     ],
     "prompt_number": 10
    },
    {
     "cell_type": "code",
     "collapsed": false,
     "input": [],
     "language": "python",
     "outputs": []
    }
   ]
  }
 ]
}