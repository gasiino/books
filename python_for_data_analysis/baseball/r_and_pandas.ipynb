{
 "metadata": {
  "name": "r_and_pandas"
 },
 "nbformat": 3,
 "nbformat_minor": 0,
 "worksheets": [
  {
   "cells": [
    {
     "cell_type": "heading",
     "level": 1,
     "source": [
      "R and pandas and what I've learned about each"
     ]
    },
    {
     "cell_type": "markdown",
     "source": [
      "Note: this is a rewrite in the form of a Notebook, for ease of experimentation, of a [blog post by Yhat](http://blog.yhathq.com/posts/R-and-pandas-and-what-ive-learned-about-each.html).  All code and credit goes to the Yhat team.  Furthermore, the original blog post has narrative text and explanations that I did *not* copy, so you should still read their blog!  This Notebook simply makes it much easier to experiment with all the code in one place."
     ]
    },
    {
     "cell_type": "code",
     "collapsed": false,
     "input": [
      "%pylab inline\n",
      "import numpy as np\n",
      "import matplotlib.pyplot as pl\n",
      "import pandas as pd"
     ],
     "language": "python",
     "outputs": [
      {
       "output_type": "stream",
       "stream": "stdout",
       "text": [
        "\n",
        "Welcome to pylab, a matplotlib-based Python environment [backend: module://IPython.zmq.pylab.backend_inline].\n",
        "For more information, type 'help(pylab)'.\n"
       ]
      }
     ],
     "prompt_number": 1
    },
    {
     "cell_type": "heading",
     "level": 2,
     "source": [
      "plyr-esq features in Python"
     ]
    },
    {
     "cell_type": "markdown",
     "source": [
      "Now, the Python code starts that is all taken from Yhat's sources almost unmodified. The only difference is that I imported pyplot instead of pylab and that I removed all pseudo-output, letting the real output in the notebook in place."
     ]
    },
    {
     "cell_type": "code",
     "collapsed": false,
     "input": [
      "baseball = pd.read_csv(\"baseball.csv\")\n",
      " \n",
      "# group by year and get a summary of each numeric column\n",
      "baseball.groupby([\"year\"]).describe()"
     ],
     "language": "python",
     "outputs": [
      {
       "output_type": "pyout",
       "prompt_number": 2,
       "text": [
        "<class 'pandas.core.frame.DataFrame'>\n",
        "MultiIndex: 1096 entries, (1871, count) to (2007, max)\n",
        "Data columns:\n",
        "Unnamed: 0    1096  non-null values\n",
        "year          1096  non-null values\n",
        "stint         1096  non-null values\n",
        "g             1096  non-null values\n",
        "ab            1096  non-null values\n",
        "r             1096  non-null values\n",
        "h             1096  non-null values\n",
        "X2b           1096  non-null values\n",
        "X3b           1096  non-null values\n",
        "hr            1096  non-null values\n",
        "rbi           1096  non-null values\n",
        "sb            1060  non-null values\n",
        "cs            860  non-null values\n",
        "bb            1096  non-null values\n",
        "so            1005  non-null values\n",
        "ibb           735  non-null values\n",
        "hbp           1011  non-null values\n",
        "sh            940  non-null values\n",
        "sf            736  non-null values\n",
        "gidp          751  non-null values\n",
        "dtypes: float64(20)"
       ]
      }
     ],
     "prompt_number": 2
    },
    {
     "cell_type": "code",
     "collapsed": false,
     "input": [
      "# for each year, get the mean of each column\n",
      "baseball.groupby([\"year\"]).aggregate(np.mean)"
     ],
     "language": "python",
     "outputs": [
      {
       "output_type": "pyout",
       "prompt_number": 3,
       "text": [
        "<class 'pandas.core.frame.DataFrame'>\n",
        "Int64Index: 137 entries, 1871 to 2007\n",
        "Data columns:\n",
        "Unnamed: 0    137  non-null values\n",
        "stint         137  non-null values\n",
        "g             137  non-null values\n",
        "ab            137  non-null values\n",
        "r             137  non-null values\n",
        "h             137  non-null values\n",
        "X2b           137  non-null values\n",
        "X3b           137  non-null values\n",
        "hr            137  non-null values\n",
        "rbi           137  non-null values\n",
        "sb            132  non-null values\n",
        "cs            104  non-null values\n",
        "bb            137  non-null values\n",
        "so            124  non-null values\n",
        "ibb           88  non-null values\n",
        "hbp           125  non-null values\n",
        "sh            115  non-null values\n",
        "sf            88  non-null values\n",
        "gidp          89  non-null values\n",
        "dtypes: float64(19)"
       ]
      }
     ],
     "prompt_number": 3
    },
    {
     "cell_type": "code",
     "collapsed": false,
     "input": [
      "# you can create group objects\n",
      "baseball_grouped = baseball.groupby([\"year\"])\n",
      "# getting the count of rows for each league\n",
      "baseball.groupby(\"lg\").size()"
     ],
     "language": "python",
     "outputs": [
      {
       "output_type": "pyout",
       "prompt_number": 4,
       "text": [
        "lg\n",
        "AA      171\n",
        "AL    10007\n",
        "FL       37\n",
        "NL    11378\n",
        "PL       32\n",
        "UA        9"
       ]
      }
     ],
     "prompt_number": 4
    },
    {
     "cell_type": "code",
     "collapsed": false,
     "input": [
      "# records per year\n",
      "baseball.groupby([\"year\"]).size()"
     ],
     "language": "python",
     "outputs": [
      {
       "output_type": "pyout",
       "prompt_number": 5,
       "text": [
        "year\n",
        "1871     7\n",
        "1872    13\n",
        "1873    13\n",
        "1874    15\n",
        "1875    17\n",
        "1876    15\n",
        "1877    17\n",
        "1878    17\n",
        "1879    25\n",
        "1880    28\n",
        "1881    36\n",
        "1882    35\n",
        "1883    38\n",
        "1884    53\n",
        "1885    50\n",
        "...\n",
        "1993    355\n",
        "1994    333\n",
        "1995    363\n",
        "1996    343\n",
        "1997    335\n",
        "1998    324\n",
        "1999    283\n",
        "2000    285\n",
        "2001    261\n",
        "2002    213\n",
        "2003    216\n",
        "2004    187\n",
        "2005    160\n",
        "2006    141\n",
        "2007     92\n",
        "Length: 137"
       ]
      }
     ],
     "prompt_number": 5
    },
    {
     "cell_type": "code",
     "collapsed": false,
     "input": [
      "def analyze(df):\n",
      "    return pd.Series({\"nrow\": len(df), \"ncol\": len(df.columns)})\n",
      "\n",
      "# rows and columns per league\n",
      "baseball.groupby(\"lg\").apply(analyze)"
     ],
     "language": "python",
     "outputs": [
      {
       "html": [
        "<div style=\"max-height:1000px;max-width:1500px;overflow:auto;\">\n",
        "<table border=\"1\" class=\"dataframe\">\n",
        "  <thead>\n",
        "    <tr style=\"text-align: right;\">\n",
        "      <th></th>\n",
        "      <th>ncol</th>\n",
        "      <th>nrow</th>\n",
        "    </tr>\n",
        "    <tr>\n",
        "      <th>lg</th>\n",
        "      <th></th>\n",
        "      <th></th>\n",
        "    </tr>\n",
        "  </thead>\n",
        "  <tbody>\n",
        "    <tr>\n",
        "      <td><strong>AA</strong></td>\n",
        "      <td> 23</td>\n",
        "      <td>   171</td>\n",
        "    </tr>\n",
        "    <tr>\n",
        "      <td><strong>AL</strong></td>\n",
        "      <td> 23</td>\n",
        "      <td> 10007</td>\n",
        "    </tr>\n",
        "    <tr>\n",
        "      <td><strong>FL</strong></td>\n",
        "      <td> 23</td>\n",
        "      <td>    37</td>\n",
        "    </tr>\n",
        "    <tr>\n",
        "      <td><strong>NL</strong></td>\n",
        "      <td> 23</td>\n",
        "      <td> 11378</td>\n",
        "    </tr>\n",
        "    <tr>\n",
        "      <td><strong>PL</strong></td>\n",
        "      <td> 23</td>\n",
        "      <td>    32</td>\n",
        "    </tr>\n",
        "    <tr>\n",
        "      <td><strong>UA</strong></td>\n",
        "      <td> 23</td>\n",
        "      <td>     9</td>\n",
        "    </tr>\n",
        "  </tbody>\n",
        "</table>\n",
        "</div>"
       ],
       "output_type": "pyout",
       "prompt_number": 6,
       "text": [
        "    ncol   nrow\n",
        "lg             \n",
        "AA    23    171\n",
        "AL    23  10007\n",
        "FL    23     37\n",
        "NL    23  11378\n",
        "PL    23     32\n",
        "UA    23      9"
       ]
      }
     ],
     "prompt_number": 6
    },
    {
     "cell_type": "code",
     "collapsed": false,
     "input": [
      "# aggregate over year and get mean RBIs per year\n",
      "mean_rbis = baseball.groupby(\"year\")['rbi'].aggregate(np.mean)\n",
      "mean_rbis.head()"
     ],
     "language": "python",
     "outputs": [
      {
       "output_type": "pyout",
       "prompt_number": 7,
       "text": [
        "year\n",
        "1871    22.285714\n",
        "1872    20.538462\n",
        "1873    30.923077\n",
        "1874    29.000000\n",
        "1875    31.588235\n",
        "Name: rbi"
       ]
      }
     ],
     "prompt_number": 7
    },
    {
     "cell_type": "code",
     "collapsed": false,
     "input": [
      "mean_rbis.plot();"
     ],
     "language": "python",
     "outputs": [
      {
       "output_type": "display_data",
       "png": "[encoded data removed]",
       "text": [
        "<matplotlib.figure.Figure at 0xb4ee9cc>"
       ]
      }
     ],
     "prompt_number": 8
    },
    {
     "cell_type": "code",
     "collapsed": false,
     "input": [
      "def years_played_to_date(player):\n",
      "    years_to_date = player.year - np.min(player.year) + 1\n",
      "    player['years_to_date'] = years_to_date\n",
      "    return player\n",
      " \n",
      "# for each player, calculate the number of years played\n",
      "players = baseball.groupby(\"id\").apply(years_played_to_date)\n",
      "players.ix[players.id==\"ansonca01\"]"
     ],
     "language": "python",
     "outputs": [
      {
       "output_type": "pyout",
       "prompt_number": 9,
       "text": [
        "<class 'pandas.core.frame.DataFrame'>\n",
        "Int64Index: 27 entries, 0 to 1107\n",
        "Data columns:\n",
        "Unnamed: 0       27  non-null values\n",
        "id               27  non-null values\n",
        "year             27  non-null values\n",
        "stint            27  non-null values\n",
        "team             27  non-null values\n",
        "lg               22  non-null values\n",
        "g                27  non-null values\n",
        "ab               27  non-null values\n",
        "r                27  non-null values\n",
        "h                27  non-null values\n",
        "X2b              27  non-null values\n",
        "X3b              27  non-null values\n",
        "hr               27  non-null values\n",
        "rbi              27  non-null values\n",
        "sb               17  non-null values\n",
        "cs               5  non-null values\n",
        "bb               27  non-null values\n",
        "so               26  non-null values\n",
        "ibb              0  non-null values\n",
        "hbp              11  non-null values\n",
        "sh               3  non-null values\n",
        "sf               0  non-null values\n",
        "gidp             0  non-null values\n",
        "years_to_date    27  non-null values\n",
        "dtypes: float64(9), int64(12), object(3)"
       ]
      }
     ],
     "prompt_number": 9
    },
    {
     "cell_type": "code",
     "collapsed": false,
     "input": [
      "# get the mean and median years played and plot it\n",
      "players.groupby(\"year\").aggregate([np.mean, np.median]).years_to_date.plot();"
     ],
     "language": "python",
     "outputs": [
      {
       "output_type": "display_data",
       "png": "[encoded data removed]",
       "text": [
        "<matplotlib.figure.Figure at 0xb4dde2c>"
       ]
      }
     ],
     "prompt_number": 10
    },
    {
     "cell_type": "heading",
     "level": 2,
     "source": [
      "applying functions element-wise"
     ]
    },
    {
     "cell_type": "code",
     "collapsed": false,
     "input": [
      "import pandas as pd\n",
      "from sklearn.datasets import load_iris\n",
      " \n",
      "iris = load_iris()\n",
      " \n",
      "df = pd.DataFrame(iris.data, columns=iris.feature_names)\n",
      "# apply\n",
      "cols = df.columns[0:4]\n",
      "# divide each numeric column by 2\n",
      "df[cols].apply(lambda x: x / 2).head()"
     ],
     "language": "python",
     "outputs": [
      {
       "html": [
        "<div style=\"max-height:1000px;max-width:1500px;overflow:auto;\">\n",
        "<table border=\"1\" class=\"dataframe\">\n",
        "  <thead>\n",
        "    <tr style=\"text-align: right;\">\n",
        "      <th></th>\n",
        "      <th>sepal length (cm)</th>\n",
        "      <th>sepal width (cm)</th>\n",
        "      <th>petal length (cm)</th>\n",
        "      <th>petal width (cm)</th>\n",
        "    </tr>\n",
        "  </thead>\n",
        "  <tbody>\n",
        "    <tr>\n",
        "      <td><strong>0</strong></td>\n",
        "      <td> 2.55</td>\n",
        "      <td> 1.75</td>\n",
        "      <td> 0.70</td>\n",
        "      <td> 0.1</td>\n",
        "    </tr>\n",
        "    <tr>\n",
        "      <td><strong>1</strong></td>\n",
        "      <td> 2.45</td>\n",
        "      <td> 1.50</td>\n",
        "      <td> 0.70</td>\n",
        "      <td> 0.1</td>\n",
        "    </tr>\n",
        "    <tr>\n",
        "      <td><strong>2</strong></td>\n",
        "      <td> 2.35</td>\n",
        "      <td> 1.60</td>\n",
        "      <td> 0.65</td>\n",
        "      <td> 0.1</td>\n",
        "    </tr>\n",
        "    <tr>\n",
        "      <td><strong>3</strong></td>\n",
        "      <td> 2.30</td>\n",
        "      <td> 1.55</td>\n",
        "      <td> 0.75</td>\n",
        "      <td> 0.1</td>\n",
        "    </tr>\n",
        "    <tr>\n",
        "      <td><strong>4</strong></td>\n",
        "      <td> 2.50</td>\n",
        "      <td> 1.80</td>\n",
        "      <td> 0.70</td>\n",
        "      <td> 0.1</td>\n",
        "    </tr>\n",
        "  </tbody>\n",
        "</table>\n",
        "</div>"
       ],
       "output_type": "pyout",
       "prompt_number": 11,
       "text": [
        "   sepal length (cm)  sepal width (cm)  petal length (cm)  petal width (cm)\n",
        "0               2.55              1.75               0.70               0.1\n",
        "1               2.45              1.50               0.70               0.1\n",
        "2               2.35              1.60               0.65               0.1\n",
        "3               2.30              1.55               0.75               0.1\n",
        "4               2.50              1.80               0.70               0.1"
       ]
      }
     ],
     "prompt_number": 11
    },
    {
     "cell_type": "code",
     "collapsed": false,
     "input": [
      "# divide 1 column by 2\n",
      "df['sepal length (cm)'].apply(lambda x: x / 2).head()"
     ],
     "language": "python",
     "outputs": [
      {
       "output_type": "pyout",
       "prompt_number": 12,
       "text": [
        "0    2.55\n",
        "1    2.45\n",
        "2    2.35\n",
        "3    2.30\n",
        "4    2.50\n",
        "Name: sepal length (cm)"
       ]
      }
     ],
     "prompt_number": 12
    },
    {
     "cell_type": "heading",
     "level": 2,
     "source": [
      "wide to long and back again"
     ]
    },
    {
     "cell_type": "code",
     "collapsed": false,
     "input": [
      "from pandas.core.reshape import melt, pivot\n",
      " \n",
      "df = pd.DataFrame(iris.data, columns=iris.feature_names)\n",
      "df['id'] = np.arange(0, len(df))\n",
      "df['species'] = pd.Factor(iris.target, levels=iris.target_names)\n",
      "df_lng = melt(df, id_vars=['id', 'species'])\n",
      "df_lng.head()"
     ],
     "language": "python",
     "outputs": [
      {
       "html": [
        "<div style=\"max-height:1000px;max-width:1500px;overflow:auto;\">\n",
        "<table border=\"1\" class=\"dataframe\">\n",
        "  <thead>\n",
        "    <tr style=\"text-align: right;\">\n",
        "      <th></th>\n",
        "      <th>id</th>\n",
        "      <th>species</th>\n",
        "      <th>variable</th>\n",
        "      <th>value</th>\n",
        "    </tr>\n",
        "  </thead>\n",
        "  <tbody>\n",
        "    <tr>\n",
        "      <td><strong>0</strong></td>\n",
        "      <td> 0</td>\n",
        "      <td> setosa</td>\n",
        "      <td> sepal length (cm)</td>\n",
        "      <td> 5.1</td>\n",
        "    </tr>\n",
        "    <tr>\n",
        "      <td><strong>1</strong></td>\n",
        "      <td> 1</td>\n",
        "      <td> setosa</td>\n",
        "      <td> sepal length (cm)</td>\n",
        "      <td> 4.9</td>\n",
        "    </tr>\n",
        "    <tr>\n",
        "      <td><strong>2</strong></td>\n",
        "      <td> 2</td>\n",
        "      <td> setosa</td>\n",
        "      <td> sepal length (cm)</td>\n",
        "      <td> 4.7</td>\n",
        "    </tr>\n",
        "    <tr>\n",
        "      <td><strong>3</strong></td>\n",
        "      <td> 3</td>\n",
        "      <td> setosa</td>\n",
        "      <td> sepal length (cm)</td>\n",
        "      <td> 4.6</td>\n",
        "    </tr>\n",
        "    <tr>\n",
        "      <td><strong>4</strong></td>\n",
        "      <td> 4</td>\n",
        "      <td> setosa</td>\n",
        "      <td> sepal length (cm)</td>\n",
        "      <td> 5.0</td>\n",
        "    </tr>\n",
        "  </tbody>\n",
        "</table>\n",
        "</div>"
       ],
       "output_type": "pyout",
       "prompt_number": 13,
       "text": [
        "   id species           variable  value\n",
        "0   0  setosa  sepal length (cm)    5.1\n",
        "1   1  setosa  sepal length (cm)    4.9\n",
        "2   2  setosa  sepal length (cm)    4.7\n",
        "3   3  setosa  sepal length (cm)    4.6\n",
        "4   4  setosa  sepal length (cm)    5.0"
       ]
      }
     ],
     "prompt_number": 13
    },
    {
     "cell_type": "code",
     "collapsed": false,
     "input": [
      "df_lng.tail()"
     ],
     "language": "python",
     "outputs": [
      {
       "html": [
        "<div style=\"max-height:1000px;max-width:1500px;overflow:auto;\">\n",
        "<table border=\"1\" class=\"dataframe\">\n",
        "  <thead>\n",
        "    <tr style=\"text-align: right;\">\n",
        "      <th></th>\n",
        "      <th>id</th>\n",
        "      <th>species</th>\n",
        "      <th>variable</th>\n",
        "      <th>value</th>\n",
        "    </tr>\n",
        "  </thead>\n",
        "  <tbody>\n",
        "    <tr>\n",
        "      <td><strong>595</strong></td>\n",
        "      <td> 145</td>\n",
        "      <td> virginica</td>\n",
        "      <td> petal width (cm)</td>\n",
        "      <td> 2.3</td>\n",
        "    </tr>\n",
        "    <tr>\n",
        "      <td><strong>596</strong></td>\n",
        "      <td> 146</td>\n",
        "      <td> virginica</td>\n",
        "      <td> petal width (cm)</td>\n",
        "      <td> 1.9</td>\n",
        "    </tr>\n",
        "    <tr>\n",
        "      <td><strong>597</strong></td>\n",
        "      <td> 147</td>\n",
        "      <td> virginica</td>\n",
        "      <td> petal width (cm)</td>\n",
        "      <td> 2.0</td>\n",
        "    </tr>\n",
        "    <tr>\n",
        "      <td><strong>598</strong></td>\n",
        "      <td> 148</td>\n",
        "      <td> virginica</td>\n",
        "      <td> petal width (cm)</td>\n",
        "      <td> 2.3</td>\n",
        "    </tr>\n",
        "    <tr>\n",
        "      <td><strong>599</strong></td>\n",
        "      <td> 149</td>\n",
        "      <td> virginica</td>\n",
        "      <td> petal width (cm)</td>\n",
        "      <td> 1.8</td>\n",
        "    </tr>\n",
        "  </tbody>\n",
        "</table>\n",
        "</div>"
       ],
       "output_type": "pyout",
       "prompt_number": 14,
       "text": [
        "      id    species          variable  value\n",
        "595  145  virginica  petal width (cm)    2.3\n",
        "596  146  virginica  petal width (cm)    1.9\n",
        "597  147  virginica  petal width (cm)    2.0\n",
        "598  148  virginica  petal width (cm)    2.3\n",
        "599  149  virginica  petal width (cm)    1.8"
       ]
      }
     ],
     "prompt_number": 14
    },
    {
     "cell_type": "code",
     "collapsed": false,
     "input": [
      "# back to wide\n",
      "data_wide = pd.pivot_table(df_lng, values=['variable', 'species', 'value'],\n",
      "                           rows=['id', 'variable']).unstack()\n",
      "data_wide.head()"
     ],
     "language": "python",
     "outputs": [
      {
       "html": [
        "<div style=\"max-height:1000px;max-width:1500px;overflow:auto;\">\n",
        "<table border=\"1\" class=\"dataframe\">\n",
        "  <thead>\n",
        "    <tr>\n",
        "      <th></th>\n",
        "      <th colspan=\"4\" halign=\"left\">value</th>\n",
        "    </tr>\n",
        "    <tr>\n",
        "      <th>variable</th>\n",
        "      <th>petal length (cm)</th>\n",
        "      <th>petal width (cm)</th>\n",
        "      <th>sepal length (cm)</th>\n",
        "      <th>sepal width (cm)</th>\n",
        "    </tr>\n",
        "    <tr>\n",
        "      <th>id</th>\n",
        "      <th></th>\n",
        "      <th></th>\n",
        "      <th></th>\n",
        "      <th></th>\n",
        "    </tr>\n",
        "  </thead>\n",
        "  <tbody>\n",
        "    <tr>\n",
        "      <td><strong>0</strong></td>\n",
        "      <td> 1.4</td>\n",
        "      <td> 0.2</td>\n",
        "      <td> 5.1</td>\n",
        "      <td> 3.5</td>\n",
        "    </tr>\n",
        "    <tr>\n",
        "      <td><strong>1</strong></td>\n",
        "      <td> 1.4</td>\n",
        "      <td> 0.2</td>\n",
        "      <td> 4.9</td>\n",
        "      <td> 3.0</td>\n",
        "    </tr>\n",
        "    <tr>\n",
        "      <td><strong>2</strong></td>\n",
        "      <td> 1.3</td>\n",
        "      <td> 0.2</td>\n",
        "      <td> 4.7</td>\n",
        "      <td> 3.2</td>\n",
        "    </tr>\n",
        "    <tr>\n",
        "      <td><strong>3</strong></td>\n",
        "      <td> 1.5</td>\n",
        "      <td> 0.2</td>\n",
        "      <td> 4.6</td>\n",
        "      <td> 3.1</td>\n",
        "    </tr>\n",
        "    <tr>\n",
        "      <td><strong>4</strong></td>\n",
        "      <td> 1.4</td>\n",
        "      <td> 0.2</td>\n",
        "      <td> 5.0</td>\n",
        "      <td> 3.6</td>\n",
        "    </tr>\n",
        "  </tbody>\n",
        "</table>\n",
        "</div>"
       ],
       "output_type": "pyout",
       "prompt_number": 15,
       "text": [
        "                      value                                                       \n",
        "variable  petal length (cm)  petal width (cm)  sepal length (cm)  sepal width (cm)\n",
        "id                                                                                \n",
        "0                       1.4               0.2                5.1               3.5\n",
        "1                       1.4               0.2                4.9               3.0\n",
        "2                       1.3               0.2                4.7               3.2\n",
        "3                       1.5               0.2                4.6               3.1\n",
        "4                       1.4               0.2                5.0               3.6"
       ]
      }
     ],
     "prompt_number": 15
    },
    {
     "cell_type": "heading",
     "level": 2,
     "source": [
      "plot"
     ]
    },
    {
     "cell_type": "markdown",
     "source": [
      "**Note:** these two cells can't be executed because the dataset referenced isn't available anymore, and I don't know where it comes from."
     ]
    },
    {
     "cell_type": "code",
     "collapsed": false,
     "input": [
      "from dateutil.parser import parse\n",
      "import os\n",
      "import pandas as pd\n",
      "\n",
      "# monthly slaughter records since 1921\n",
      "df = pd.read_csv('meat.csv')\n",
      "# parse the data (we could also use pd.to_datetime)\n",
      "df.date = df.date.apply(parse)\n",
      "# sort the data frame by date\n",
      "df = df.sort(['date'])\n",
      "# create an index\n",
      "df.index = df.date\n",
      "# fill months without data with 0s\n",
      "df = df.fillna(0)\n",
      " \n",
      "# built in boxplot method\n",
      "df.boxplot();"
     ],
     "language": "python",
     "outputs": [
      {
       "output_type": "display_data",
       "png": "[encoded data removed]",
       "text": [
        "<matplotlib.figure.Figure at 0xc49e64c>"
       ]
      }
     ],
     "prompt_number": 18
    },
    {
     "cell_type": "code",
     "collapsed": false,
     "input": [
      "# built in histogram method\n",
      "df.hist();"
     ],
     "language": "python",
     "outputs": [
      {
       "ename": "TypeError",
       "evalue": "ufunc 'less' not supported for the input types, and the inputs could not be safely coerced to any supported types according to the casting rule 'safe'",
       "output_type": "pyerr",
       "traceback": [
        "\u001b[1;31m---------------------------------------------------------------------------\u001b[0m\n\u001b[1;31mTypeError\u001b[0m                                 Traceback (most recent call last)",
        "\u001b[1;32m<ipython-input-17-82317fca6dc6>\u001b[0m in \u001b[0;36m<module>\u001b[1;34m()\u001b[0m\n\u001b[0;32m      1\u001b[0m \u001b[1;31m# built in histogram method\u001b[0m\u001b[1;33m\u001b[0m\u001b[1;33m\u001b[0m\u001b[0m\n\u001b[1;32m----> 2\u001b[1;33m \u001b[0mdf\u001b[0m\u001b[1;33m.\u001b[0m\u001b[0mhist\u001b[0m\u001b[1;33m(\u001b[0m\u001b[1;33m)\u001b[0m\u001b[1;33m;\u001b[0m\u001b[1;33m\u001b[0m\u001b[0m\n\u001b[0m",
        "\u001b[1;32m/usr/local/lib/python2.7/dist-packages/pandas-0.10.1.dev_-py2.7-linux-i686.egg/pandas/tools/plotting.pyc\u001b[0m in \u001b[0;36mhist_frame\u001b[1;34m(data, column, by, grid, xlabelsize, xrot, ylabelsize, yrot, ax, sharex, sharey, **kwds)\u001b[0m\n\u001b[0;32m   1711\u001b[0m         \u001b[0max\u001b[0m\u001b[1;33m.\u001b[0m\u001b[0mxaxis\u001b[0m\u001b[1;33m.\u001b[0m\u001b[0mset_visible\u001b[0m\u001b[1;33m(\u001b[0m\u001b[0mTrue\u001b[0m\u001b[1;33m)\u001b[0m\u001b[1;33m\u001b[0m\u001b[0m\n\u001b[0;32m   1712\u001b[0m         \u001b[0max\u001b[0m\u001b[1;33m.\u001b[0m\u001b[0myaxis\u001b[0m\u001b[1;33m.\u001b[0m\u001b[0mset_visible\u001b[0m\u001b[1;33m(\u001b[0m\u001b[0mTrue\u001b[0m\u001b[1;33m)\u001b[0m\u001b[1;33m\u001b[0m\u001b[0m\n\u001b[1;32m-> 1713\u001b[1;33m         \u001b[0max\u001b[0m\u001b[1;33m.\u001b[0m\u001b[0mhist\u001b[0m\u001b[1;33m(\u001b[0m\u001b[0mdata\u001b[0m\u001b[1;33m[\u001b[0m\u001b[0mcol\u001b[0m\u001b[1;33m]\u001b[0m\u001b[1;33m.\u001b[0m\u001b[0mdropna\u001b[0m\u001b[1;33m(\u001b[0m\u001b[1;33m)\u001b[0m\u001b[1;33m.\u001b[0m\u001b[0mvalues\u001b[0m\u001b[1;33m,\u001b[0m \u001b[1;33m**\u001b[0m\u001b[0mkwds\u001b[0m\u001b[1;33m)\u001b[0m\u001b[1;33m\u001b[0m\u001b[0m\n\u001b[0m\u001b[0;32m   1714\u001b[0m         \u001b[0max\u001b[0m\u001b[1;33m.\u001b[0m\u001b[0mset_title\u001b[0m\u001b[1;33m(\u001b[0m\u001b[0mcol\u001b[0m\u001b[1;33m)\u001b[0m\u001b[1;33m\u001b[0m\u001b[0m\n\u001b[0;32m   1715\u001b[0m         \u001b[0max\u001b[0m\u001b[1;33m.\u001b[0m\u001b[0mgrid\u001b[0m\u001b[1;33m(\u001b[0m\u001b[0mgrid\u001b[0m\u001b[1;33m)\u001b[0m\u001b[1;33m\u001b[0m\u001b[0m\n",
        "\u001b[1;32m/usr/lib/pymodules/python2.7/matplotlib/axes.pyc\u001b[0m in \u001b[0;36mhist\u001b[1;34m(self, x, bins, range, normed, weights, cumulative, bottom, histtype, align, orientation, rwidth, log, color, label, **kwargs)\u001b[0m\n\u001b[0;32m   7717\u001b[0m             \u001b[0mxmax\u001b[0m \u001b[1;33m=\u001b[0m \u001b[1;33m-\u001b[0m\u001b[0mnp\u001b[0m\u001b[1;33m.\u001b[0m\u001b[0minf\u001b[0m\u001b[1;33m\u001b[0m\u001b[0m\n\u001b[0;32m   7718\u001b[0m             \u001b[1;32mfor\u001b[0m \u001b[0mxi\u001b[0m \u001b[1;32min\u001b[0m \u001b[0mx\u001b[0m\u001b[1;33m:\u001b[0m\u001b[1;33m\u001b[0m\u001b[0m\n\u001b[1;32m-> 7719\u001b[1;33m                 \u001b[0mxmin\u001b[0m \u001b[1;33m=\u001b[0m \u001b[0mmin\u001b[0m\u001b[1;33m(\u001b[0m\u001b[0mxmin\u001b[0m\u001b[1;33m,\u001b[0m \u001b[0mxi\u001b[0m\u001b[1;33m.\u001b[0m\u001b[0mmin\u001b[0m\u001b[1;33m(\u001b[0m\u001b[1;33m)\u001b[0m\u001b[1;33m)\u001b[0m\u001b[1;33m\u001b[0m\u001b[0m\n\u001b[0m\u001b[0;32m   7720\u001b[0m                 \u001b[0mxmax\u001b[0m \u001b[1;33m=\u001b[0m \u001b[0mmax\u001b[0m\u001b[1;33m(\u001b[0m\u001b[0mxmax\u001b[0m\u001b[1;33m,\u001b[0m \u001b[0mxi\u001b[0m\u001b[1;33m.\u001b[0m\u001b[0mmax\u001b[0m\u001b[1;33m(\u001b[0m\u001b[1;33m)\u001b[0m\u001b[1;33m)\u001b[0m\u001b[1;33m\u001b[0m\u001b[0m\n\u001b[0;32m   7721\u001b[0m             \u001b[0mrange\u001b[0m \u001b[1;33m=\u001b[0m \u001b[1;33m(\u001b[0m\u001b[0mxmin\u001b[0m\u001b[1;33m,\u001b[0m \u001b[0mxmax\u001b[0m\u001b[1;33m)\u001b[0m\u001b[1;33m\u001b[0m\u001b[0m\n",
        "\u001b[1;31mTypeError\u001b[0m: ufunc 'less' not supported for the input types, and the inputs could not be safely coerced to any supported types according to the casting rule 'safe'"
       ]
      },
      {
       "output_type": "display_data",
       "png": "[encoded data removed]",
       "text": [
        "<matplotlib.figure.Figure at 0xb5092ac>"
       ]
      }
     ],
     "prompt_number": 17
    },
    {
     "cell_type": "code",
     "collapsed": false,
     "input": [
      "# let's make a time series plot of just the most popular\n",
      "cols = [\"Beef\", \"Pork\", \"Turkey\", \"Broilers\"]\n",
      "# note that since the data frame is indexed, \n",
      "# pandas automatically renders the plot w/ a date for the x-axis\n",
      "df[cols].plot()\n",
      "df[cols].hist();"
     ],
     "language": "python",
     "outputs": []
    },
    {
     "cell_type": "code",
     "collapsed": false,
     "input": [
      "# add a 12 month moving average\n",
      "df[cols].apply(lambda x: pd.rolling_mean(x, 12)).plot();"
     ],
     "language": "python",
     "outputs": []
    },
    {
     "cell_type": "code",
     "collapsed": false,
     "input": [
      "df['Beef'].hist();"
     ],
     "language": "python",
     "outputs": []
    },
    {
     "cell_type": "code",
     "collapsed": false,
     "input": [
      "df['Beef'].plot();"
     ],
     "language": "python",
     "outputs": []
    },
    {
     "cell_type": "heading",
     "level": 2,
     "source": [
      "data.frame"
     ]
    },
    {
     "cell_type": "code",
     "collapsed": false,
     "input": [
      "from datetime import datetime\n",
      "import time\n",
      " \n",
      "# generate some fake tick data with 1 million observations\n",
      "n = 1000000\n",
      "df = pd.DataFrame({\n",
      "    \"timestamp\": [datetime.now() for t in range(n)],\n",
      "    \"value\": np.random.uniform(-1, 1, n)\n",
      "    })\n",
      " \n",
      "# similar dataframe operations to R\n",
      "df.head()"
     ],
     "language": "python",
     "outputs": []
    },
    {
     "cell_type": "code",
     "collapsed": false,
     "input": [
      "df.describe()"
     ],
     "language": "python",
     "outputs": []
    },
    {
     "cell_type": "code",
     "collapsed": false,
     "input": [
      "df.count() "
     ],
     "language": "python",
     "outputs": []
    },
    {
     "cell_type": "code",
     "collapsed": false,
     "input": [
      "# timing a basic operation on the data frame\n",
      "s = time.time(); df.describe(); e = time.time()-s;\n",
      "print e"
     ],
     "language": "python",
     "outputs": []
    },
    {
     "cell_type": "code",
     "collapsed": false,
     "input": [
      "# creating an index\n",
      "df['timestamp'] = pd.to_datetime(df['timestamp'])\n",
      "df['value'] = df['value'].cumsum()\n",
      "df.index = df['timestamp']\n",
      " \n",
      "# index improves performance\n",
      "s = time.time(); df.describe(); e = time.time()-s;\n",
      "print e"
     ],
     "language": "python",
     "outputs": []
    }
   ]
  }
 ]
}